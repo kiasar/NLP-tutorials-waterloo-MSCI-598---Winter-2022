{
  "nbformat": 4,
  "nbformat_minor": 0,
  "metadata": {
    "colab": {
      "name": "Python string part 2.ipynb",
      "provenance": []
    },
    "kernelspec": {
      "name": "python3",
      "display_name": "Python 3"
    },
    "language_info": {
      "name": "python"
    }
  },
  "cells": [
    {
      "cell_type": "markdown",
      "source": [
        "Hi\n",
        "\n",
        "In this tutorial we will look into python Regex\n",
        "\n",
        "### Python has a built-in package called re, which can be used to work with Regular Expressions.\n"
      ],
      "metadata": {
        "id": "QwoEzZTc2wM-"
      }
    },
    {
      "cell_type": "code",
      "execution_count": 1,
      "metadata": {
        "id": "9oNq4DSC2rxB"
      },
      "outputs": [],
      "source": [
        "import re"
      ]
    },
    {
      "cell_type": "markdown",
      "source": [
        "# Metacharacters\n",
        "\n",
        "you can search in a text But you should know some useful Metacharacters"
      ],
      "metadata": {
        "id": "aE0uE7CqAEoU"
      }
    },
    {
      "cell_type": "code",
      "source": [
        "# [] \tA set of characters, for example [a-d] = a b c d\n",
        "\n",
        "txt = \"Scooby-Doo is an American animated franchise comprising many animated television series produced from 1969 to the present\"\n",
        "\n",
        "x = re.findall(\"[b-e]\", txt) # find all characters between b and e\n",
        "print(x)\n",
        "\n",
        "# ^ means except\n",
        "x = re.findall(\"[^a-z ]\", txt) # find all characters between b and e\n",
        "print(x)"
      ],
      "metadata": {
        "id": "wu2hcYuS3qEG",
        "colab": {
          "base_uri": "https://localhost:8080/"
        },
        "outputId": "04befa49-2485-48a5-cf34-56e0eefc08ef"
      },
      "execution_count": 42,
      "outputs": [
        {
          "output_type": "stream",
          "name": "stdout",
          "text": [
            "['c', 'b', 'e', 'c', 'e', 'd', 'c', 'e', 'c', 'e', 'd', 'e', 'e', 'e', 'e', 'd', 'c', 'e', 'd', 'e', 'e', 'e']\n",
            "['S', '-', 'D', 'A', '1', '9', '6', '9']\n"
          ]
        }
      ]
    },
    {
      "cell_type": "code",
      "source": [
        "# . means any character except new line\n",
        "\n",
        "txt = \"Scooby-Doo is an American animated franchise comprising many animated television series produced from 1969 to the present\"\n",
        "\n",
        "x = re.findall(\"ani..t.d\", txt)\n",
        "print(x)"
      ],
      "metadata": {
        "colab": {
          "base_uri": "https://localhost:8080/"
        },
        "id": "SeKvsDtP-2jD",
        "outputId": "b08da142-08fb-44be-b7d9-5aba7db7113d"
      },
      "execution_count": 14,
      "outputs": [
        {
          "output_type": "stream",
          "name": "stdout",
          "text": [
            "['animated', 'animated']\n"
          ]
        }
      ]
    },
    {
      "cell_type": "code",
      "source": [
        "#  *\tZero or more occurrences\n",
        "#  +  One or more occurrences\n",
        "#  {} \tExactly the specified number of occurrences\n",
        "\n",
        "txt = \"Scooby-Doo is an American animated franchise comprising many animated television series produced from 1969 to the present\"\n",
        "\n",
        "x = re.findall(\"ani.*ed\", txt) # returns the longest\n",
        "print(x)\n",
        "\n",
        "x = re.findall(\"Sco+by\", txt)\n",
        "print(x)\n",
        "\n",
        "x = re.findall(\"Sco{2}by\", txt) \n",
        "print(x)"
      ],
      "metadata": {
        "colab": {
          "base_uri": "https://localhost:8080/"
        },
        "id": "WYylYo1eA5-i",
        "outputId": "30a3ee00-c9ca-404c-86a0-54dc1e072569"
      },
      "execution_count": 33,
      "outputs": [
        {
          "output_type": "stream",
          "name": "stdout",
          "text": [
            "['animated franchise comprising many animated television series produced']\n",
            "['Scooby']\n",
            "['Scooby']\n"
          ]
        }
      ]
    },
    {
      "cell_type": "code",
      "source": [
        "#  ?\tZero or more occurrences\n",
        "\n",
        "txt = \"Scooby-Doo is an American animated franchise comprising many animated television series produced from 1969 to the present\"\n",
        "\n",
        "x = re.findall(\"ani?.*ted?\", txt) # returns the longest\n",
        "print(x)"
      ],
      "metadata": {
        "colab": {
          "base_uri": "https://localhost:8080/"
        },
        "id": "7fMS_l1YBlyN",
        "outputId": "555724e4-9720-461b-90f6-29dd38fbe6d6"
      },
      "execution_count": 32,
      "outputs": [
        {
          "output_type": "stream",
          "name": "stdout",
          "text": [
            "['an American animated franchise comprising many animated te']\n"
          ]
        }
      ]
    },
    {
      "cell_type": "code",
      "source": [
        "# | Either or\n",
        "\n",
        "txt = \"Scooby-Doo is an American animated franchise comprising many animated television series produced from 1969 to the present\"\n",
        "\n",
        "x = re.findall(\"(Sco{2}by|Do*)\", txt) \n",
        "print(x)"
      ],
      "metadata": {
        "colab": {
          "base_uri": "https://localhost:8080/"
        },
        "id": "tQT516zgJsnZ",
        "outputId": "c0ee7bff-1111-4b85-e929-5b0904d0ab64"
      },
      "execution_count": 38,
      "outputs": [
        {
          "output_type": "stream",
          "name": "stdout",
          "text": [
            "['Scooby', 'Doo']\n"
          ]
        }
      ]
    },
    {
      "cell_type": "markdown",
      "source": [
        "There are more to this. You can take a look at https://docs.python.org/3/library/re.html"
      ],
      "metadata": {
        "id": "KTv39hRXNsLn"
      }
    },
    {
      "cell_type": "markdown",
      "source": [
        "# Functions\n",
        "there are many functions that you can use"
      ],
      "metadata": {
        "id": "9YPY1m4rSbsr"
      }
    },
    {
      "cell_type": "code",
      "source": [
        "# findall: you just saw many wxamples of that.\n",
        "\n",
        "txt = \"Scooby-Doo is an American animated franchise comprising many animated television series produced from 1969 to the present\"\n",
        "\n",
        "x = re.findall(\"(Sco{2}by|Do*)\", txt) \n",
        "print(x)"
      ],
      "metadata": {
        "colab": {
          "base_uri": "https://localhost:8080/"
        },
        "id": "HNkFYWBQLTkp",
        "outputId": "4232830c-3199-487d-fc27-1ae3617a51e0"
      },
      "execution_count": 43,
      "outputs": [
        {
          "output_type": "stream",
          "name": "stdout",
          "text": [
            "['Scooby', 'Doo']\n"
          ]
        }
      ]
    },
    {
      "cell_type": "code",
      "source": [
        "# split\n",
        "\n",
        "txt = \"Scooby-Doo is an American animated franchise comprising many animated television series produced from 1969 to the present\"\n",
        "\n",
        "x = re.split(\"American\", txt)\n",
        "print(x)"
      ],
      "metadata": {
        "colab": {
          "base_uri": "https://localhost:8080/"
        },
        "id": "-Mzj-0xkSr6g",
        "outputId": "f40c6567-b3d0-4eb8-8b6f-7cadcac532fe"
      },
      "execution_count": 48,
      "outputs": [
        {
          "output_type": "stream",
          "name": "stdout",
          "text": [
            "['Scooby-Doo is an ', ' animated franchise comprising many animated television series produced from 1969 to the present']\n"
          ]
        }
      ]
    },
    {
      "cell_type": "code",
      "source": [
        "# sub: it will replace\n",
        "\n",
        "txt = \"Scooby-Doo is an American animated franchise comprising many animated television series produced from 1969 to the present\"\n",
        "\n",
        "x = re.sub(\"American\", \"Canadian\",txt)\n",
        "print(x)"
      ],
      "metadata": {
        "colab": {
          "base_uri": "https://localhost:8080/"
        },
        "id": "--R8D37pTPXz",
        "outputId": "823d4470-f6dd-4ee6-8b07-a14a45917060"
      },
      "execution_count": 50,
      "outputs": [
        {
          "output_type": "stream",
          "name": "stdout",
          "text": [
            "Scooby-Doo is an Canadian animated franchise comprising many animated television series produced from 1969 to the present\n"
          ]
        }
      ]
    },
    {
      "cell_type": "code",
      "source": [
        "# search: it returns a Match object. You can do many things with it\n",
        "\n",
        "txt = \"Scooby-Doo is an American animated franchise comprising many animated television series produced from 1969 to the present\"\n",
        "\n",
        "x = re.search(\"animated\", txt) \n",
        "print(x)\n",
        "print(x.start())\n",
        "print(x.span()) \n",
        "print(x.string) \n",
        "print(x.group()) "
      ],
      "metadata": {
        "colab": {
          "base_uri": "https://localhost:8080/"
        },
        "id": "zonFHbInSomF",
        "outputId": "e623eb48-df36-4136-91df-4a36278df83e"
      },
      "execution_count": 56,
      "outputs": [
        {
          "output_type": "stream",
          "name": "stdout",
          "text": [
            "<re.Match object; span=(26, 34), match='animated'>\n",
            "26\n",
            "(26, 34)\n",
            "Scooby-Doo is an American animated franchise comprising many animated television series produced from 1969 to the present\n",
            "animated\n"
          ]
        }
      ]
    },
    {
      "cell_type": "code",
      "source": [
        ""
      ],
      "metadata": {
        "id": "VGRJSLBkUC18"
      },
      "execution_count": null,
      "outputs": []
    }
  ]
}