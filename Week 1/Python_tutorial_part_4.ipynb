{
  "nbformat": 4,
  "nbformat_minor": 0,
  "metadata": {
    "colab": {
      "name": "Python tutorial part 4.ipynb",
      "provenance": []
    },
    "kernelspec": {
      "name": "python3",
      "display_name": "Python 3"
    },
    "language_info": {
      "name": "python"
    }
  },
  "cells": [
    {
      "cell_type": "markdown",
      "source": [
        "# Python tutorial part 4\n",
        "\n",
        "In the part 3 we explore installing packages in google colab and accessing file in google colab."
      ],
      "metadata": {
        "id": "M9cc5z0bMWVl"
      }
    },
    {
      "cell_type": "code",
      "execution_count": 5,
      "metadata": {
        "id": "EXpHLDOKMTtq"
      },
      "outputs": [],
      "source": [
        "# these packages are pre installed in colab\n",
        "\n",
        "import tensorflow as tf\n",
        "from tensorflow.python import keras\n",
        "import gensim\n",
        "import sklearn\n",
        "import numpy"
      ]
    },
    {
      "cell_type": "code",
      "source": [
        "# but if you need to install a package ou can go by this\n",
        "\n",
        "! pip install gutenberg-cleaner"
      ],
      "metadata": {
        "colab": {
          "base_uri": "https://localhost:8080/"
        },
        "id": "r0c4Ds5xMWId",
        "outputId": "6fc905d8-8161-41f3-bbb8-fd1c5bba35c8"
      },
      "execution_count": 11,
      "outputs": [
        {
          "output_type": "stream",
          "name": "stdout",
          "text": [
            "Collecting gutenberg-cleaner\n",
            "  Downloading gutenberg_cleaner-0.1.6-py3-none-any.whl (7.4 kB)\n",
            "Requirement already satisfied: nltk in /usr/local/lib/python3.7/dist-packages (from gutenberg-cleaner) (3.2.5)\n",
            "Requirement already satisfied: six in /usr/local/lib/python3.7/dist-packages (from nltk->gutenberg-cleaner) (1.15.0)\n",
            "Installing collected packages: gutenberg-cleaner\n",
            "Successfully installed gutenberg-cleaner-0.1.6\n"
          ]
        }
      ]
    },
    {
      "cell_type": "code",
      "source": [
        "# you can access google drive files via this\n",
        "\n",
        "from google.colab import drive\n",
        "drive.mount('/content/drive')"
      ],
      "metadata": {
        "id": "a01-cSyWN83y"
      },
      "execution_count": null,
      "outputs": []
    }
  ]
}