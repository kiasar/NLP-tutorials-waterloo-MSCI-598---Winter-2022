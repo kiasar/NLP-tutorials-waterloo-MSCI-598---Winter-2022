{
  "nbformat": 4,
  "nbformat_minor": 0,
  "metadata": {
    "colab": {
      "name": "Scikit-Learn.ipynb",
      "provenance": []
    },
    "kernelspec": {
      "name": "python3",
      "display_name": "Python 3"
    },
    "language_info": {
      "name": "python"
    }
  },
  "cells": [
    {
      "cell_type": "markdown",
      "source": [
        "# SKlearn\n",
        "\n",
        "Scikit-learn is a free software machine learning library for the Python programming language. It features various classification, regression and clustering algorithms including support-vector machines, random forests, gradient boosting, k-means and DBSCAN, and is designed to interoperate with the Python numerical and scientific libraries NumPy and SciPy. (Wikipedia)"
      ],
      "metadata": {
        "id": "jmkGLId4iO_e"
      }
    },
    {
      "cell_type": "code",
      "execution_count": 7,
      "metadata": {
        "id": "M84wGb5Thtiw"
      },
      "outputs": [],
      "source": [
        "import sklearn"
      ]
    },
    {
      "cell_type": "markdown",
      "source": [
        "### Loading a sample data"
      ],
      "metadata": {
        "id": "1AioB6V3truA"
      }
    },
    {
      "cell_type": "code",
      "source": [
        "from sklearn.datasets import fetch_california_housing"
      ],
      "metadata": {
        "id": "1TMoWfEIl3NL"
      },
      "execution_count": 101,
      "outputs": []
    },
    {
      "cell_type": "code",
      "source": [
        "x_data, y_data = fetch_california_housing(return_X_y=True)\n",
        "\n",
        "print(x_data) # properties of the houses\n",
        "print(\"----------------------------\")\n",
        "print(y_data) # house prices"
      ],
      "metadata": {
        "colab": {
          "base_uri": "https://localhost:8080/"
        },
        "id": "YlkACcAbmAqh",
        "outputId": "2dab57ec-b921-426f-fdd0-19401fa4e2da"
      },
      "execution_count": 102,
      "outputs": [
        {
          "output_type": "stream",
          "name": "stdout",
          "text": [
            "[[   8.3252       41.            6.98412698 ...    2.55555556\n",
            "    37.88       -122.23      ]\n",
            " [   8.3014       21.            6.23813708 ...    2.10984183\n",
            "    37.86       -122.22      ]\n",
            " [   7.2574       52.            8.28813559 ...    2.80225989\n",
            "    37.85       -122.24      ]\n",
            " ...\n",
            " [   1.7          17.            5.20554273 ...    2.3256351\n",
            "    39.43       -121.22      ]\n",
            " [   1.8672       18.            5.32951289 ...    2.12320917\n",
            "    39.43       -121.32      ]\n",
            " [   2.3886       16.            5.25471698 ...    2.61698113\n",
            "    39.37       -121.24      ]]\n",
            "----------------------------\n",
            "[4.526 3.585 3.521 ... 0.923 0.847 0.894]\n"
          ]
        }
      ]
    },
    {
      "cell_type": "code",
      "source": [
        "x_data[0]"
      ],
      "metadata": {
        "colab": {
          "base_uri": "https://localhost:8080/"
        },
        "id": "sdDIu4XXCqTA",
        "outputId": "a8b88693-3fb9-420f-ebd1-285289b7d7fb"
      },
      "execution_count": 104,
      "outputs": [
        {
          "output_type": "execute_result",
          "data": {
            "text/plain": [
              "array([   8.3252    ,   41.        ,    6.98412698,    1.02380952,\n",
              "        322.        ,    2.55555556,   37.88      , -122.23      ])"
            ]
          },
          "metadata": {},
          "execution_count": 104
        }
      ]
    },
    {
      "cell_type": "code",
      "source": [
        "what_we_want_to_predict = [\n",
        "         [ 8.3252    ,   41.        ,    6.98412698,    1.02380952,\n",
        "        322.        ,    2.55555556,   37.88      , -122.23      ],\n",
        "         [ 5.3252    ,   24.        ,    6.98412698,    2.02380952,\n",
        "        232.        ,    2.55555556,   57.88      , -102.23      ]\n",
        "]"
      ],
      "metadata": {
        "id": "EzjCdr49y1Kw"
      },
      "execution_count": 105,
      "outputs": []
    },
    {
      "cell_type": "markdown",
      "source": [
        "### Spliting the data into traning and test"
      ],
      "metadata": {
        "id": "_KZjr1zm9OE9"
      }
    },
    {
      "cell_type": "code",
      "source": [
        "from sklearn.model_selection import train_test_split\n",
        "\n",
        "x, x_val, y, y_val = train_test_split(x_data , y_data, random_state=1 )"
      ],
      "metadata": {
        "id": "PJSpISEx9SSo"
      },
      "execution_count": 106,
      "outputs": []
    },
    {
      "cell_type": "markdown",
      "source": [
        "### Regression"
      ],
      "metadata": {
        "id": "HXy5Ju9z9xs5"
      }
    },
    {
      "cell_type": "code",
      "source": [
        "# Regresion with Linear Regresion\n",
        "from sklearn.linear_model import LinearRegression\n",
        "\n",
        "model1 = LinearRegression()\n",
        "model1.fit(x, y)\n",
        "model1.predict(what_we_want_to_predict)"
      ],
      "metadata": {
        "colab": {
          "base_uri": "https://localhost:8080/"
        },
        "id": "U_0OoOfDy9jp",
        "outputId": "2ec3a717-3211-4891-b68f-638ba8a471b4"
      },
      "execution_count": 107,
      "outputs": [
        {
          "output_type": "execute_result",
          "data": {
            "text/plain": [
              "array([  4.16781256, -13.96170562])"
            ]
          },
          "metadata": {},
          "execution_count": 107
        }
      ]
    },
    {
      "cell_type": "code",
      "source": [
        "# Regresion with K neighbors\n",
        "from sklearn.neighbors import KNeighborsRegressor\n",
        "\n",
        "model2 = KNeighborsRegressor()\n",
        "model2.fit(x, y)\n",
        "model2.predict(what_we_want_to_predict)"
      ],
      "metadata": {
        "colab": {
          "base_uri": "https://localhost:8080/"
        },
        "id": "eQHCGCFNmJ8p",
        "outputId": "794f1640-469c-4504-f978-dd4bdbf2bd58"
      },
      "execution_count": 108,
      "outputs": [
        {
          "output_type": "execute_result",
          "data": {
            "text/plain": [
              "array([2.826802, 0.8848  ])"
            ]
          },
          "metadata": {},
          "execution_count": 108
        }
      ]
    },
    {
      "cell_type": "markdown",
      "source": [
        "### Visualisation"
      ],
      "metadata": {
        "id": "ur0xk0cwzr47"
      }
    },
    {
      "cell_type": "code",
      "source": [
        "import matplotlib.pylab as plt\n",
        "\n",
        "predicted1 = model1.predict(x_val)\n",
        "predicted2 = model2.predict(x_val)\n",
        "\n",
        "plt.scatter(predicted1, y_val)\n",
        "plt.scatter(predicted2, y_val)"
      ],
      "metadata": {
        "colab": {
          "base_uri": "https://localhost:8080/",
          "height": 283
        },
        "id": "5b9rbq6rxjdW",
        "outputId": "14e8eaf1-a8e9-4f93-c6d4-c1a7975988ae"
      },
      "execution_count": 109,
      "outputs": [
        {
          "output_type": "execute_result",
          "data": {
            "text/plain": [
              "<matplotlib.collections.PathCollection at 0x7fb4586330d0>"
            ]
          },
          "metadata": {},
          "execution_count": 109
        },
        {
          "output_type": "display_data",
          "data": {
            "image/png": "[encoded data removed]",
            "text/plain": [
              "<Figure size 432x288 with 1 Axes>"
            ]
          },
          "metadata": {
            "needs_background": "light"
          }
        }
      ]
    },
    {
      "cell_type": "markdown",
      "source": [
        "# Pipeline\n",
        "\n",
        "Sequentially apply a list of transforms and a final estimator. Intermediate steps of the pipeline must be ‘transforms’, that is, they must implement fit and transform methods."
      ],
      "metadata": {
        "id": "gaDhykLt14Gw"
      }
    },
    {
      "cell_type": "code",
      "source": [
        "# We want to first normalize the data and then do the regression\n",
        "# WHAT YOU SHOULD NOT DO\n",
        "from sklearn.preprocessing import StandardScaler\n",
        "\n",
        "scale = StandardScaler()\n",
        "scale.fit(x,y)\n",
        "x_new = scale.transform(x)\n",
        "\n",
        "temp_model = KNeighborsRegressor().fit(x_new,y)\n",
        "# And so on\n",
        "# DO NOT DO LIKE THIS"
      ],
      "metadata": {
        "id": "JB0dYz4r3pNY"
      },
      "execution_count": 110,
      "outputs": []
    },
    {
      "cell_type": "code",
      "source": [
        "# WHAT YOU SHOULD DO\n",
        "from sklearn.pipeline import Pipeline\n",
        "\n",
        "pipe1 = Pipeline([\n",
        "                  (\"Scale\", StandardScaler()),\n",
        "                  (\"Model\", KNeighborsRegressor())\n",
        "])\n",
        "\n",
        "pipe1.fit(x, y)\n",
        "pipe1.predict(what_we_want_to_predict)"
      ],
      "metadata": {
        "colab": {
          "base_uri": "https://localhost:8080/"
        },
        "id": "zJ2Ghv9S0Huh",
        "outputId": "020ccb28-a731-4c7b-84f9-5bec67c5ec01"
      },
      "execution_count": 111,
      "outputs": [
        {
          "output_type": "execute_result",
          "data": {
            "text/plain": [
              "array([4.661406, 0.5306  ])"
            ]
          },
          "metadata": {},
          "execution_count": 111
        }
      ]
    },
    {
      "cell_type": "code",
      "source": [
        "predicted3 = pipe1.predict(x_val)\n",
        "predicted2 = model2.predict(x_val)\n",
        "\n",
        "plt.scatter(predicted3, y_val)\n",
        "plt.scatter(predicted2, y_val)"
      ],
      "metadata": {
        "colab": {
          "base_uri": "https://localhost:8080/",
          "height": 283
        },
        "id": "gHThCyq63Nkb",
        "outputId": "40939551-5661-4fc3-c23d-57921d526b92"
      },
      "execution_count": 112,
      "outputs": [
        {
          "output_type": "execute_result",
          "data": {
            "text/plain": [
              "<matplotlib.collections.PathCollection at 0x7fb458fb9310>"
            ]
          },
          "metadata": {},
          "execution_count": 112
        },
        {
          "output_type": "display_data",
          "data": {
            "image/png": "[encoded data removed]",
            "text/plain": [
              "<Figure size 432x288 with 1 Axes>"
            ]
          },
          "metadata": {
            "needs_background": "light"
          }
        }
      ]
    },
    {
      "cell_type": "markdown",
      "source": [
        "## NLP"
      ],
      "metadata": {
        "id": "oBLespvJIOPi"
      }
    },
    {
      "cell_type": "code",
      "source": [
        "from sklearn.datasets import fetch_20newsgroups\n",
        "\n",
        "# ''' http://qwone.com/~jason/20Newsgroups/\n",
        "# The 20 Newsgroups data set is a collection of approximately 20,000 newsgroup documents,\n",
        "# partitioned (nearly) evenly across 20 different newsgroups. To the best of our knowledge,\n",
        "# it was originally collected by Ken Lang, probably for his paper “Newsweeder: Learning to filter netnews,”\n",
        "# though he does not explicitly mention this collection.\n",
        "# The 20 newsgroups collection has become a popular data set for experiments in text applications of machine learning techniques,\n",
        "# such as text classification and text clustering.\n",
        "# '''\n",
        "\n",
        "\n",
        "# we only work in 4 catagories categories out of the 20 available in the dataset\n",
        "categories = ['alt.atheism', 'soc.religion.christian',\n",
        "              'comp.graphics', 'sci.med'] \n",
        "              \n",
        "twenty_train = fetch_20newsgroups(\n",
        "    subset='train', categories=categories, shuffle=True, random_state=42)"
      ],
      "metadata": {
        "id": "TqFCFS_D9A7I"
      },
      "execution_count": 118,
      "outputs": []
    },
    {
      "cell_type": "code",
      "source": [
        "print(len(twenty_train.data))\n",
        "print()\n",
        "print(\"\\n\".join(twenty_train.data[0].split(\"\\n\")[:3])) # print the fist line\n",
        "print()\n",
        "print(twenty_train.target_names[twenty_train.target[0]]) # first category\n",
        "# We should use 'target_names' because the original caregories are number\n",
        "# it is shown below"
      ],
      "metadata": {
        "colab": {
          "base_uri": "https://localhost:8080/"
        },
        "id": "fRa0wTXBIUfs",
        "outputId": "8d628026-1cb3-46c5-af9c-1aa43d8147e8"
      },
      "execution_count": 123,
      "outputs": [
        {
          "output_type": "stream",
          "name": "stdout",
          "text": [
            "2257\n",
            "\n",
            "From: sd345@city.ac.uk (Michael Collier)\n",
            "Subject: Converting images to HP LaserJet III?\n",
            "Nntp-Posting-Host: hampton\n",
            "\n",
            "comp.graphics\n"
          ]
        }
      ]
    },
    {
      "cell_type": "code",
      "source": [
        "print(twenty_train.target[:5]) # category for each\n",
        "print([twenty_train.target_names[i] for i in twenty_train.target[:5]])"
      ],
      "metadata": {
        "colab": {
          "base_uri": "https://localhost:8080/"
        },
        "id": "7fNy7ABLIgkV",
        "outputId": "751b613e-4e10-4a08-a11f-e7a31dd39f7f"
      },
      "execution_count": 129,
      "outputs": [
        {
          "output_type": "stream",
          "name": "stdout",
          "text": [
            "[1 1 3 3 3]\n",
            "['comp.graphics', 'comp.graphics', 'soc.religion.christian', 'soc.religion.christian', 'soc.religion.christian']\n"
          ]
        }
      ]
    },
    {
      "cell_type": "markdown",
      "source": [
        "## Extracting features from text files\n",
        "### Bags of words\n",
        "\n",
        "\n",
        "\n",
        "1. Assign a fixed integer id to each word occurring in any document of the \n",
        "training set (for instance by building a dictionary from words to integer indices).\n",
        "2. or each document #i, count the number of occurrences of each word w and store it in X[i, j] as the value of feature #j where j is the index of word w in the dictionary.\n",
        "\n"
      ],
      "metadata": {
        "id": "Et-a7ox0NBj_"
      }
    },
    {
      "cell_type": "code",
      "source": [
        "from sklearn.feature_extraction.text import CountVectorizer\n",
        "# Text preprocessing, tokenizing and filtering of stopwords are all included in CountVectorizer,\n",
        "# which builds a dictionary of features and transforms documents to feature vectors\n",
        "\n",
        "count_vect = CountVectorizer()\n",
        "X_train_counts = count_vect.fit_transform(twenty_train.data)\n",
        "X_train_counts.shape"
      ],
      "metadata": {
        "colab": {
          "base_uri": "https://localhost:8080/"
        },
        "id": "8Q4QNPaxMEuc",
        "outputId": "5e6b3fbc-06bc-4ac5-f51e-7e0245b003de"
      },
      "execution_count": 130,
      "outputs": [
        {
          "output_type": "execute_result",
          "data": {
            "text/plain": [
              "(2257, 35788)"
            ]
          },
          "metadata": {},
          "execution_count": 130
        }
      ]
    },
    {
      "cell_type": "code",
      "source": [
        "count_vect.vocabulary_.get('car')"
      ],
      "metadata": {
        "colab": {
          "base_uri": "https://localhost:8080/"
        },
        "id": "jc6xFUM8M44w",
        "outputId": "00aa5744-45f7-4ee5-9b0f-491622f44c7b"
      },
      "execution_count": 133,
      "outputs": [
        {
          "output_type": "execute_result",
          "data": {
            "text/plain": [
              "7860"
            ]
          },
          "metadata": {},
          "execution_count": 133
        }
      ]
    },
    {
      "cell_type": "markdown",
      "source": [
        "### tf–idf\n",
        "\n",
        " tf–idf for “Term Frequency times Inverse Document Frequency”.\n"
      ],
      "metadata": {
        "id": "UhcL6pVfPGHF"
      }
    },
    {
      "cell_type": "code",
      "source": [
        "from sklearn.feature_extraction.text import TfidfTransformer\n",
        "\n",
        "tfidf_transformer = TfidfTransformer(use_idf=False).fit(X_train_counts)\n",
        "X_train_tfidf = tf_transformer.transform(X_train_counts)\n",
        "X_train_tfidf.shape"
      ],
      "metadata": {
        "colab": {
          "base_uri": "https://localhost:8080/"
        },
        "id": "Ps2Rh_HIOkaX",
        "outputId": "a6a5b0e8-f6aa-4615-de98-77d6cc5343b2"
      },
      "execution_count": 139,
      "outputs": [
        {
          "output_type": "execute_result",
          "data": {
            "text/plain": [
              "(2257, 35788)"
            ]
          },
          "metadata": {},
          "execution_count": 139
        }
      ]
    },
    {
      "cell_type": "markdown",
      "source": [
        "### Training a classifier\n",
        "\n",
        "#### naive bayes"
      ],
      "metadata": {
        "id": "BHlV-JL4Qbyt"
      }
    },
    {
      "cell_type": "code",
      "source": [
        "# Making the model \n",
        "\n",
        "from sklearn.naive_bayes import MultinomialNB\n",
        "clf = MultinomialNB().fit(X_train_tfidf, twenty_train.target)"
      ],
      "metadata": {
        "id": "K7CWlOw2Qa-0"
      },
      "execution_count": 137,
      "outputs": []
    },
    {
      "cell_type": "code",
      "source": [
        "# using the model\n",
        "\n",
        "docs_new = ['God is love', 'OpenGL on the GPU is fast']\n",
        "X_new_counts = count_vect.transform(docs_new)\n",
        "X_new_tfidf = tfidf_transformer.transform(X_new_counts)\n",
        "\n",
        "predicted = clf.predict(X_new_tfidf)\n",
        "\n",
        "print(predicted)\n",
        "print([twenty_train.target_names[i] for i in predicted])\n"
      ],
      "metadata": {
        "colab": {
          "base_uri": "https://localhost:8080/"
        },
        "id": "0t2fJ4RhPPAK",
        "outputId": "add5c27d-9f2e-4dcf-a9a8-677befd40b24"
      },
      "execution_count": 143,
      "outputs": [
        {
          "output_type": "stream",
          "name": "stdout",
          "text": [
            "[3 1]\n",
            "['soc.religion.christian', 'comp.graphics']\n"
          ]
        }
      ]
    },
    {
      "cell_type": "code",
      "source": [
        "# How to do it with pipline!? Do this all like this\n",
        "\n",
        "text_clf = Pipeline([\n",
        "    ('vect', CountVectorizer()),\n",
        "    ('tfidf', TfidfTransformer()),\n",
        "    ('clf', MultinomialNB()),\n",
        "])\n",
        "\n",
        "text_clf.fit(twenty_train.data, twenty_train.target)\n",
        "\n",
        "predicted = text_clf.predict(docs_new)\n",
        "print(predicted)\n",
        "print([twenty_train.target_names[i] for i in predicted])\n"
      ],
      "metadata": {
        "colab": {
          "base_uri": "https://localhost:8080/"
        },
        "id": "qtTywhJXR0aJ",
        "outputId": "ba0d45ae-20da-4aa0-c656-bda2517164f1"
      },
      "execution_count": 147,
      "outputs": [
        {
          "output_type": "stream",
          "name": "stdout",
          "text": [
            "[3 1]\n",
            "['soc.religion.christian', 'comp.graphics']\n"
          ]
        }
      ]
    },
    {
      "cell_type": "markdown",
      "source": [
        "### Accuracy"
      ],
      "metadata": {
        "id": "78n9EHtbVmw8"
      }
    },
    {
      "cell_type": "code",
      "source": [
        "import numpy as np\n",
        "\n",
        "twenty_test = fetch_20newsgroups(subset='test',\n",
        "    categories=categories, shuffle=True, random_state=42)\n",
        "\n",
        "docs_test = twenty_test.data\n",
        "predicted = text_clf.predict(docs_test)\n",
        "np.mean(predicted == twenty_test.target)"
      ],
      "metadata": {
        "colab": {
          "base_uri": "https://localhost:8080/"
        },
        "id": "mLf6inHYVmOp",
        "outputId": "cf57307d-890a-458f-eecc-1a1354a3807c"
      },
      "execution_count": 148,
      "outputs": [
        {
          "output_type": "execute_result",
          "data": {
            "text/plain": [
              "0.8348868175765646"
            ]
          },
          "metadata": {},
          "execution_count": 148
        }
      ]
    },
    {
      "cell_type": "code",
      "source": [
        "# resources: https://github.com/koaning/calm-notebooks/blob/master/scikit-learn/scikit-learn.ipynb and https://scikit-learn.org/stable/tutorial/text_analytics/working_with_text_data.html"
      ],
      "metadata": {
        "id": "tZ9qtk4QS09O"
      },
      "execution_count": null,
      "outputs": []
    }
  ]
}