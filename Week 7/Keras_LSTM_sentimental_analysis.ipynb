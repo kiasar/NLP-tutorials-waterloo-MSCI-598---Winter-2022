{
  "nbformat": 4,
  "nbformat_minor": 0,
  "metadata": {
    "colab": {
      "name": "Keras LSTM sentimental analysis.ipynb",
      "provenance": []
    },
    "kernelspec": {
      "name": "python3",
      "display_name": "Python 3"
    },
    "language_info": {
      "name": "python"
    },
    "accelerator": "GPU"
  },
  "cells": [
    {
      "cell_type": "code",
      "execution_count": 1,
      "metadata": {
        "id": "z4NWhtzpNkGA"
      },
      "outputs": [],
      "source": [
        "import os\n",
        "import gensim\n",
        "import keras\n",
        "import numpy as np\n",
        "import pandas as pd\n",
        "\n",
        "from sklearn.model_selection import train_test_split\n",
        "\n",
        "from keras.models import Sequential\n",
        "from keras.layers import Input, Dense, LSTM, Embedding, Dropout, BatchNormalization, Activation, Bidirectional\n",
        "from keras.preprocessing.text import text_to_word_sequence, Tokenizer\n",
        "from keras.preprocessing.sequence import pad_sequences\n",
        "\n",
        "import matplotlib as mpl\n",
        "%matplotlib inline\n",
        "from matplotlib import pyplot as plt\n",
        "from keras.utils.vis_utils import plot_model\n",
        "from IPython.display import Image\n",
        "\n",
        "np.random.seed(1003)"
      ]
    },
    {
      "cell_type": "code",
      "source": [
        "print(gensim.__version__)\n",
        "print(keras.__version__)"
      ],
      "metadata": {
        "colab": {
          "base_uri": "https://localhost:8080/"
        },
        "id": "kvxRIfBnNyQL",
        "outputId": "04a932f4-84da-4be4-d29b-f11a736624b9"
      },
      "execution_count": 2,
      "outputs": [
        {
          "output_type": "stream",
          "name": "stdout",
          "text": [
            "3.6.0\n",
            "2.8.0\n"
          ]
        }
      ]
    },
    {
      "cell_type": "code",
      "source": [
        "# This code is to download GoogleNews word vectors if you don't have it\n",
        "\n",
        "# ! wget -c \"https://s3.amazonaws.com/dl4j-distribution/GoogleNews-vectors-negative300.bin.gz\"\n",
        "# ! gzip -d GoogleNews-vectors-negative300.bin.gz"
      ],
      "metadata": {
        "id": "rl3hEDoLVdkt"
      },
      "execution_count": 3,
      "outputs": []
    },
    {
      "cell_type": "code",
      "source": [
        ""
      ],
      "metadata": {
        "id": "43h1xO9XVryd"
      },
      "execution_count": 3,
      "outputs": []
    },
    {
      "cell_type": "markdown",
      "source": [
        "\n",
        "## Specify Hyperparameters\n"
      ],
      "metadata": {
        "id": "W2JYskX5PWr-"
      }
    },
    {
      "cell_type": "code",
      "source": [
        "# Specify the folder locations\n",
        "\n",
        "DATA_DIR = 'drive/MyDrive/Tutorial/week 7/'\n",
        "# You can download the GoogleNews Vectors from https://s3.amazonaws.com/dl4j-distribution/GoogleNews-vectors-negative300.bin.gz\n",
        "W2V_DIR = 'drive/MyDrive/Tutorial/week 7/GoogleNews-vectors-negative300.bin'\n",
        "\n",
        "# These are some hyperparameters that can be tuned\n",
        "MAX_SENT_LEN = 30\n",
        "MAX_VOCAB_SIZE = 20000\n",
        "LSTM_DIM = 128\n",
        "EMBEDDING_DIM = 300\n",
        "BATCH_SIZE = 32\n",
        "N_EPOCHS = 10"
      ],
      "metadata": {
        "id": "YxvorWCvPHsT"
      },
      "execution_count": 4,
      "outputs": []
    },
    {
      "cell_type": "markdown",
      "source": [
        "\n",
        "## Load Data"
      ],
      "metadata": {
        "id": "iyQu7fHhQNI0"
      }
    },
    {
      "cell_type": "code",
      "source": [
        "# Read the text files of positive and negative sentences\n",
        "with open(DATA_DIR+'rt-polarity.neg', 'r', errors='ignore') as f:\n",
        "    neg = f.readlines()\n",
        "    \n",
        "with open(DATA_DIR+'rt-polarity.pos', 'r', errors='ignore') as f:\n",
        "    pos = f.readlines()"
      ],
      "metadata": {
        "id": "NNdTdvULPaVL"
      },
      "execution_count": 5,
      "outputs": []
    },
    {
      "cell_type": "code",
      "source": [
        "print('Number of negative sentences:', len(neg))\n",
        "print('Number of positive sentences:', len(pos))"
      ],
      "metadata": {
        "colab": {
          "base_uri": "https://localhost:8080/"
        },
        "id": "fsrQUwIoQkLS",
        "outputId": "321669a3-d00d-4d69-c413-d74b8ae7d73b"
      },
      "execution_count": 6,
      "outputs": [
        {
          "output_type": "stream",
          "name": "stdout",
          "text": [
            "Number of negative sentences: 5331\n",
            "Number of positive sentences: 5331\n"
          ]
        }
      ]
    },
    {
      "cell_type": "code",
      "source": [
        "# Create a dataframe to store the sentence and polarity as 2 columns\n",
        "df = pd.DataFrame(columns=['sentence', 'polarity'])\n",
        "df['sentence'] = neg + pos\n",
        "df['polarity'] = [0]*len(neg) + [1]*len(pos)\n",
        "df = df.sample(frac=1, random_state=10) # Shuffle the rows\n",
        "df.reset_index(inplace=True, drop=True)"
      ],
      "metadata": {
        "id": "qUesHGyjQ0DI"
      },
      "execution_count": 7,
      "outputs": []
    },
    {
      "cell_type": "code",
      "source": [
        "df"
      ],
      "metadata": {
        "colab": {
          "base_uri": "https://localhost:8080/",
          "height": 424
        },
        "id": "_oGVaDC8Q41E",
        "outputId": "05a32558-071f-4909-eb06-74d3cf22954d"
      },
      "execution_count": 8,
      "outputs": [
        {
          "output_type": "execute_result",
          "data": {
            "text/html": [
              "\n",
              "  <div id=\"df-78f979b0-0d81-4112-bb22-38996cd76509\">\n",
              "    <div class=\"colab-df-container\">\n",
              "      <div>\n",
              "<style scoped>\n",
              "    .dataframe tbody tr th:only-of-type {\n",
              "        vertical-align: middle;\n",
              "    }\n",
              "\n",
              "    .dataframe tbody tr th {\n",
              "        vertical-align: top;\n",
              "    }\n",
              "\n",
              "    .dataframe thead th {\n",
              "        text-align: right;\n",
              "    }\n",
              "</style>\n",
              "<table border=\"1\" class=\"dataframe\">\n",
              "  <thead>\n",
              "    <tr style=\"text-align: right;\">\n",
              "      <th></th>\n",
              "      <th>sentence</th>\n",
              "      <th>polarity</th>\n",
              "    </tr>\n",
              "  </thead>\n",
              "  <tbody>\n",
              "    <tr>\n",
              "      <th>0</th>\n",
              "      <td>funny , somber , absurd , and , finally , achi...</td>\n",
              "      <td>1</td>\n",
              "    </tr>\n",
              "    <tr>\n",
              "      <th>1</th>\n",
              "      <td>moore's complex and important film is also , b...</td>\n",
              "      <td>1</td>\n",
              "    </tr>\n",
              "    <tr>\n",
              "      <th>2</th>\n",
              "      <td>[scherfig] has made a movie that will leave yo...</td>\n",
              "      <td>1</td>\n",
              "    </tr>\n",
              "    <tr>\n",
              "      <th>3</th>\n",
              "      <td>the powerful success of read my lips with such...</td>\n",
              "      <td>1</td>\n",
              "    </tr>\n",
              "    <tr>\n",
              "      <th>4</th>\n",
              "      <td>the film is filled with humorous observations ...</td>\n",
              "      <td>1</td>\n",
              "    </tr>\n",
              "    <tr>\n",
              "      <th>...</th>\n",
              "      <td>...</td>\n",
              "      <td>...</td>\n",
              "    </tr>\n",
              "    <tr>\n",
              "      <th>10657</th>\n",
              "      <td>this is one of the outstanding thrillers of re...</td>\n",
              "      <td>1</td>\n",
              "    </tr>\n",
              "    <tr>\n",
              "      <th>10658</th>\n",
              "      <td>beautifully produced . \\n</td>\n",
              "      <td>1</td>\n",
              "    </tr>\n",
              "    <tr>\n",
              "      <th>10659</th>\n",
              "      <td>life or something like it has its share of hig...</td>\n",
              "      <td>0</td>\n",
              "    </tr>\n",
              "    <tr>\n",
              "      <th>10660</th>\n",
              "      <td>even if you don't understand what on earth is ...</td>\n",
              "      <td>1</td>\n",
              "    </tr>\n",
              "    <tr>\n",
              "      <th>10661</th>\n",
              "      <td>with tiny little jokes and nary an original id...</td>\n",
              "      <td>0</td>\n",
              "    </tr>\n",
              "  </tbody>\n",
              "</table>\n",
              "<p>10662 rows × 2 columns</p>\n",
              "</div>\n",
              "      <button class=\"colab-df-convert\" onclick=\"convertToInteractive('df-78f979b0-0d81-4112-bb22-38996cd76509')\"\n",
              "              title=\"Convert this dataframe to an interactive table.\"\n",
              "              style=\"display:none;\">\n",
              "        \n",
              "  <svg xmlns=\"http://www.w3.org/2000/svg\" height=\"24px\"viewBox=\"0 0 24 24\"\n",
              "       width=\"24px\">\n",
              "    <path d=\"M0 0h24v24H0V0z\" fill=\"none\"/>\n",
              "    <path d=\"M18.56 5.44l.94 2.06.94-2.06 2.06-.94-2.06-.94-.94-2.06-.94 2.06-2.06.94zm-11 1L8.5 8.5l.94-2.06 2.06-.94-2.06-.94L8.5 2.5l-.94 2.06-2.06.94zm10 10l.94 2.06.94-2.06 2.06-.94-2.06-.94-.94-2.06-.94 2.06-2.06.94z\"/><path d=\"M17.41 7.96l-1.37-1.37c-.4-.4-.92-.59-1.43-.59-.52 0-1.04.2-1.43.59L10.3 9.45l-7.72 7.72c-.78.78-.78 2.05 0 2.83L4 21.41c.39.39.9.59 1.41.59.51 0 1.02-.2 1.41-.59l7.78-7.78 2.81-2.81c.8-.78.8-2.07 0-2.86zM5.41 20L4 18.59l7.72-7.72 1.47 1.35L5.41 20z\"/>\n",
              "  </svg>\n",
              "      </button>\n",
              "      \n",
              "  <style>\n",
              "    .colab-df-container {\n",
              "      display:flex;\n",
              "      flex-wrap:wrap;\n",
              "      gap: 12px;\n",
              "    }\n",
              "\n",
              "    .colab-df-convert {\n",
              "      background-color: #E8F0FE;\n",
              "      border: none;\n",
              "      border-radius: 50%;\n",
              "      cursor: pointer;\n",
              "      display: none;\n",
              "      fill: #1967D2;\n",
              "      height: 32px;\n",
              "      padding: 0 0 0 0;\n",
              "      width: 32px;\n",
              "    }\n",
              "\n",
              "    .colab-df-convert:hover {\n",
              "      background-color: #E2EBFA;\n",
              "      box-shadow: 0px 1px 2px rgba(60, 64, 67, 0.3), 0px 1px 3px 1px rgba(60, 64, 67, 0.15);\n",
              "      fill: #174EA6;\n",
              "    }\n",
              "\n",
              "    [theme=dark] .colab-df-convert {\n",
              "      background-color: #3B4455;\n",
              "      fill: #D2E3FC;\n",
              "    }\n",
              "\n",
              "    [theme=dark] .colab-df-convert:hover {\n",
              "      background-color: #434B5C;\n",
              "      box-shadow: 0px 1px 3px 1px rgba(0, 0, 0, 0.15);\n",
              "      filter: drop-shadow(0px 1px 2px rgba(0, 0, 0, 0.3));\n",
              "      fill: #FFFFFF;\n",
              "    }\n",
              "  </style>\n",
              "\n",
              "      <script>\n",
              "        const buttonEl =\n",
              "          document.querySelector('#df-78f979b0-0d81-4112-bb22-38996cd76509 button.colab-df-convert');\n",
              "        buttonEl.style.display =\n",
              "          google.colab.kernel.accessAllowed ? 'block' : 'none';\n",
              "\n",
              "        async function convertToInteractive(key) {\n",
              "          const element = document.querySelector('#df-78f979b0-0d81-4112-bb22-38996cd76509');\n",
              "          const dataTable =\n",
              "            await google.colab.kernel.invokeFunction('convertToInteractive',\n",
              "                                                     [key], {});\n",
              "          if (!dataTable) return;\n",
              "\n",
              "          const docLinkHtml = 'Like what you see? Visit the ' +\n",
              "            '<a target=\"_blank\" href=https://colab.research.google.com/notebooks/data_table.ipynb>data table notebook</a>'\n",
              "            + ' to learn more about interactive tables.';\n",
              "          element.innerHTML = '';\n",
              "          dataTable['output_type'] = 'display_data';\n",
              "          await google.colab.output.renderOutput(dataTable, element);\n",
              "          const docLink = document.createElement('div');\n",
              "          docLink.innerHTML = docLinkHtml;\n",
              "          element.appendChild(docLink);\n",
              "        }\n",
              "      </script>\n",
              "    </div>\n",
              "  </div>\n",
              "  "
            ],
            "text/plain": [
              "                                                sentence  polarity\n",
              "0      funny , somber , absurd , and , finally , achi...         1\n",
              "1      moore's complex and important film is also , b...         1\n",
              "2      [scherfig] has made a movie that will leave yo...         1\n",
              "3      the powerful success of read my lips with such...         1\n",
              "4      the film is filled with humorous observations ...         1\n",
              "...                                                  ...       ...\n",
              "10657  this is one of the outstanding thrillers of re...         1\n",
              "10658                          beautifully produced . \\n         1\n",
              "10659  life or something like it has its share of hig...         0\n",
              "10660  even if you don't understand what on earth is ...         1\n",
              "10661  with tiny little jokes and nary an original id...         0\n",
              "\n",
              "[10662 rows x 2 columns]"
            ]
          },
          "metadata": {},
          "execution_count": 8
        }
      ]
    },
    {
      "cell_type": "markdown",
      "source": [
        "## Pre-processing "
      ],
      "metadata": {
        "id": "b9sOHqMBShe1"
      }
    },
    {
      "cell_type": "code",
      "source": [
        "# Pre-processing involves removal of puctuations and converting text to lower case\n",
        "word_seq = [text_to_word_sequence(sent) for sent in df['sentence']]\n",
        "print('90th Percentile Sentence Length:', np.percentile([len(seq) for seq in word_seq], 90))\n",
        "\n",
        "tokenizer = Tokenizer(num_words=MAX_VOCAB_SIZE)\n",
        "tokenizer.fit_on_texts([' '.join(seq[:MAX_SENT_LEN]) for seq in word_seq])\n",
        "\n",
        "print(\"Number of words in vocabulary:\", len(tokenizer.word_index))"
      ],
      "metadata": {
        "colab": {
          "base_uri": "https://localhost:8080/"
        },
        "id": "nDTY-miyQ6aE",
        "outputId": "4ba5f444-7480-4a0d-812c-2ec8276c3df5"
      },
      "execution_count": 9,
      "outputs": [
        {
          "output_type": "stream",
          "name": "stdout",
          "text": [
            "90th Percentile Sentence Length: 31.0\n",
            "Number of words in vocabulary: 19180\n"
          ]
        }
      ]
    },
    {
      "cell_type": "code",
      "source": [
        "word_seq[0]"
      ],
      "metadata": {
        "colab": {
          "base_uri": "https://localhost:8080/"
        },
        "id": "E-BnWRu5SM-N",
        "outputId": "f0909f1e-0c2a-4600-8c7c-e24889d15063"
      },
      "execution_count": 10,
      "outputs": [
        {
          "output_type": "execute_result",
          "data": {
            "text/plain": [
              "['funny',\n",
              " 'somber',\n",
              " 'absurd',\n",
              " 'and',\n",
              " 'finally',\n",
              " 'achingly',\n",
              " 'sad',\n",
              " 'bartleby',\n",
              " 'is',\n",
              " 'a',\n",
              " 'fine',\n",
              " 'understated',\n",
              " 'piece',\n",
              " 'of',\n",
              " 'filmmaking']"
            ]
          },
          "metadata": {},
          "execution_count": 10
        }
      ]
    },
    {
      "cell_type": "code",
      "source": [
        "tokenizer.word_index"
      ],
      "metadata": {
        "colab": {
          "base_uri": "https://localhost:8080/"
        },
        "id": "9v0OW0pFSXfU",
        "outputId": "4521f11e-f741-48bd-c9ce-883d57845c14"
      },
      "execution_count": 11,
      "outputs": [
        {
          "output_type": "execute_result",
          "data": {
            "text/plain": [
              "{'the': 1,\n",
              " 'a': 2,\n",
              " 'and': 3,\n",
              " 'of': 4,\n",
              " 'to': 5,\n",
              " 'is': 6,\n",
              " 'in': 7,\n",
              " 'that': 8,\n",
              " 'it': 9,\n",
              " 'as': 10,\n",
              " 'but': 11,\n",
              " 'with': 12,\n",
              " 'film': 13,\n",
              " 'this': 14,\n",
              " 'for': 15,\n",
              " 'its': 16,\n",
              " 'an': 17,\n",
              " 'movie': 18,\n",
              " \"it's\": 19,\n",
              " 'be': 20,\n",
              " 'on': 21,\n",
              " 'you': 22,\n",
              " 'not': 23,\n",
              " 'by': 24,\n",
              " 'one': 25,\n",
              " 'about': 26,\n",
              " 'like': 27,\n",
              " 'more': 28,\n",
              " 'has': 29,\n",
              " 'are': 30,\n",
              " 'at': 31,\n",
              " 'than': 32,\n",
              " 'from': 33,\n",
              " 'all': 34,\n",
              " 'have': 35,\n",
              " 'his': 36,\n",
              " 'so': 37,\n",
              " 'if': 38,\n",
              " 'or': 39,\n",
              " 'too': 40,\n",
              " 'story': 41,\n",
              " 'i': 42,\n",
              " 'out': 43,\n",
              " 'just': 44,\n",
              " 'up': 45,\n",
              " 'who': 46,\n",
              " 'what': 47,\n",
              " 'into': 48,\n",
              " 'good': 49,\n",
              " 'no': 50,\n",
              " 'most': 51,\n",
              " 'even': 52,\n",
              " 'comedy': 53,\n",
              " 'much': 54,\n",
              " 'will': 55,\n",
              " 'time': 56,\n",
              " 'some': 57,\n",
              " 'can': 58,\n",
              " 'well': 59,\n",
              " 'only': 60,\n",
              " 'characters': 61,\n",
              " 'little': 62,\n",
              " 'funny': 63,\n",
              " 'way': 64,\n",
              " 'director': 65,\n",
              " 'their': 66,\n",
              " 'make': 67,\n",
              " 'been': 68,\n",
              " 'enough': 69,\n",
              " 'very': 70,\n",
              " 'when': 71,\n",
              " 'your': 72,\n",
              " 'never': 73,\n",
              " 'makes': 74,\n",
              " 'may': 75,\n",
              " 'there': 76,\n",
              " 'bad': 77,\n",
              " 'life': 78,\n",
              " 'best': 79,\n",
              " 'which': 80,\n",
              " 'us': 81,\n",
              " 'work': 82,\n",
              " 'he': 83,\n",
              " \"doesn't\": 84,\n",
              " 'love': 85,\n",
              " 'would': 86,\n",
              " 'made': 87,\n",
              " 'any': 88,\n",
              " 'while': 89,\n",
              " 'we': 90,\n",
              " 'was': 91,\n",
              " 'they': 92,\n",
              " \"there's\": 93,\n",
              " 'movies': 94,\n",
              " 'new': 95,\n",
              " 'her': 96,\n",
              " 'off': 97,\n",
              " 'action': 98,\n",
              " 'drama': 99,\n",
              " 'could': 100,\n",
              " 'something': 101,\n",
              " 'how': 102,\n",
              " 'through': 103,\n",
              " 'really': 104,\n",
              " 'two': 105,\n",
              " 'performances': 106,\n",
              " 'does': 107,\n",
              " 'see': 108,\n",
              " 'many': 109,\n",
              " 'should': 110,\n",
              " 'plot': 111,\n",
              " 'still': 112,\n",
              " 'every': 113,\n",
              " \"that's\": 114,\n",
              " 'those': 115,\n",
              " 'look': 116,\n",
              " 'films': 117,\n",
              " 'own': 118,\n",
              " 'long': 119,\n",
              " 'big': 120,\n",
              " \"isn't\": 121,\n",
              " 'over': 122,\n",
              " 'them': 123,\n",
              " 'old': 124,\n",
              " 'better': 125,\n",
              " 'nothing': 126,\n",
              " 'people': 127,\n",
              " 'first': 128,\n",
              " 'fun': 129,\n",
              " 'being': 130,\n",
              " 'great': 131,\n",
              " 'other': 132,\n",
              " 'without': 133,\n",
              " 'get': 134,\n",
              " 'though': 135,\n",
              " 'both': 136,\n",
              " 'might': 137,\n",
              " 'also': 138,\n",
              " 'kind': 139,\n",
              " 'character': 140,\n",
              " 'cast': 141,\n",
              " 'do': 142,\n",
              " 'real': 143,\n",
              " 'sense': 144,\n",
              " 'another': 145,\n",
              " 'self': 146,\n",
              " 'audience': 147,\n",
              " 'between': 148,\n",
              " 'humor': 149,\n",
              " 'ever': 150,\n",
              " 'such': 151,\n",
              " 'feel': 152,\n",
              " 'less': 153,\n",
              " \"'\": 154,\n",
              " 'far': 155,\n",
              " 'feels': 156,\n",
              " \"don't\": 157,\n",
              " 'often': 158,\n",
              " 'performance': 159,\n",
              " 'hard': 160,\n",
              " 'few': 161,\n",
              " \"film's\": 162,\n",
              " 'because': 163,\n",
              " 'down': 164,\n",
              " 'thriller': 165,\n",
              " 'here': 166,\n",
              " 'script': 167,\n",
              " 'thing': 168,\n",
              " 'screen': 169,\n",
              " 'tale': 170,\n",
              " 'seems': 171,\n",
              " 'heart': 172,\n",
              " 'documentary': 173,\n",
              " 'picture': 174,\n",
              " 'full': 175,\n",
              " \"can't\": 176,\n",
              " 'world': 177,\n",
              " 'almost': 178,\n",
              " 'minutes': 179,\n",
              " 'quite': 180,\n",
              " 'interesting': 181,\n",
              " 'yet': 182,\n",
              " 'hollywood': 183,\n",
              " 'entertaining': 184,\n",
              " 'after': 185,\n",
              " 'end': 186,\n",
              " 'my': 187,\n",
              " 'these': 188,\n",
              " 'de': 189,\n",
              " \"you're\": 190,\n",
              " 'american': 191,\n",
              " 'go': 192,\n",
              " 'romantic': 193,\n",
              " 'rather': 194,\n",
              " 'man': 195,\n",
              " 'seen': 196,\n",
              " 'take': 197,\n",
              " 'comes': 198,\n",
              " 'ultimately': 199,\n",
              " 'family': 200,\n",
              " 'watching': 201,\n",
              " 'despite': 202,\n",
              " 'lot': 203,\n",
              " 'itself': 204,\n",
              " 'right': 205,\n",
              " 'moments': 206,\n",
              " 'me': 207,\n",
              " 'where': 208,\n",
              " 'acting': 209,\n",
              " 'year': 210,\n",
              " 'original': 211,\n",
              " 'had': 212,\n",
              " 'gets': 213,\n",
              " 'were': 214,\n",
              " 'before': 215,\n",
              " 'then': 216,\n",
              " 'worth': 217,\n",
              " 'human': 218,\n",
              " 'takes': 219,\n",
              " 'times': 220,\n",
              " 'dialogue': 221,\n",
              " 'same': 222,\n",
              " 'back': 223,\n",
              " 'things': 224,\n",
              " 'high': 225,\n",
              " 'scenes': 226,\n",
              " 'find': 227,\n",
              " 'come': 228,\n",
              " 'actors': 229,\n",
              " 'compelling': 230,\n",
              " 'young': 231,\n",
              " 'watch': 232,\n",
              " 'years': 233,\n",
              " 'material': 234,\n",
              " 'once': 235,\n",
              " 'our': 236,\n",
              " 'star': 237,\n",
              " 'know': 238,\n",
              " 'style': 239,\n",
              " 'half': 240,\n",
              " 'music': 241,\n",
              " 'going': 242,\n",
              " 'least': 243,\n",
              " 'think': 244,\n",
              " 'gives': 245,\n",
              " 'say': 246,\n",
              " 'emotional': 247,\n",
              " 'anyone': 248,\n",
              " 'seem': 249,\n",
              " 'last': 250,\n",
              " 'piece': 251,\n",
              " 'writer': 252,\n",
              " 'sometimes': 253,\n",
              " 'works': 254,\n",
              " 'point': 255,\n",
              " 'special': 256,\n",
              " 'want': 257,\n",
              " 'give': 258,\n",
              " 'cinematic': 259,\n",
              " 'kids': 260,\n",
              " 'subject': 261,\n",
              " 'part': 262,\n",
              " 'moving': 263,\n",
              " 'making': 264,\n",
              " 'again': 265,\n",
              " 'together': 266,\n",
              " 'entertainment': 267,\n",
              " 'show': 268,\n",
              " 'bit': 269,\n",
              " 'pretty': 270,\n",
              " 'dull': 271,\n",
              " 'keep': 272,\n",
              " 'video': 273,\n",
              " 'fascinating': 274,\n",
              " \"you'll\": 275,\n",
              " 'fans': 276,\n",
              " 'cinema': 277,\n",
              " 'why': 278,\n",
              " 'whole': 279,\n",
              " 'true': 280,\n",
              " 'sweet': 281,\n",
              " 'war': 282,\n",
              " 'art': 283,\n",
              " 'manages': 284,\n",
              " 'flick': 285,\n",
              " 'since': 286,\n",
              " 'age': 287,\n",
              " 'laughs': 288,\n",
              " 'offers': 289,\n",
              " 'dark': 290,\n",
              " 'clever': 291,\n",
              " 'simply': 292,\n",
              " 'away': 293,\n",
              " 'silly': 294,\n",
              " 'three': 295,\n",
              " 'anything': 296,\n",
              " 'predictable': 297,\n",
              " 'comic': 298,\n",
              " 'need': 299,\n",
              " 'mr': 300,\n",
              " 'experience': 301,\n",
              " 'low': 302,\n",
              " 'whose': 303,\n",
              " 'feature': 304,\n",
              " 'instead': 305,\n",
              " 'direction': 306,\n",
              " 'coming': 307,\n",
              " 'history': 308,\n",
              " 'under': 309,\n",
              " 'charm': 310,\n",
              " 'visual': 311,\n",
              " 'day': 312,\n",
              " 'done': 313,\n",
              " 'title': 314,\n",
              " 'always': 315,\n",
              " 'place': 316,\n",
              " 'series': 317,\n",
              " 'nearly': 318,\n",
              " 'actually': 319,\n",
              " 'everything': 320,\n",
              " 'around': 321,\n",
              " 'familiar': 322,\n",
              " 'narrative': 323,\n",
              " 'looking': 324,\n",
              " 'genre': 325,\n",
              " 'horror': 326,\n",
              " 'set': 327,\n",
              " 'matter': 328,\n",
              " 'short': 329,\n",
              " 'care': 330,\n",
              " 'now': 331,\n",
              " 'goes': 332,\n",
              " 'screenplay': 333,\n",
              " \"he's\": 334,\n",
              " 'premise': 335,\n",
              " 'women': 336,\n",
              " 'plays': 337,\n",
              " 'idea': 338,\n",
              " 'smart': 339,\n",
              " 'mind': 340,\n",
              " 'trying': 341,\n",
              " 'effects': 342,\n",
              " 'probably': 343,\n",
              " 'lacks': 344,\n",
              " 'becomes': 345,\n",
              " \"movie's\": 346,\n",
              " 'enjoyable': 347,\n",
              " 'although': 348,\n",
              " 'power': 349,\n",
              " 'engaging': 350,\n",
              " 'she': 351,\n",
              " 'home': 352,\n",
              " 'turns': 353,\n",
              " 'thought': 354,\n",
              " 'study': 355,\n",
              " 'worst': 356,\n",
              " 'hour': 357,\n",
              " 'especially': 358,\n",
              " 'him': 359,\n",
              " 'amusing': 360,\n",
              " 'strong': 361,\n",
              " 'filmmakers': 362,\n",
              " 'romance': 363,\n",
              " 'lack': 364,\n",
              " \"won't\": 365,\n",
              " 'feeling': 366,\n",
              " 'charming': 367,\n",
              " 'intelligent': 368,\n",
              " 'tv': 369,\n",
              " 'ending': 370,\n",
              " 'modern': 371,\n",
              " 'fresh': 372,\n",
              " 'portrait': 373,\n",
              " 'john': 374,\n",
              " 'acted': 375,\n",
              " 'minute': 376,\n",
              " 'solid': 377,\n",
              " 'effort': 378,\n",
              " 'version': 379,\n",
              " 'enjoy': 380,\n",
              " 'message': 381,\n",
              " \"what's\": 382,\n",
              " 'debut': 383,\n",
              " 'boring': 384,\n",
              " 'directed': 385,\n",
              " 'mostly': 386,\n",
              " 'black': 387,\n",
              " 'sort': 388,\n",
              " 'wit': 389,\n",
              " 'level': 390,\n",
              " 'shot': 391,\n",
              " 'put': 392,\n",
              " 'likely': 393,\n",
              " 'surprisingly': 394,\n",
              " 'face': 395,\n",
              " \"you've\": 396,\n",
              " 'beautifully': 397,\n",
              " 'fine': 398,\n",
              " 'light': 399,\n",
              " 'men': 400,\n",
              " 'girl': 401,\n",
              " 'serious': 402,\n",
              " 'each': 403,\n",
              " 'rare': 404,\n",
              " 'along': 405,\n",
              " 'heavy': 406,\n",
              " 'exercise': 407,\n",
              " 'certainly': 408,\n",
              " 'sure': 409,\n",
              " 'energy': 410,\n",
              " 'theater': 411,\n",
              " 'powerful': 412,\n",
              " 'easy': 413,\n",
              " 'play': 414,\n",
              " 'slow': 415,\n",
              " 'beautiful': 416,\n",
              " 'whether': 417,\n",
              " 'become': 418,\n",
              " 'quirky': 419,\n",
              " 'problem': 420,\n",
              " 'hours': 421,\n",
              " 'past': 422,\n",
              " 'fact': 423,\n",
              " 'next': 424,\n",
              " 'looks': 425,\n",
              " 'else': 426,\n",
              " 'small': 427,\n",
              " 'mess': 428,\n",
              " 'believe': 429,\n",
              " 'leave': 430,\n",
              " 'ideas': 431,\n",
              " 'neither': 432,\n",
              " 'completely': 433,\n",
              " 'french': 434,\n",
              " 'culture': 435,\n",
              " 'obvious': 436,\n",
              " 'beyond': 437,\n",
              " 'melodrama': 438,\n",
              " 'lives': 439,\n",
              " 'viewers': 440,\n",
              " 'tone': 441,\n",
              " 'opera': 442,\n",
              " 'adventure': 443,\n",
              " 'live': 444,\n",
              " 'dramatic': 445,\n",
              " 'children': 446,\n",
              " \"i'm\": 447,\n",
              " 'sex': 448,\n",
              " 'interest': 449,\n",
              " 'book': 450,\n",
              " 'suspense': 451,\n",
              " 'shows': 452,\n",
              " 'deeply': 453,\n",
              " 'classic': 454,\n",
              " 'perfect': 455,\n",
              " 'tries': 456,\n",
              " 'recent': 457,\n",
              " 'actor': 458,\n",
              " 'either': 459,\n",
              " 'intriguing': 460,\n",
              " 'delivers': 461,\n",
              " 'must': 462,\n",
              " 'reason': 463,\n",
              " 'filmmaking': 464,\n",
              " 'camera': 465,\n",
              " 'fails': 466,\n",
              " 'scene': 467,\n",
              " 'written': 468,\n",
              " 'stuff': 469,\n",
              " \"didn't\": 470,\n",
              " 'school': 471,\n",
              " 'everyone': 472,\n",
              " 'close': 473,\n",
              " 'ends': 474,\n",
              " 'jokes': 475,\n",
              " 'death': 476,\n",
              " 'simple': 477,\n",
              " 'production': 478,\n",
              " 'sad': 479,\n",
              " 'above': 480,\n",
              " 'occasionally': 481,\n",
              " 'left': 482,\n",
              " 'laugh': 483,\n",
              " 'line': 484,\n",
              " 'hilarious': 485,\n",
              " 'himself': 486,\n",
              " 'dumb': 487,\n",
              " 'satisfying': 488,\n",
              " 'spy': 489,\n",
              " 'middle': 490,\n",
              " 'head': 491,\n",
              " 'touching': 492,\n",
              " 'formula': 493,\n",
              " 'audiences': 494,\n",
              " 'ride': 495,\n",
              " 'proves': 496,\n",
              " 'exactly': 497,\n",
              " 'terrific': 498,\n",
              " 'teen': 499,\n",
              " 'truly': 500,\n",
              " 'dead': 501,\n",
              " 'already': 502,\n",
              " 'nor': 503,\n",
              " 'filmmaker': 504,\n",
              " 'spirit': 505,\n",
              " 'storytelling': 506,\n",
              " 'reality': 507,\n",
              " 'crime': 508,\n",
              " 'seeing': 509,\n",
              " 'impossible': 510,\n",
              " 'remains': 511,\n",
              " 'summer': 512,\n",
              " 'sequel': 513,\n",
              " 'particularly': 514,\n",
              " 'attempt': 515,\n",
              " 'images': 516,\n",
              " 'easily': 517,\n",
              " 'passion': 518,\n",
              " 'flat': 519,\n",
              " 'stories': 520,\n",
              " 'different': 521,\n",
              " 'talent': 522,\n",
              " 'pleasure': 523,\n",
              " 'complex': 524,\n",
              " 'got': 525,\n",
              " 'project': 526,\n",
              " 'role': 527,\n",
              " 'animation': 528,\n",
              " 'psychological': 529,\n",
              " 'journey': 530,\n",
              " 'against': 531,\n",
              " 'boy': 532,\n",
              " 'found': 533,\n",
              " 'michael': 534,\n",
              " 'stand': 535,\n",
              " 'turn': 536,\n",
              " 'b': 537,\n",
              " 'falls': 538,\n",
              " 'difficult': 539,\n",
              " 'political': 540,\n",
              " 'given': 541,\n",
              " 'gags': 542,\n",
              " 'honest': 543,\n",
              " 'pretentious': 544,\n",
              " 'personal': 545,\n",
              " 'told': 546,\n",
              " 'none': 547,\n",
              " 'case': 548,\n",
              " 'visually': 549,\n",
              " 'ways': 550,\n",
              " 'run': 551,\n",
              " 'intelligence': 552,\n",
              " 'earnest': 553,\n",
              " 'tell': 554,\n",
              " 'getting': 555,\n",
              " 'thin': 556,\n",
              " 'cool': 557,\n",
              " 'mystery': 558,\n",
              " 'eye': 559,\n",
              " 'side': 560,\n",
              " 'straight': 561,\n",
              " 'hit': 562,\n",
              " 'class': 563,\n",
              " 'did': 564,\n",
              " 'gone': 565,\n",
              " 'cold': 566,\n",
              " 'brilliant': 567,\n",
              " 'second': 568,\n",
              " 'social': 569,\n",
              " 'cliches': 570,\n",
              " 'writing': 571,\n",
              " 'game': 572,\n",
              " 'finally': 573,\n",
              " 'act': 574,\n",
              " 'satire': 575,\n",
              " 'soap': 576,\n",
              " 'uses': 577,\n",
              " 'overall': 578,\n",
              " 'keeps': 579,\n",
              " 'memorable': 580,\n",
              " 'help': 581,\n",
              " 'four': 582,\n",
              " 'warm': 583,\n",
              " 'leaves': 584,\n",
              " 'budget': 585,\n",
              " 'que': 586,\n",
              " 'elements': 587,\n",
              " 'concept': 588,\n",
              " 'rich': 589,\n",
              " 'violence': 590,\n",
              " 'creepy': 591,\n",
              " 'novel': 592,\n",
              " 'top': 593,\n",
              " 'rarely': 594,\n",
              " 'guys': 595,\n",
              " 'important': 596,\n",
              " 'deep': 597,\n",
              " 'appeal': 598,\n",
              " 'during': 599,\n",
              " 'having': 600,\n",
              " 'wild': 601,\n",
              " 'approach': 602,\n",
              " 'job': 603,\n",
              " 'otherwise': 604,\n",
              " 'fi': 605,\n",
              " 'barely': 606,\n",
              " 'thoughtful': 607,\n",
              " 'rock': 608,\n",
              " 'lost': 609,\n",
              " 'starts': 610,\n",
              " 'entirely': 611,\n",
              " 'clear': 612,\n",
              " 'days': 613,\n",
              " 'contrived': 614,\n",
              " 'needs': 615,\n",
              " 'perhaps': 616,\n",
              " 'worthy': 617,\n",
              " 'wonderful': 618,\n",
              " 'final': 619,\n",
              " 'imagine': 620,\n",
              " 'o': 621,\n",
              " 'running': 622,\n",
              " 'insight': 623,\n",
              " 'sci': 624,\n",
              " 'attention': 625,\n",
              " 'fairly': 626,\n",
              " '2': 627,\n",
              " 'oscar': 628,\n",
              " 'animated': 629,\n",
              " 'form': 630,\n",
              " 'call': 631,\n",
              " 'y': 632,\n",
              " 'lead': 633,\n",
              " 'truth': 634,\n",
              " 'fire': 635,\n",
              " 'several': 636,\n",
              " 'nature': 637,\n",
              " 'based': 638,\n",
              " 'david': 639,\n",
              " 'eyes': 640,\n",
              " 'change': 641,\n",
              " 'excellent': 642,\n",
              " 'bring': 643,\n",
              " 'behind': 644,\n",
              " 'period': 645,\n",
              " 'among': 646,\n",
              " 'engrossing': 647,\n",
              " 'thoroughly': 648,\n",
              " 'taste': 649,\n",
              " 'loud': 650,\n",
              " 'witty': 651,\n",
              " 'disney': 652,\n",
              " 'future': 653,\n",
              " 'tedious': 654,\n",
              " 'wrong': 655,\n",
              " 'bland': 656,\n",
              " 'result': 657,\n",
              " 'epic': 658,\n",
              " 'expect': 659,\n",
              " 'co': 660,\n",
              " 'filled': 661,\n",
              " 'mood': 662,\n",
              " 'emotionally': 663,\n",
              " 'merely': 664,\n",
              " 'fantasy': 665,\n",
              " 'cut': 666,\n",
              " 'moment': 667,\n",
              " 'latest': 668,\n",
              " 'cute': 669,\n",
              " 'tired': 670,\n",
              " 'sharp': 671,\n",
              " 'quality': 672,\n",
              " 'genuine': 673,\n",
              " 'remake': 674,\n",
              " 'fast': 675,\n",
              " 'surprising': 676,\n",
              " 'hero': 677,\n",
              " 'strange': 678,\n",
              " 'others': 679,\n",
              " 'knows': 680,\n",
              " 'nice': 681,\n",
              " 'moral': 682,\n",
              " 'depth': 683,\n",
              " 'entire': 684,\n",
              " 'maybe': 685,\n",
              " 'thanks': 686,\n",
              " 'wonder': 687,\n",
              " 'quiet': 688,\n",
              " 'appealing': 689,\n",
              " 'add': 690,\n",
              " 'begins': 691,\n",
              " 'points': 692,\n",
              " 'single': 693,\n",
              " 'adaptation': 694,\n",
              " 'possible': 695,\n",
              " 'working': 696,\n",
              " 'woman': 697,\n",
              " 'impressive': 698,\n",
              " 'city': 699,\n",
              " 'remarkable': 700,\n",
              " 'viewer': 701,\n",
              " \"i've\": 702,\n",
              " 'gentle': 703,\n",
              " 'perfectly': 704,\n",
              " 'worse': 705,\n",
              " 'pop': 706,\n",
              " \"they're\": 707,\n",
              " 'beauty': 708,\n",
              " 'plenty': 709,\n",
              " 'parents': 710,\n",
              " 'until': 711,\n",
              " 'comedies': 712,\n",
              " 'taking': 713,\n",
              " 'tragedy': 714,\n",
              " 'offer': 715,\n",
              " 'winning': 716,\n",
              " 'white': 717,\n",
              " 'start': 718,\n",
              " 'events': 719,\n",
              " \"you'd\": 720,\n",
              " 'usual': 721,\n",
              " 'gorgeous': 722,\n",
              " 'imagination': 723,\n",
              " 'air': 724,\n",
              " 'stupid': 725,\n",
              " 'scary': 726,\n",
              " 'vision': 727,\n",
              " 'ii': 728,\n",
              " 'surprise': 729,\n",
              " 'definitely': 730,\n",
              " 'themselves': 731,\n",
              " 'emotions': 732,\n",
              " 'awful': 733,\n",
              " 'joke': 734,\n",
              " 'however': 735,\n",
              " 'hope': 736,\n",
              " 'highly': 737,\n",
              " 'someone': 738,\n",
              " 'unfortunately': 739,\n",
              " 'effective': 740,\n",
              " 'road': 741,\n",
              " 'house': 742,\n",
              " 'career': 743,\n",
              " 'view': 744,\n",
              " 'hand': 745,\n",
              " 'la': 746,\n",
              " 'ugly': 747,\n",
              " 'provides': 748,\n",
              " 'decent': 749,\n",
              " 'captures': 750,\n",
              " 's': 751,\n",
              " 'lots': 752,\n",
              " 'try': 753,\n",
              " 'miss': 754,\n",
              " 'suffers': 755,\n",
              " 'ambitious': 756,\n",
              " 'adults': 757,\n",
              " 'hip': 758,\n",
              " 'sit': 759,\n",
              " 'mean': 760,\n",
              " 'subtle': 761,\n",
              " 'crafted': 762,\n",
              " 'execution': 763,\n",
              " 'cheap': 764,\n",
              " 'sound': 765,\n",
              " 'pure': 766,\n",
              " 'guy': 767,\n",
              " 'throughout': 768,\n",
              " 'pace': 769,\n",
              " 'utterly': 770,\n",
              " 'water': 771,\n",
              " 'free': 772,\n",
              " 'cultural': 773,\n",
              " 'inside': 774,\n",
              " 'somewhat': 775,\n",
              " 'playing': 776,\n",
              " 'read': 777,\n",
              " 'stars': 778,\n",
              " 'brings': 779,\n",
              " 'meaning': 780,\n",
              " 'murder': 781,\n",
              " 'magic': 782,\n",
              " 'memory': 783,\n",
              " 'examination': 784,\n",
              " 'doing': 785,\n",
              " 'ensemble': 786,\n",
              " 'felt': 787,\n",
              " 'numbers': 788,\n",
              " 'creative': 789,\n",
              " 'lovely': 790,\n",
              " 'sequences': 791,\n",
              " 'college': 792,\n",
              " 'major': 793,\n",
              " 'female': 794,\n",
              " 'force': 795,\n",
              " 'exciting': 796,\n",
              " 'robert': 797,\n",
              " 'historical': 798,\n",
              " 'welcome': 799,\n",
              " \"year's\": 800,\n",
              " 'deserves': 801,\n",
              " 'touch': 802,\n",
              " 'creates': 803,\n",
              " 'soul': 804,\n",
              " 'paced': 805,\n",
              " 'fashioned': 806,\n",
              " 'alone': 807,\n",
              " 'cartoon': 808,\n",
              " 'certain': 809,\n",
              " 'era': 810,\n",
              " 'sustain': 811,\n",
              " 'bond': 812,\n",
              " 'sexual': 813,\n",
              " 'chemistry': 814,\n",
              " 'wants': 815,\n",
              " 'relationship': 816,\n",
              " 'across': 817,\n",
              " 'upon': 818,\n",
              " 'odd': 819,\n",
              " 'tension': 820,\n",
              " 'use': 821,\n",
              " 'flaws': 822,\n",
              " 'able': 823,\n",
              " 'question': 824,\n",
              " 'average': 825,\n",
              " 'e': 826,\n",
              " 'except': 827,\n",
              " 'pictures': 828,\n",
              " 'poignant': 829,\n",
              " 'hell': 830,\n",
              " 'provocative': 831,\n",
              " 'country': 832,\n",
              " 'length': 833,\n",
              " 'delightful': 834,\n",
              " 'quickly': 835,\n",
              " 'casting': 836,\n",
              " 't': 837,\n",
              " '90': 838,\n",
              " 'handed': 839,\n",
              " 'potential': 840,\n",
              " 'mediocre': 841,\n",
              " 'impact': 842,\n",
              " 'date': 843,\n",
              " 'sentimental': 844,\n",
              " 'used': 845,\n",
              " 'process': 846,\n",
              " 'open': 847,\n",
              " 'actress': 848,\n",
              " 'dog': 849,\n",
              " 'generic': 850,\n",
              " 'formulaic': 851,\n",
              " 'contemporary': 852,\n",
              " 'talented': 853,\n",
              " 'sensitive': 854,\n",
              " 'success': 855,\n",
              " 'grace': 856,\n",
              " 'mildly': 857,\n",
              " \"aren't\": 858,\n",
              " 'relationships': 859,\n",
              " 'words': 860,\n",
              " 'puts': 861,\n",
              " 'weird': 862,\n",
              " 'masterpiece': 863,\n",
              " 'remember': 864,\n",
              " 'urban': 865,\n",
              " 'extreme': 866,\n",
              " 'boys': 867,\n",
              " 'ya': 868,\n",
              " 'routine': 869,\n",
              " 'create': 870,\n",
              " 'leads': 871,\n",
              " 'slight': 872,\n",
              " 'focus': 873,\n",
              " 'five': 874,\n",
              " 'rest': 875,\n",
              " 'flawed': 876,\n",
              " 'previous': 877,\n",
              " 'issues': 878,\n",
              " 'ability': 879,\n",
              " 'called': 880,\n",
              " 'mix': 881,\n",
              " 'artist': 882,\n",
              " 'inspired': 883,\n",
              " 'episode': 884,\n",
              " 'taken': 885,\n",
              " 'master': 886,\n",
              " 'grant': 887,\n",
              " 'melodramatic': 888,\n",
              " 'mark': 889,\n",
              " 'watchable': 890,\n",
              " 'giving': 891,\n",
              " 'extremely': 892,\n",
              " 'seriously': 893,\n",
              " 'supposed': 894,\n",
              " 'unexpected': 895,\n",
              " 'badly': 896,\n",
              " 'deal': 897,\n",
              " 'hardly': 898,\n",
              " 'lacking': 899,\n",
              " 'couple': 900,\n",
              " 'money': 901,\n",
              " 'apart': 902,\n",
              " 'treat': 903,\n",
              " 'reveals': 904,\n",
              " 'intimate': 905,\n",
              " 'yes': 906,\n",
              " 'waste': 907,\n",
              " 'gripping': 908,\n",
              " 'pacing': 909,\n",
              " 'yourself': 910,\n",
              " 'attempts': 911,\n",
              " 'happy': 912,\n",
              " 'night': 913,\n",
              " 'ago': 914,\n",
              " 'surprises': 915,\n",
              " 'largely': 916,\n",
              " 'trouble': 917,\n",
              " 'terms': 918,\n",
              " 'key': 919,\n",
              " 'dry': 920,\n",
              " 'unfunny': 921,\n",
              " 'name': 922,\n",
              " 'monster': 923,\n",
              " 'cannot': 924,\n",
              " 'fully': 925,\n",
              " 'convincing': 926,\n",
              " 'uneven': 927,\n",
              " 'ultimate': 928,\n",
              " 'saw': 929,\n",
              " 'indeed': 930,\n",
              " 'stylish': 931,\n",
              " 'succeeds': 932,\n",
              " 'ms': 933,\n",
              " 'sets': 934,\n",
              " 'unsettling': 935,\n",
              " 'gross': 936,\n",
              " 'heaven': 937,\n",
              " 'problems': 938,\n",
              " 'involving': 939,\n",
              " 'thrills': 940,\n",
              " 'situation': 941,\n",
              " \"director's\": 942,\n",
              " 'successful': 943,\n",
              " 'williams': 944,\n",
              " 'pleasant': 945,\n",
              " 'hold': 946,\n",
              " 'large': 947,\n",
              " 'recommend': 948,\n",
              " 'plain': 949,\n",
              " 'crush': 950,\n",
              " 'gay': 951,\n",
              " 'hits': 952,\n",
              " 'colorful': 953,\n",
              " 'disturbing': 954,\n",
              " 'fiction': 955,\n",
              " 'sincere': 956,\n",
              " 'presents': 957,\n",
              " 'played': 958,\n",
              " 'trip': 959,\n",
              " 'crazy': 960,\n",
              " 'near': 961,\n",
              " 'absolutely': 962,\n",
              " 'considerable': 963,\n",
              " 'appears': 964,\n",
              " 'george': 965,\n",
              " 'es': 966,\n",
              " 'inventive': 967,\n",
              " 'tragic': 968,\n",
              " 'lame': 969,\n",
              " 'crowd': 970,\n",
              " 'indulgent': 971,\n",
              " \"she's\": 972,\n",
              " 'forgettable': 973,\n",
              " 'ill': 974,\n",
              " 'meditation': 975,\n",
              " 'edge': 976,\n",
              " 'provoking': 977,\n",
              " 'effect': 978,\n",
              " 'interested': 979,\n",
              " 'painful': 980,\n",
              " 'course': 981,\n",
              " 'television': 982,\n",
              " 'involved': 983,\n",
              " 'thinking': 984,\n",
              " 'steven': 985,\n",
              " 'promise': 986,\n",
              " 'slightly': 987,\n",
              " 'refreshing': 988,\n",
              " 'strangely': 989,\n",
              " 'loses': 990,\n",
              " 'sentimentality': 991,\n",
              " 'triumph': 992,\n",
              " 'word': 993,\n",
              " 'hot': 994,\n",
              " 'drag': 995,\n",
              " 'twists': 996,\n",
              " 'skin': 997,\n",
              " 'ice': 998,\n",
              " 'cross': 999,\n",
              " 'clichs': 1000,\n",
              " ...}"
            ]
          },
          "metadata": {},
          "execution_count": 11
        }
      ]
    },
    {
      "cell_type": "code",
      "source": [
        "# Convert the sequence of words to sequnce of indices\n",
        "X = tokenizer.texts_to_sequences([' '.join(seq[:MAX_SENT_LEN]) for seq in word_seq])\n",
        "X = pad_sequences(X, maxlen=MAX_SENT_LEN, padding='post', truncating='post')\n",
        "\n",
        "y = df['polarity']"
      ],
      "metadata": {
        "id": "3NZ-QCRNS6et"
      },
      "execution_count": 12,
      "outputs": []
    },
    {
      "cell_type": "code",
      "source": [
        "X"
      ],
      "metadata": {
        "colab": {
          "base_uri": "https://localhost:8080/"
        },
        "id": "FfZJpTU6TjKZ",
        "outputId": "7faf598f-d663-416f-eb08-4a38aafc3ea2"
      },
      "execution_count": 13,
      "outputs": [
        {
          "output_type": "execute_result",
          "data": {
            "text/plain": [
              "array([[  63, 1961, 1962, ...,    0,    0,    0],\n",
              "       [2126,  524,    3, ...,    0,    0,    0],\n",
              "       [4503,   29,   87, ...,    0,    0,    0],\n",
              "       ...,\n",
              "       [  78,   39,  101, ...,    0,    0,    0],\n",
              "       [  52,   38,   22, ..., 3687,    4,   46],\n",
              "       [  12, 3630,   62, ...,    0,    0,    0]], dtype=int32)"
            ]
          },
          "metadata": {},
          "execution_count": 13
        }
      ]
    },
    {
      "cell_type": "code",
      "source": [
        "y"
      ],
      "metadata": {
        "colab": {
          "base_uri": "https://localhost:8080/"
        },
        "id": "fSRaLPNFTlcj",
        "outputId": "3f2c5827-2831-44d4-d2ea-a7d91d9ba74b"
      },
      "execution_count": 14,
      "outputs": [
        {
          "output_type": "execute_result",
          "data": {
            "text/plain": [
              "0        1\n",
              "1        1\n",
              "2        1\n",
              "3        1\n",
              "4        1\n",
              "        ..\n",
              "10657    1\n",
              "10658    1\n",
              "10659    0\n",
              "10660    1\n",
              "10661    0\n",
              "Name: polarity, Length: 10662, dtype: int64"
            ]
          },
          "metadata": {},
          "execution_count": 14
        }
      ]
    },
    {
      "cell_type": "code",
      "source": [
        "X_train, X_test, y_train, y_test = train_test_split(X, y, random_state=10, test_size=0.1)"
      ],
      "metadata": {
        "id": "HLVDUYRqTvN4"
      },
      "execution_count": 15,
      "outputs": []
    },
    {
      "cell_type": "code",
      "source": [
        "X_train.shape"
      ],
      "metadata": {
        "colab": {
          "base_uri": "https://localhost:8080/"
        },
        "id": "3qaXOb1UUgXN",
        "outputId": "ac254b6d-bd77-43e4-a66f-73014d56a2fb"
      },
      "execution_count": 16,
      "outputs": [
        {
          "output_type": "execute_result",
          "data": {
            "text/plain": [
              "(9595, 30)"
            ]
          },
          "metadata": {},
          "execution_count": 16
        }
      ]
    },
    {
      "cell_type": "markdown",
      "source": [
        "## Loading the word vectors into gensim"
      ],
      "metadata": {
        "id": "foWw_DNPWxQp"
      }
    },
    {
      "cell_type": "code",
      "source": [
        "%%time\n",
        "# You can download the GoogleNews Vectors from https://s3.amazonaws.com/dl4j-distribution/GoogleNews-vectors-negative300.bin.gz\n",
        "# Load the word2vec embeddings \n",
        "embeddings = gensim.models.KeyedVectors.load_word2vec_format(W2V_DIR, binary=True, limit=500000)"
      ],
      "metadata": {
        "colab": {
          "base_uri": "https://localhost:8080/"
        },
        "id": "MErh6E9MUpCS",
        "outputId": "4bcc4073-1550-4fd2-b6bc-1a616f279b66"
      },
      "execution_count": 55,
      "outputs": [
        {
          "output_type": "stream",
          "name": "stdout",
          "text": [
            "CPU times: user 6.11 s, sys: 754 ms, total: 6.86 s\n",
            "Wall time: 7.11 s\n"
          ]
        }
      ]
    },
    {
      "cell_type": "code",
      "source": [
        "print('Number of words in this pre-trained w2v model:', len(embeddings.vocab))\n",
        "print('Dimension of w2v:', embeddings.vector_size)"
      ],
      "metadata": {
        "colab": {
          "base_uri": "https://localhost:8080/"
        },
        "id": "zr2o2l0IUw0m",
        "outputId": "c8e247ec-a323-4981-fc09-829ed63f90a5"
      },
      "execution_count": 56,
      "outputs": [
        {
          "output_type": "stream",
          "name": "stdout",
          "text": [
            "Number of words in this pre-trained w2v model: 500000\n",
            "Dimension of w2v: 300\n"
          ]
        }
      ]
    },
    {
      "cell_type": "code",
      "source": [
        "%%time\n",
        "embeddings.most_similar('cat')"
      ],
      "metadata": {
        "colab": {
          "base_uri": "https://localhost:8080/"
        },
        "id": "0KXNEfyGXYpi",
        "outputId": "0bcc2b46-3c3e-44b6-b465-13a500587145"
      },
      "execution_count": 57,
      "outputs": [
        {
          "output_type": "stream",
          "name": "stdout",
          "text": [
            "CPU times: user 557 ms, sys: 16.1 ms, total: 573 ms\n",
            "Wall time: 515 ms\n"
          ]
        },
        {
          "output_type": "execute_result",
          "data": {
            "text/plain": [
              "[('cats', 0.8099379539489746),\n",
              " ('dog', 0.7609456777572632),\n",
              " ('kitten', 0.7464985251426697),\n",
              " ('feline', 0.7326233983039856),\n",
              " ('beagle', 0.7150583267211914),\n",
              " ('puppy', 0.7075453996658325),\n",
              " ('pup', 0.6934291124343872),\n",
              " ('pet', 0.6891531348228455),\n",
              " ('felines', 0.6755931377410889),\n",
              " ('chihuahua', 0.6709762215614319)]"
            ]
          },
          "metadata": {},
          "execution_count": 57
        }
      ]
    },
    {
      "cell_type": "code",
      "source": [
        "embeddings.doesnt_match('cat dog cow fish volunteer lion snake'.split(' '))"
      ],
      "metadata": {
        "colab": {
          "base_uri": "https://localhost:8080/",
          "height": 91
        },
        "id": "2Oiq7iY7Xdkt",
        "outputId": "172033b7-9151-4579-adf2-18ac777008be"
      },
      "execution_count": 58,
      "outputs": [
        {
          "output_type": "stream",
          "name": "stderr",
          "text": [
            "/usr/local/lib/python3.7/dist-packages/gensim/models/keyedvectors.py:895: FutureWarning: arrays to stack must be passed as a \"sequence\" type such as list or tuple. Support for non-sequence iterables such as generators is deprecated as of NumPy 1.16 and will raise an error in the future.\n",
            "  vectors = vstack(self.word_vec(word, use_norm=True) for word in used_words).astype(REAL)\n"
          ]
        },
        {
          "output_type": "execute_result",
          "data": {
            "application/vnd.google.colaboratory.intrinsic+json": {
              "type": "string"
            },
            "text/plain": [
              "'volunteer'"
            ]
          },
          "metadata": {},
          "execution_count": 58
        }
      ]
    },
    {
      "cell_type": "code",
      "source": [
        "embeddings.most_similar(positive=['king', 'woman'], negative=['man'])"
      ],
      "metadata": {
        "colab": {
          "base_uri": "https://localhost:8080/"
        },
        "id": "4zgx0EX_i5UZ",
        "outputId": "90a07b4a-8cd7-4237-e95d-5a4a3dd51828"
      },
      "execution_count": 92,
      "outputs": [
        {
          "output_type": "execute_result",
          "data": {
            "text/plain": [
              "[('queen', 0.7118192911148071),\n",
              " ('monarch', 0.6189674139022827),\n",
              " ('princess', 0.5902431011199951),\n",
              " ('crown_prince', 0.5499460697174072),\n",
              " ('prince', 0.5377321243286133),\n",
              " ('kings', 0.5236844420433044),\n",
              " ('queens', 0.518113374710083),\n",
              " ('sultan', 0.5098593235015869),\n",
              " ('monarchy', 0.5087411999702454),\n",
              " ('royal_palace', 0.5087165832519531)]"
            ]
          },
          "metadata": {},
          "execution_count": 92
        }
      ]
    },
    {
      "cell_type": "code",
      "source": [
        "# Create an embedding matrix containing only the word's in our vocabulary\n",
        "# If the word does not have a pre-trained embedding, then randomly initialize the embedding\n",
        "embeddings_matrix = np.random.uniform(-0.05, 0.05, size=(len(tokenizer.word_index)+1, EMBEDDING_DIM)) # +1 is because the matrix indices start with 0\n",
        "\n",
        "for word, i in tokenizer.word_index.items(): # i=0 is the embedding for the zero padding\n",
        "    try:\n",
        "        embeddings_vector = embeddings[word]\n",
        "    except KeyError:\n",
        "        embeddings_vector = None\n",
        "    if embeddings_vector is not None:\n",
        "        embeddings_matrix[i] = embeddings_vector\n"
      ],
      "metadata": {
        "id": "qx9zcFyqZhCt"
      },
      "execution_count": 59,
      "outputs": []
    },
    {
      "cell_type": "markdown",
      "source": [
        "# Keras Sequential API\n"
      ],
      "metadata": {
        "id": "MSWVhfPxcOY_"
      }
    },
    {
      "cell_type": "code",
      "source": [
        "# Build a sequential model by stacking neural net units \n",
        "model = Sequential()\n",
        "\n",
        "model.add(Embedding(input_dim=len(tokenizer.word_index)+1,\n",
        "                          output_dim=EMBEDDING_DIM,\n",
        "                          weights = [embeddings_matrix], trainable=False, name='word_embedding_layer', \n",
        "                          mask_zero=True))\n",
        "\n",
        "model.add(LSTM(LSTM_DIM, return_sequences=False, name='lstm_layer'))\n",
        "\n",
        "model.add(Dense(1, activation='sigmoid', name='output_layer'))"
      ],
      "metadata": {
        "id": "loKBZb_kaHVw"
      },
      "execution_count": 60,
      "outputs": []
    },
    {
      "cell_type": "code",
      "source": [
        "model.summary()"
      ],
      "metadata": {
        "colab": {
          "base_uri": "https://localhost:8080/"
        },
        "id": "Lo5r252vcT4a",
        "outputId": "e8d6581f-f643-44cf-d28d-1219821402fa"
      },
      "execution_count": 61,
      "outputs": [
        {
          "output_type": "stream",
          "name": "stdout",
          "text": [
            "Model: \"sequential\"\n",
            "_________________________________________________________________\n",
            " Layer (type)                Output Shape              Param #   \n",
            "=================================================================\n",
            " word_embedding_layer (Embed  (None, None, 300)        5754300   \n",
            " ding)                                                           \n",
            "                                                                 \n",
            " lstm_layer (LSTM)           (None, 128)               219648    \n",
            "                                                                 \n",
            " output_layer (Dense)        (None, 1)                 129       \n",
            "                                                                 \n",
            "=================================================================\n",
            "Total params: 5,974,077\n",
            "Trainable params: 219,777\n",
            "Non-trainable params: 5,754,300\n",
            "_________________________________________________________________\n"
          ]
        }
      ]
    },
    {
      "cell_type": "code",
      "source": [
        "model.compile(loss='binary_crossentropy',\n",
        "              optimizer='adam',\n",
        "              metrics=['accuracy'])"
      ],
      "metadata": {
        "id": "4DgyHnFJcXpg"
      },
      "execution_count": 62,
      "outputs": []
    },
    {
      "cell_type": "code",
      "source": [
        "model.fit(X_train, y_train,\n",
        "          batch_size=BATCH_SIZE,\n",
        "          epochs=N_EPOCHS,\n",
        "          validation_data=(X_test, y_test))"
      ],
      "metadata": {
        "colab": {
          "base_uri": "https://localhost:8080/"
        },
        "id": "53c9zDOkcued",
        "outputId": "9c5fa863-794b-4a36-a372-d77582cc9ad1"
      },
      "execution_count": 63,
      "outputs": [
        {
          "output_type": "stream",
          "name": "stdout",
          "text": [
            "Epoch 1/10\n",
            "300/300 [==============================] - 19s 13ms/step - loss: 0.5206 - accuracy: 0.7449 - val_loss: 0.4964 - val_accuracy: 0.7395\n",
            "Epoch 2/10\n",
            "300/300 [==============================] - 3s 8ms/step - loss: 0.4533 - accuracy: 0.7851 - val_loss: 0.4588 - val_accuracy: 0.7694\n",
            "Epoch 3/10\n",
            "300/300 [==============================] - 2s 8ms/step - loss: 0.4305 - accuracy: 0.8014 - val_loss: 0.4634 - val_accuracy: 0.7704\n",
            "Epoch 4/10\n",
            "300/300 [==============================] - 2s 8ms/step - loss: 0.3959 - accuracy: 0.8174 - val_loss: 0.4813 - val_accuracy: 0.7648\n",
            "Epoch 5/10\n",
            "300/300 [==============================] - 2s 8ms/step - loss: 0.3658 - accuracy: 0.8348 - val_loss: 0.4282 - val_accuracy: 0.7966\n",
            "Epoch 6/10\n",
            "300/300 [==============================] - 3s 8ms/step - loss: 0.3431 - accuracy: 0.8439 - val_loss: 0.4455 - val_accuracy: 0.8022\n",
            "Epoch 7/10\n",
            "300/300 [==============================] - 3s 9ms/step - loss: 0.3091 - accuracy: 0.8624 - val_loss: 0.4711 - val_accuracy: 0.8041\n",
            "Epoch 8/10\n",
            "300/300 [==============================] - 3s 9ms/step - loss: 0.2671 - accuracy: 0.8849 - val_loss: 0.4720 - val_accuracy: 0.8051\n",
            "Epoch 9/10\n",
            "300/300 [==============================] - 3s 9ms/step - loss: 0.2309 - accuracy: 0.9022 - val_loss: 0.5074 - val_accuracy: 0.7938\n",
            "Epoch 10/10\n",
            "300/300 [==============================] - 3s 9ms/step - loss: 0.1859 - accuracy: 0.9277 - val_loss: 0.5303 - val_accuracy: 0.8004\n"
          ]
        },
        {
          "output_type": "execute_result",
          "data": {
            "text/plain": [
              "<keras.callbacks.History at 0x7fda79023b50>"
            ]
          },
          "metadata": {},
          "execution_count": 63
        }
      ]
    },
    {
      "cell_type": "code",
      "source": [
        "score, acc = model.evaluate(X_test, y_test,\n",
        "                            batch_size=BATCH_SIZE)"
      ],
      "metadata": {
        "colab": {
          "base_uri": "https://localhost:8080/"
        },
        "id": "AVENaqY2cxbi",
        "outputId": "102809d0-2065-4692-8c02-4736d9c5fc98"
      },
      "execution_count": 64,
      "outputs": [
        {
          "output_type": "stream",
          "name": "stdout",
          "text": [
            "34/34 [==============================] - 0s 7ms/step - loss: 0.5303 - accuracy: 0.8004\n"
          ]
        }
      ]
    },
    {
      "cell_type": "code",
      "source": [
        "print(\"Accuracy on Test Set = {0:4.3f}\".format(acc))"
      ],
      "metadata": {
        "colab": {
          "base_uri": "https://localhost:8080/"
        },
        "id": "PhwTY_lJdrAt",
        "outputId": "7730a54b-693e-43e7-f04f-74a0c39209b1"
      },
      "execution_count": 65,
      "outputs": [
        {
          "output_type": "stream",
          "name": "stdout",
          "text": [
            "Accuracy on Test Set = 0.800\n"
          ]
        }
      ]
    },
    {
      "cell_type": "code",
      "source": [
        "plot_model(model, to_file='basic_lstm_classifier.png', show_layer_names=True, show_shapes=True)\n",
        "Image('basic_lstm_classifier.png')"
      ],
      "metadata": {
        "colab": {
          "base_uri": "https://localhost:8080/",
          "height": 422
        },
        "id": "jvILhuLGd87n",
        "outputId": "76062fc4-ec85-4eb4-fcbf-82c95d1f1754"
      },
      "execution_count": 66,
      "outputs": [
        {
          "output_type": "execute_result",
          "data": {
            "image/png": "[encoded data removed]",
            "text/plain": [
              "<IPython.core.display.Image object>"
            ]
          },
          "metadata": {},
          "execution_count": 66
        }
      ]
    },
    {
      "cell_type": "markdown",
      "source": [
        "## How to use the model?"
      ],
      "metadata": {
        "id": "-Ct1nwuUic2U"
      }
    },
    {
      "cell_type": "code",
      "source": [
        "model.predict(X_test[:5])"
      ],
      "metadata": {
        "colab": {
          "base_uri": "https://localhost:8080/"
        },
        "id": "2A-gdU-PeAt-",
        "outputId": "b0ca42a7-75be-4dea-921a-fb48230da158"
      },
      "execution_count": 69,
      "outputs": [
        {
          "output_type": "execute_result",
          "data": {
            "text/plain": [
              "array([[0.00190416],\n",
              "       [0.9962714 ],\n",
              "       [0.9613344 ],\n",
              "       [0.7510902 ],\n",
              "       [0.06358649]], dtype=float32)"
            ]
          },
          "metadata": {},
          "execution_count": 69
        }
      ]
    },
    {
      "cell_type": "code",
      "source": [
        "to_be_predicted = [\"I love this great movie\",\n",
        "                   \"This is garbage! I hate it so bad\",\n",
        "                   \"Couldn't be worse than this! not worth watching\",\n",
        "                   \"The best movie I've ever seen. Excellent! definitely recommend it\"]\n",
        "\n",
        "word_seq = [text_to_word_sequence(sent) for sent in to_be_predicted]\n",
        "X_predict = tokenizer.texts_to_sequences([' '.join(seq[:MAX_SENT_LEN]) for seq in word_seq])\n",
        "X_predict = pad_sequences(X_predict, maxlen=MAX_SENT_LEN, padding='post', truncating='post')\n",
        "\n",
        "print(X_predict)"
      ],
      "metadata": {
        "colab": {
          "base_uri": "https://localhost:8080/"
        },
        "id": "Z2WQoNvnfD3A",
        "outputId": "82358f12-0825-49df-fd76-2e4b43f9673d"
      },
      "execution_count": 90,
      "outputs": [
        {
          "output_type": "stream",
          "name": "stdout",
          "text": [
            "[[  42   85   14  131   18    0    0    0    0    0    0    0    0    0\n",
            "     0    0    0    0    0    0    0    0    0    0    0    0    0    0\n",
            "     0    0]\n",
            " [  14    6 3405   42 1139    9   37   77    0    0    0    0    0    0\n",
            "     0    0    0    0    0    0    0    0    0    0    0    0    0    0\n",
            "     0    0]\n",
            " [1038   20  705   32   14   23  217  201    0    0    0    0    0    0\n",
            "     0    0    0    0    0    0    0    0    0    0    0    0    0    0\n",
            "     0    0]\n",
            " [   1   79   18  702  150  196  642  730  948    9    0    0    0    0\n",
            "     0    0    0    0    0    0    0    0    0    0    0    0    0    0\n",
            "     0    0]]\n"
          ]
        }
      ]
    },
    {
      "cell_type": "code",
      "source": [
        "model.predict(X_predict)"
      ],
      "metadata": {
        "colab": {
          "base_uri": "https://localhost:8080/"
        },
        "id": "TnEq3muFg8x4",
        "outputId": "7b411fc3-a9b2-4811-b692-4590602d49c7"
      },
      "execution_count": 91,
      "outputs": [
        {
          "output_type": "execute_result",
          "data": {
            "text/plain": [
              "array([[0.9668615 ],\n",
              "       [0.00624665],\n",
              "       [0.01097183],\n",
              "       [0.8935825 ]], dtype=float32)"
            ]
          },
          "metadata": {},
          "execution_count": 91
        }
      ]
    },
    {
      "cell_type": "markdown",
      "source": [
        "\n",
        "\n",
        "## Modify the network by adding two more Dense layers with Batch-Normalization and Dropouts:\n"
      ],
      "metadata": {
        "id": "LzSoiNnVjMBp"
      }
    },
    {
      "cell_type": "code",
      "source": [
        "# Build a sequential model by stacking neural net units \n",
        "model = Sequential()\n",
        "model.add(Embedding(input_dim=len(tokenizer.word_index)+1,\n",
        "                          output_dim=EMBEDDING_DIM,\n",
        "                          weights = [embeddings_matrix], trainable=False, name='word_embedding_layer', \n",
        "                          mask_zero=True)) # trainable=True results in overfitting\n",
        "\n",
        "model.add(LSTM(LSTM_DIM, return_sequences=False, name='lstm_layer')) # Can try Bidirectional-LSTM\n",
        "\n",
        "model.add(Dense(32, name='dense_1'))\n",
        "model.add(BatchNormalization(name='bn_1')) # BN did not really help with performance \n",
        "model.add(Dropout(rate=0.3, name='dropout_1')) # Can try varying dropout rates\n",
        "model.add(Activation(activation='relu', name='activation_1'))\n",
        "\n",
        "model.add(Dense(8, name='dense_2'))\n",
        "model.add(BatchNormalization(name='bn_2'))\n",
        "model.add(Dropout(rate=0.3, name='dropout_2'))\n",
        "model.add(Activation(activation='relu', name='activation_2'))\n",
        "\n",
        "model.add(Dense(1, activation='sigmoid', name='output_layer'))\n",
        "model.summary()"
      ],
      "metadata": {
        "colab": {
          "base_uri": "https://localhost:8080/"
        },
        "id": "OWAFU8zshE9Q",
        "outputId": "86779146-c87f-4b65-c498-09934fd194b4"
      },
      "execution_count": 106,
      "outputs": [
        {
          "output_type": "stream",
          "name": "stdout",
          "text": [
            "Model: \"sequential_4\"\n",
            "_________________________________________________________________\n",
            " Layer (type)                Output Shape              Param #   \n",
            "=================================================================\n",
            " word_embedding_layer (Embed  (None, None, 300)        5754300   \n",
            " ding)                                                           \n",
            "                                                                 \n",
            " lstm_layer (LSTM)           (None, 128)               219648    \n",
            "                                                                 \n",
            " dense_1 (Dense)             (None, 32)                4128      \n",
            "                                                                 \n",
            " bn_1 (BatchNormalization)   (None, 32)                128       \n",
            "                                                                 \n",
            " dropout_1 (Dropout)         (None, 32)                0         \n",
            "                                                                 \n",
            " activation_1 (Activation)   (None, 32)                0         \n",
            "                                                                 \n",
            " dense_2 (Dense)             (None, 8)                 264       \n",
            "                                                                 \n",
            " bn_2 (BatchNormalization)   (None, 8)                 32        \n",
            "                                                                 \n",
            " dropout_2 (Dropout)         (None, 8)                 0         \n",
            "                                                                 \n",
            " activation_2 (Activation)   (None, 8)                 0         \n",
            "                                                                 \n",
            " output_layer (Dense)        (None, 1)                 9         \n",
            "                                                                 \n",
            "=================================================================\n",
            "Total params: 5,978,509\n",
            "Trainable params: 224,129\n",
            "Non-trainable params: 5,754,380\n",
            "_________________________________________________________________\n"
          ]
        }
      ]
    },
    {
      "cell_type": "code",
      "source": [
        "model.compile(loss='binary_crossentropy',\n",
        "              optimizer='adam',\n",
        "              metrics=['accuracy'])"
      ],
      "metadata": {
        "id": "UpVS7uAzjQql"
      },
      "execution_count": 107,
      "outputs": []
    },
    {
      "cell_type": "code",
      "source": [
        "model.fit(X_train, y_train,\n",
        "          batch_size=BATCH_SIZE,\n",
        "          epochs=N_EPOCHS,\n",
        "          validation_data=(X_test, y_test))"
      ],
      "metadata": {
        "colab": {
          "base_uri": "https://localhost:8080/"
        },
        "id": "YDyTNdDej-xH",
        "outputId": "031605bd-4d06-4632-cdd4-61dc62f4ccbb"
      },
      "execution_count": 108,
      "outputs": [
        {
          "output_type": "stream",
          "name": "stdout",
          "text": [
            "Epoch 1/10\n",
            "300/300 [==============================] - 9s 18ms/step - loss: 0.5683 - accuracy: 0.7119 - val_loss: 0.4852 - val_accuracy: 0.7648\n",
            "Epoch 2/10\n",
            "300/300 [==============================] - 3s 10ms/step - loss: 0.4953 - accuracy: 0.7685 - val_loss: 0.4733 - val_accuracy: 0.7694\n",
            "Epoch 3/10\n",
            "300/300 [==============================] - 3s 10ms/step - loss: 0.4742 - accuracy: 0.7813 - val_loss: 0.5281 - val_accuracy: 0.7591\n",
            "Epoch 4/10\n",
            "300/300 [==============================] - 3s 10ms/step - loss: 0.4537 - accuracy: 0.7861 - val_loss: 0.4443 - val_accuracy: 0.7816\n",
            "Epoch 5/10\n",
            "300/300 [==============================] - 3s 10ms/step - loss: 0.4359 - accuracy: 0.8022 - val_loss: 0.4370 - val_accuracy: 0.7826\n",
            "Epoch 6/10\n",
            "300/300 [==============================] - 3s 10ms/step - loss: 0.4153 - accuracy: 0.8132 - val_loss: 0.4530 - val_accuracy: 0.7976\n",
            "Epoch 7/10\n",
            "300/300 [==============================] - 3s 10ms/step - loss: 0.3911 - accuracy: 0.8237 - val_loss: 0.4572 - val_accuracy: 0.7901\n",
            "Epoch 8/10\n",
            "300/300 [==============================] - 3s 10ms/step - loss: 0.3685 - accuracy: 0.8401 - val_loss: 0.4601 - val_accuracy: 0.7741\n",
            "Epoch 9/10\n",
            "300/300 [==============================] - 3s 10ms/step - loss: 0.3544 - accuracy: 0.8452 - val_loss: 0.4620 - val_accuracy: 0.8032\n",
            "Epoch 10/10\n",
            "300/300 [==============================] - 3s 10ms/step - loss: 0.3237 - accuracy: 0.8591 - val_loss: 0.4862 - val_accuracy: 0.7779\n"
          ]
        },
        {
          "output_type": "execute_result",
          "data": {
            "text/plain": [
              "<keras.callbacks.History at 0x7fda73ae73d0>"
            ]
          },
          "metadata": {},
          "execution_count": 108
        }
      ]
    },
    {
      "cell_type": "code",
      "source": [
        "plot_model(model, to_file='modified_lstm_classifier.png', show_layer_names=True)\n",
        "Image('modified_lstm_classifier.png')"
      ],
      "metadata": {
        "colab": {
          "base_uri": "https://localhost:8080/",
          "height": 1000
        },
        "id": "l0RmFFLzkBSt",
        "outputId": "033d2c6f-7638-4118-b6e6-96c382b3e3e4"
      },
      "execution_count": 109,
      "outputs": [
        {
          "output_type": "execute_result",
          "data": {
            "image/png": "[encoded data removed]",
            "text/plain": [
              "<IPython.core.display.Image object>"
            ]
          },
          "metadata": {},
          "execution_count": 109
        }
      ]
    },
    {
      "cell_type": "code",
      "source": [
        "score, acc = model.evaluate(X_test, y_test,\n",
        "                            batch_size=BATCH_SIZE)"
      ],
      "metadata": {
        "colab": {
          "base_uri": "https://localhost:8080/"
        },
        "id": "W9d5fjmqkEP8",
        "outputId": "e28f506c-0078-403b-f6d7-ff750e467afe"
      },
      "execution_count": 110,
      "outputs": [
        {
          "output_type": "stream",
          "name": "stdout",
          "text": [
            "34/34 [==============================] - 0s 4ms/step - loss: 0.4862 - accuracy: 0.7779\n"
          ]
        }
      ]
    },
    {
      "cell_type": "code",
      "source": [
        "print(\"Accuracy on Test Set = {0:4.3f}\".format(acc))"
      ],
      "metadata": {
        "colab": {
          "base_uri": "https://localhost:8080/"
        },
        "id": "n53J9hESkMTv",
        "outputId": "6d2612a4-f3fd-4e1f-ddfe-f6827112ccc3"
      },
      "execution_count": 111,
      "outputs": [
        {
          "output_type": "stream",
          "name": "stdout",
          "text": [
            "Accuracy on Test Set = 0.778\n"
          ]
        }
      ]
    }
  ]
}