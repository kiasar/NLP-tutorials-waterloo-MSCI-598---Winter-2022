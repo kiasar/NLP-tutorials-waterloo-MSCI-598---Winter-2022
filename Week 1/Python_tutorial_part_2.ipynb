{
  "nbformat": 4,
  "nbformat_minor": 0,
  "metadata": {
    "colab": {
      "name": "Python tutorial part 2.ipynb",
      "provenance": []
    },
    "kernelspec": {
      "name": "python3",
      "display_name": "Python 3"
    },
    "language_info": {
      "name": "python"
    }
  },
  "cells": [
    {
      "cell_type": "markdown",
      "metadata": {
        "id": "vn3pOt0XI0i2"
      },
      "source": [
        "# Python tutorial part 2\n",
        "\n",
        "In the part 2 we explore lists."
      ]
    },
    {
      "cell_type": "code",
      "metadata": {
        "colab": {
          "base_uri": "https://localhost:8080/"
        },
        "id": "h9dbmZ08E19B",
        "outputId": "66b9f5d4-bc51-474e-b47e-3c45bccb1539"
      },
      "source": [
        "# these are lists. In them can be any object. With any length.\n",
        "\n",
        "mylist_number = [3, 5]\n",
        "mylist_sting = [\"apple\", \"banana\", \"banana\"]\n",
        "mylist_everything = [\"apple\", 120, \"cherry\", 120]\n",
        "\n",
        "mylist_long = [\"apple\", -10, \"cherry\", 5, \"banana\", \"apple\", \"banana\", 28, True, \"cat\", False, 28]\n",
        "\n",
        "print(mylist_everything)"
      ],
      "execution_count": 1,
      "outputs": [
        {
          "output_type": "stream",
          "name": "stdout",
          "text": [
            "['apple', 120, 'cherry', 120]\n"
          ]
        }
      ]
    },
    {
      "cell_type": "code",
      "metadata": {
        "colab": {
          "base_uri": "https://localhost:8080/"
        },
        "id": "j3KYcZQ-JkbX",
        "outputId": "c710d546-b4f0-4dd4-933b-7de14e8f4bc3"
      },
      "source": [
        "print(type(mylist_everything))\n",
        "\n",
        "print(len(mylist_long)) # shows the length of a list"
      ],
      "execution_count": 2,
      "outputs": [
        {
          "output_type": "stream",
          "name": "stdout",
          "text": [
            "<class 'list'>\n",
            "12\n"
          ]
        }
      ]
    },
    {
      "cell_type": "markdown",
      "metadata": {
        "id": "GSpDZtbSZjLi"
      },
      "source": [
        "### Loop\n"
      ]
    },
    {
      "cell_type": "code",
      "metadata": {
        "colab": {
          "base_uri": "https://localhost:8080/"
        },
        "id": "AuOnBkRqZiKG",
        "outputId": "38f7692a-06eb-43ff-ab38-51a8d6b93b94"
      },
      "source": [
        "# you can use loop for a list\n",
        "\n",
        "for i in mylist_everything:\n",
        "  print(i)\n"
      ],
      "execution_count": 3,
      "outputs": [
        {
          "output_type": "stream",
          "name": "stdout",
          "text": [
            "apple\n",
            "120\n",
            "cherry\n",
            "120\n"
          ]
        }
      ]
    },
    {
      "cell_type": "markdown",
      "metadata": {
        "id": "Zny0S6rLa0Tj"
      },
      "source": [
        "#### *PRACTICE TIME: Loop*\n",
        "\n",
        "\n",
        "\n",
        "1.   print only odd numbers of the list given below\n",
        "2.   print only items of the list below that occurred once"
      ]
    },
    {
      "cell_type": "code",
      "metadata": {
        "id": "LVGWJe2LbNJJ"
      },
      "source": [
        "# Your first code here\n",
        "list1 = [5, 10, 15, 20, 25, 50, 20]"
      ],
      "execution_count": null,
      "outputs": []
    },
    {
      "cell_type": "code",
      "metadata": {
        "id": "FUCyItW7bNq9"
      },
      "source": [
        "# Your second code here\n",
        "list1 = [5, 10, 15, 20, 25, 50, 20]"
      ],
      "execution_count": null,
      "outputs": []
    },
    {
      "cell_type": "markdown",
      "metadata": {
        "id": "UCVsQuJDbN9J"
      },
      "source": [
        "### Access Elemets\n"
      ]
    },
    {
      "cell_type": "code",
      "source": [
        "print(mylist_everything)"
      ],
      "metadata": {
        "colab": {
          "base_uri": "https://localhost:8080/"
        },
        "id": "fmC_Js649pW6",
        "outputId": "a1eb27f1-9793-453d-d278-fa97a0a3f7b8"
      },
      "execution_count": 6,
      "outputs": [
        {
          "output_type": "stream",
          "name": "stdout",
          "text": [
            "['apple', 120, 'cherry', 120]\n"
          ]
        }
      ]
    },
    {
      "cell_type": "code",
      "metadata": {
        "colab": {
          "base_uri": "https://localhost:8080/"
        },
        "id": "SlbeQSvMJpTd",
        "outputId": "f8983cbf-7734-4aa3-acf4-55c519de85ad"
      },
      "source": [
        "# We can access a list item by it's index. indexs start from 0\n",
        "\n",
        "print(mylist_number[0])\n",
        "print(mylist_everything[2])"
      ],
      "execution_count": 4,
      "outputs": [
        {
          "output_type": "stream",
          "name": "stdout",
          "text": [
            "3\n",
            "cherry\n"
          ]
        }
      ]
    },
    {
      "cell_type": "code",
      "metadata": {
        "colab": {
          "base_uri": "https://localhost:8080/"
        },
        "id": "7f-bJmZrKWxZ",
        "outputId": "fb6dd9f6-bc55-4b71-a68f-a423f691374b"
      },
      "source": [
        "# lists can accept negative indexes too\n",
        "\n",
        "print(mylist_sting[-1])\n",
        "print(mylist_everything[-2])"
      ],
      "execution_count": 5,
      "outputs": [
        {
          "output_type": "stream",
          "name": "stdout",
          "text": [
            "banana\n",
            "cherry\n"
          ]
        }
      ]
    },
    {
      "cell_type": "markdown",
      "metadata": {
        "id": "eIQ_VS0cLkzv"
      },
      "source": [
        "## Range in List"
      ]
    },
    {
      "cell_type": "code",
      "metadata": {
        "colab": {
          "base_uri": "https://localhost:8080/"
        },
        "id": "qEmR5FWTKfy-",
        "outputId": "04359ca5-1ae9-4088-a7db-f171e89c3df2"
      },
      "source": [
        "# you can specify a range of indexes too.\n",
        "\n",
        "print(mylist_long[5:]) # from 5 to the end\n",
        "print(mylist_long[1:7]) # from 1 to 3\n",
        "print(mylist_long[:3]) # from start to 3"
      ],
      "execution_count": 7,
      "outputs": [
        {
          "output_type": "stream",
          "name": "stdout",
          "text": [
            "['apple', 'banana', 28, True, 'cat', False, 28]\n",
            "[-10, 'cherry', 5, 'banana', 'apple', 'banana']\n",
            "['apple', -10, 'cherry']\n"
          ]
        }
      ]
    },
    {
      "cell_type": "code",
      "metadata": {
        "colab": {
          "base_uri": "https://localhost:8080/"
        },
        "id": "GSj3nc1LK31N",
        "outputId": "8835ea72-4e5d-4a2a-ee63-0d4e403acad1"
      },
      "source": [
        "print(mylist_long[1:8:2])\n",
        "print(mylist_long[5:1:-1]) # from 1 to 3"
      ],
      "execution_count": 8,
      "outputs": [
        {
          "output_type": "stream",
          "name": "stdout",
          "text": [
            "[-10, 5, 'apple', 28]\n",
            "['apple', 'banana', 5, 'cherry']\n"
          ]
        }
      ]
    },
    {
      "cell_type": "markdown",
      "metadata": {
        "id": "uqRMOMhcMcKF"
      },
      "source": [
        "#### *PRACTICE TIME: Access Elemets*\n",
        "\n",
        "\n",
        "1.  Print the index of the maximum element of the below list"
      ]
    },
    {
      "cell_type": "code",
      "metadata": {
        "id": "3qx8CllTLNKC"
      },
      "source": [
        "# Your first code here\n",
        "list1 = [5, 10, 15, 20, 25, 50, 20]"
      ],
      "execution_count": 9,
      "outputs": []
    },
    {
      "cell_type": "markdown",
      "metadata": {
        "id": "RslESsZkOD7N"
      },
      "source": [
        "## Change Items"
      ]
    },
    {
      "cell_type": "code",
      "metadata": {
        "colab": {
          "base_uri": "https://localhost:8080/"
        },
        "id": "hLnr301yOI0q",
        "outputId": "2bd13c65-43b6-4d89-d514-e19bea2f7520"
      },
      "source": [
        "# you can change a list item like this\n",
        "\n",
        "new_list = [1, 8, 6, 7, 0, 48]\n",
        "\n",
        "print(new_list)\n",
        "\n",
        "new_list[1] = \"changed\"\n",
        "\n",
        "print(new_list)"
      ],
      "execution_count": 10,
      "outputs": [
        {
          "output_type": "stream",
          "name": "stdout",
          "text": [
            "[1, 8, 6, 7, 0, 48]\n",
            "[1, 'changed', 6, 7, 0, 48]\n"
          ]
        }
      ]
    },
    {
      "cell_type": "code",
      "metadata": {
        "colab": {
          "base_uri": "https://localhost:8080/"
        },
        "id": "qGJvWb2vOaPG",
        "outputId": "b72df5bd-89d6-4643-8525-f41a00749fa1"
      },
      "source": [
        "# you can range change too\n",
        "\n",
        "print(new_list)\n",
        "\n",
        "new_list[3:7] = [\"one\", \"two\", \"three\"]\n",
        "\n",
        "print(new_list)"
      ],
      "execution_count": 11,
      "outputs": [
        {
          "output_type": "stream",
          "name": "stdout",
          "text": [
            "[1, 'changed', 6, 7, 0, 48]\n",
            "[1, 'changed', 6, 'one', 'two', 'three']\n"
          ]
        }
      ]
    },
    {
      "cell_type": "markdown",
      "metadata": {
        "id": "FYzn8LN8PNLL"
      },
      "source": [
        "#### *PRACTICE TIME: Change Items*\n",
        "\n",
        "\n",
        "1.  change new_list indexes 5, 3, 1; by [\"c\", \"b\", \"a\"] using range."
      ]
    },
    {
      "cell_type": "code",
      "metadata": {
        "id": "DQR_LZnmO397"
      },
      "source": [
        "# Your code here"
      ],
      "execution_count": null,
      "outputs": []
    },
    {
      "cell_type": "markdown",
      "metadata": {
        "id": "bWXCkw6tW60N"
      },
      "source": [
        "## Add to list\n",
        "**bold text**"
      ]
    },
    {
      "cell_type": "code",
      "metadata": {
        "colab": {
          "base_uri": "https://localhost:8080/"
        },
        "id": "GuxNssIzPs6B",
        "outputId": "a3f0cfef-1e57-4700-cf4e-a4d06912baf4"
      },
      "source": [
        "# you can add to the end of the list using append.\n",
        "\n",
        "mylist = [\"a\", 2, 6]\n",
        "\n",
        "print(mylist)\n",
        "\n",
        "mylist.append(\"v\")\n",
        "\n",
        "print(mylist)"
      ],
      "execution_count": 13,
      "outputs": [
        {
          "output_type": "stream",
          "name": "stdout",
          "text": [
            "['a', 2, 6]\n",
            "['a', 2, 6, 'v']\n"
          ]
        }
      ]
    },
    {
      "cell_type": "code",
      "metadata": {
        "colab": {
          "base_uri": "https://localhost:8080/"
        },
        "id": "S6ItyHlkXPaV",
        "outputId": "0f600b04-cc3b-459c-8d4a-53249904a510"
      },
      "source": [
        "# you can add item to the middle of a list using insert\n",
        "\n",
        "mylist.insert(2, \"added\")\n",
        "\n",
        "print(mylist)"
      ],
      "execution_count": 14,
      "outputs": [
        {
          "output_type": "stream",
          "name": "stdout",
          "text": [
            "['a', 2, 'added', 6, 'v']\n"
          ]
        }
      ]
    },
    {
      "cell_type": "code",
      "metadata": {
        "colab": {
          "base_uri": "https://localhost:8080/"
        },
        "id": "Zt8wB5FnXcS3",
        "outputId": "f0ecb162-a152-4513-a676-39c1ec1047d9"
      },
      "source": [
        "# you can sum two lists\n",
        "\n",
        "list1 = [\"a\", \"b\"]\n",
        "list2 = [1, 2]\n",
        "\n",
        "list3 = list1 + list2\n",
        "\n",
        "print(list3)"
      ],
      "execution_count": 15,
      "outputs": [
        {
          "output_type": "stream",
          "name": "stdout",
          "text": [
            "['a', 'b', 1, 2]\n"
          ]
        }
      ]
    },
    {
      "cell_type": "code",
      "metadata": {
        "colab": {
          "base_uri": "https://localhost:8080/"
        },
        "id": "Nwkvt87IXzQc",
        "outputId": "802fc98c-6946-4783-a91a-fc0ff814fa2d"
      },
      "source": [
        "# for removing you can use del\n",
        "\n",
        "del list3[2]\n",
        "\n",
        "print(list3)"
      ],
      "execution_count": null,
      "outputs": [
        {
          "output_type": "stream",
          "text": [
            "['a', 'b', 2]\n"
          ],
          "name": "stdout"
        }
      ]
    },
    {
      "cell_type": "markdown",
      "metadata": {
        "id": "f0vtjDlJaSp-"
      },
      "source": [
        "#### *PRACTICE TIME: Add to list*\n",
        "\n",
        "\n",
        "\n",
        "1.   Given two lists \"list_a\" and \"list_b\", creat a new list \"list_c\" containing intersection of these two.\n",
        "2.   Sort \"list_a\" in a new list called \"list_s\""
      ]
    },
    {
      "cell_type": "code",
      "metadata": {
        "id": "H7Mda7R9aRvV"
      },
      "source": [
        "# Your first code here\n",
        "list_a = [5, 10, 15, 20, 25, 50, 20]\n",
        "list_b = [70, 3, -4, 20, 80, 50]\n"
      ],
      "execution_count": null,
      "outputs": []
    },
    {
      "cell_type": "code",
      "metadata": {
        "id": "lLkA_kSpZT4A"
      },
      "source": [
        "# Your second code here\n",
        "list_a = [5, 10, 15, 20, 25, 50, 20]"
      ],
      "execution_count": null,
      "outputs": []
    }
  ]
}