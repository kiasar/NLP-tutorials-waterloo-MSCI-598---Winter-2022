{
  "nbformat": 4,
  "nbformat_minor": 0,
  "metadata": {
    "colab": {
      "name": "Python string part 1.ipynb",
      "provenance": []
    },
    "kernelspec": {
      "name": "python3",
      "display_name": "Python 3"
    },
    "language_info": {
      "name": "python"
    }
  },
  "cells": [
    {
      "cell_type": "markdown",
      "source": [
        "Hi\n",
        "\n",
        "In this tutorial we will look into python string"
      ],
      "metadata": {
        "id": "knkB2mqdw-Mf"
      }
    },
    {
      "cell_type": "code",
      "execution_count": null,
      "metadata": {
        "colab": {
          "base_uri": "https://localhost:8080/"
        },
        "id": "IdWgepAPw64w",
        "outputId": "75ca4819-7aea-4fda-e1bc-48ef2af3a092"
      },
      "outputs": [
        {
          "output_type": "stream",
          "name": "stdout",
          "text": [
            "s is a string ,   Type: <class 'str'>\n"
          ]
        }
      ],
      "source": [
        "s = \"s is a string\"\n",
        "\n",
        "print(s, \",   Type:\", type(s))"
      ]
    },
    {
      "cell_type": "markdown",
      "source": [
        "# It is somehow like a list!"
      ],
      "metadata": {
        "id": "CGpbIdwSyQK4"
      }
    },
    {
      "cell_type": "code",
      "source": [
        "# for getting length of a Sring use len function\n",
        "\n",
        "print(len(s))"
      ],
      "metadata": {
        "colab": {
          "base_uri": "https://localhost:8080/"
        },
        "id": "33m1kBqWxlv3",
        "outputId": "ccfb54e6-e5f9-401f-eeab-3ccb89221128"
      },
      "execution_count": null,
      "outputs": [
        {
          "output_type": "stream",
          "name": "stdout",
          "text": [
            "13\n"
          ]
        }
      ]
    },
    {
      "cell_type": "code",
      "source": [
        "# you can loop through a String like a list\n",
        "\n",
        "for x in \"my car\":\n",
        "  print(x)"
      ],
      "metadata": {
        "colab": {
          "base_uri": "https://localhost:8080/"
        },
        "id": "7iy6s9g1xLiV",
        "outputId": "ff6f8b1f-a4ef-4626-9036-a73dee212b4b"
      },
      "execution_count": null,
      "outputs": [
        {
          "output_type": "stream",
          "name": "stdout",
          "text": [
            "m\n",
            "y\n",
            " \n",
            "c\n",
            "a\n",
            "r\n"
          ]
        }
      ]
    },
    {
      "cell_type": "code",
      "source": [
        "# You can use \"in\" to check a string contains another string\n",
        "txt = \"I love playing games!\"\n",
        "print(\"love\" in txt)\n",
        "print(\"ayin\" in txt)"
      ],
      "metadata": {
        "colab": {
          "base_uri": "https://localhost:8080/"
        },
        "id": "QrapMAhzxhSu",
        "outputId": "8e037605-13c2-4621-bf49-c8b0ee57e902"
      },
      "execution_count": null,
      "outputs": [
        {
          "output_type": "stream",
          "name": "stdout",
          "text": [
            "True\n",
            "True\n"
          ]
        }
      ]
    },
    {
      "cell_type": "code",
      "source": [
        "# tu get a sub String just do as you do in a list!\n",
        "\n",
        "b = \"ha ha look at this!\"\n",
        "print(b[5:15])"
      ],
      "metadata": {
        "colab": {
          "base_uri": "https://localhost:8080/"
        },
        "id": "ydLGojntx8UY",
        "outputId": "eb3376a6-0fd9-4977-9e9f-1829cd60b357"
      },
      "execution_count": null,
      "outputs": [
        {
          "output_type": "stream",
          "name": "stdout",
          "text": [
            " look at t\n"
          ]
        }
      ]
    },
    {
      "cell_type": "code",
      "source": [
        "# you can add two strings!\n",
        "\n",
        "one = \"I'm 1, \"\n",
        "two = \"and I'm 2\"\n",
        "\n",
        "print(one + two)"
      ],
      "metadata": {
        "colab": {
          "base_uri": "https://localhost:8080/"
        },
        "id": "bW0F24zt03_1",
        "outputId": "e444edbd-ab87-4c6e-cb1e-8fd35a6b54e7"
      },
      "execution_count": null,
      "outputs": [
        {
          "output_type": "stream",
          "name": "stdout",
          "text": [
            "I'm 1, and I'm 2\n"
          ]
        }
      ]
    },
    {
      "cell_type": "markdown",
      "source": [
        "# some cool stuff"
      ],
      "metadata": {
        "id": "1dGE-BrVypix"
      }
    },
    {
      "cell_type": "code",
      "source": [
        "a = \"  This is a String!      \"\n",
        "\n",
        "print(a.upper())\n",
        "print(a.lower())\n",
        "print(a.strip()) # removes any whitespace from the beginning or the end\n",
        "print(a.replace(\"String\", \"longer string\"))"
      ],
      "metadata": {
        "colab": {
          "base_uri": "https://localhost:8080/"
        },
        "id": "E5oAg45Gyb7P",
        "outputId": "ba553f86-93a3-4bbd-f2a4-02865f349b76"
      },
      "execution_count": null,
      "outputs": [
        {
          "output_type": "stream",
          "name": "stdout",
          "text": [
            "  THIS IS A STRING!      \n",
            "  this is a string!      \n",
            "This is a String!\n",
            "  This is a longer string!      \n"
          ]
        }
      ]
    },
    {
      "cell_type": "code",
      "source": [
        "# You can use this function to split your string into a list\n",
        "\n",
        "sp = \"Roses are red, violets are blue, sugar is sweet, coding is too.\"\n",
        "\n",
        "print(sp.split(\",\"))\n",
        "print(sp.split(\" \"))\n",
        "print(sp.split(\"are\"))"
      ],
      "metadata": {
        "colab": {
          "base_uri": "https://localhost:8080/"
        },
        "id": "oXpbDP6CzgCP",
        "outputId": "a1abd346-6195-411e-ae47-295023c7d8b9"
      },
      "execution_count": null,
      "outputs": [
        {
          "output_type": "stream",
          "name": "stdout",
          "text": [
            "['Roses are red', ' violets are blue', ' sugar is sweet', ' coding is too.']\n",
            "['Roses', 'are', 'red,', 'violets', 'are', 'blue,', 'sugar', 'is', 'sweet,', 'coding', 'is', 'too.']\n",
            "['Roses ', ' red, violets ', ' blue, sugar is sweet, coding is too.']\n"
          ]
        }
      ]
    },
    {
      "cell_type": "code",
      "source": [
        "a = \"  This is a String!      \"\n",
        "\n",
        "print(a.count(\"i\"))\n",
        "print(a.find(\"Str\"))\n",
        "print(a.index(\"Str\"))"
      ],
      "metadata": {
        "colab": {
          "base_uri": "https://localhost:8080/"
        },
        "id": "vYqILNd10htB",
        "outputId": "948b9e05-68df-4de0-d93c-75a15993f5a0"
      },
      "execution_count": null,
      "outputs": [
        {
          "output_type": "stream",
          "name": "stdout",
          "text": [
            "3\n",
            "12\n",
            "12\n"
          ]
        }
      ]
    },
    {
      "cell_type": "code",
      "source": [
        "print(\" cat \".join([\"1\", \"2\", \"3\"]))"
      ],
      "metadata": {
        "colab": {
          "base_uri": "https://localhost:8080/"
        },
        "id": "AV3EllIy1cQd",
        "outputId": "d98763ea-b24a-485c-949a-79df89215075"
      },
      "execution_count": null,
      "outputs": [
        {
          "output_type": "stream",
          "name": "stdout",
          "text": [
            "1 cat 2 cat 3\n"
          ]
        }
      ]
    }
  ]
}