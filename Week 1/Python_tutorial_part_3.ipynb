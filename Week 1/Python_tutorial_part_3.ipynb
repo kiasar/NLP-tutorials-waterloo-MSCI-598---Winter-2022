{
  "nbformat": 4,
  "nbformat_minor": 0,
  "metadata": {
    "colab": {
      "name": "Python tutorial part 3.ipynb",
      "provenance": []
    },
    "kernelspec": {
      "name": "python3",
      "display_name": "Python 3"
    },
    "language_info": {
      "name": "python"
    }
  },
  "cells": [
    {
      "cell_type": "markdown",
      "source": [
        "# Python tutorial part 3\n",
        "\n",
        "In the part 3 we explore python data structures."
      ],
      "metadata": {
        "id": "kpWNaZMh-llE"
      }
    },
    {
      "cell_type": "markdown",
      "source": [
        "### 1- Tuples "
      ],
      "metadata": {
        "id": "AGXeNesN_Cvt"
      }
    },
    {
      "cell_type": "code",
      "execution_count": 2,
      "metadata": {
        "colab": {
          "base_uri": "https://localhost:8080/"
        },
        "id": "SqJJAn2f-g9J",
        "outputId": "2c45d975-e5e1-41d7-88bf-b07a0ae199da"
      },
      "outputs": [
        {
          "output_type": "stream",
          "name": "stdout",
          "text": [
            "(2, 5, 9)\n",
            "[2, 5, 9]\n"
          ]
        }
      ],
      "source": [
        "# Tuples are like lists, but unchangeable! tuple' object does not support item assignment or deletion.\n",
        "\n",
        "my_tuple = (2, 5, 9)\n",
        "my_list = [2, 5, 9]\n",
        "\n",
        "print(my_tuple)\n",
        "print(my_list)"
      ]
    },
    {
      "cell_type": "markdown",
      "source": [
        "### 2- Sets"
      ],
      "metadata": {
        "id": "SrN0MODbAZZU"
      }
    },
    {
      "cell_type": "code",
      "source": [
        "# Python also includes a data type for sets. A set is an unordered collection with no duplicate elements.\n",
        "# Basic uses include membership testing and eliminating duplicate entries.\n",
        "\n",
        "a_list = [5, 8, 5, 1, 1, 1, \"cat\", 8, \"cat\"] # this has duplicate items.\n",
        "set1 = set(a_list)\n",
        "\n",
        "print(set1)"
      ],
      "metadata": {
        "colab": {
          "base_uri": "https://localhost:8080/"
        },
        "id": "897J9Em8ARPX",
        "outputId": "593b1c7e-a65a-4076-a990-96eabebd2181"
      },
      "execution_count": 7,
      "outputs": [
        {
          "output_type": "stream",
          "name": "stdout",
          "text": [
            "{8, 1, 'cat', 5}\n"
          ]
        }
      ]
    },
    {
      "cell_type": "code",
      "source": [
        "# Set objects also support mathematical operations like union, intersection, difference, and symmetric difference.\n",
        "\n",
        "set2 = {\"cat\", 7, 6, 5}\n",
        "\n",
        "print(\"set1 + set2 = \", set1 - set2) # letters in set1 but not in set2\n",
        "print(\"set1 | set2 = \", set1 | set2) # letters in set1 or set2 or both\n",
        "print(\"set1 & set2 = \", set1 & set2) # letters in both sets\n",
        "print(\"set1 ^ set2 = \", set1 ^ set2) # letters not in both sets"
      ],
      "metadata": {
        "colab": {
          "base_uri": "https://localhost:8080/"
        },
        "id": "KQQxGryuBHfl",
        "outputId": "346b1705-6304-46d1-eeea-9f9a3e4c138e"
      },
      "execution_count": 13,
      "outputs": [
        {
          "output_type": "stream",
          "name": "stdout",
          "text": [
            "set1 + set2 =  {8, 1}\n",
            "set1 | set2 =  {1, 5, 6, 7, 8, 'cat'}\n",
            "set1 & set2 =  {'cat', 5}\n",
            "set1 ^ set2 =  {1, 6, 7, 8}\n"
          ]
        }
      ]
    },
    {
      "cell_type": "markdown",
      "source": [
        "### 3- Dictionaries"
      ],
      "metadata": {
        "id": "MXkI8_TLCaBh"
      }
    },
    {
      "cell_type": "code",
      "source": [
        "# Dictionaries are indexed by keys, which can be any immutable type; strings and numbers can always be keys.\n",
        "\n",
        "tel = {'jack': 4098, 'sape': 4139, \"mat\": 1049}\n",
        "\n",
        "print(tel)"
      ],
      "metadata": {
        "colab": {
          "base_uri": "https://localhost:8080/"
        },
        "id": "ONaoNIV8CZLt",
        "outputId": "b843dd3e-b722-4078-c986-1c5fa357d8c4"
      },
      "execution_count": 17,
      "outputs": [
        {
          "output_type": "stream",
          "name": "stdout",
          "text": [
            "{'jack': 4098, 'sape': 4139, 'mat': 1049}\n"
          ]
        }
      ]
    },
    {
      "cell_type": "code",
      "source": [
        "# adding new item\n",
        "tel['guido'] = 4127\n",
        "\n",
        "# removing an item\n",
        "del tel['sape']\n",
        "\n",
        "print(tel)"
      ],
      "metadata": {
        "colab": {
          "base_uri": "https://localhost:8080/"
        },
        "id": "dKP5vDsEBmbn",
        "outputId": "d3bdbdbd-e472-48c9-be5c-4476267b9216"
      },
      "execution_count": 18,
      "outputs": [
        {
          "output_type": "stream",
          "name": "stdout",
          "text": [
            "{'jack': 4098, 'mat': 1049, 'guido': 4127}\n"
          ]
        }
      ]
    },
    {
      "cell_type": "code",
      "source": [
        "# looping a dict\n",
        "\n",
        "for k, v in tel.items():\n",
        "  print(k, \" : \", v)"
      ],
      "metadata": {
        "colab": {
          "base_uri": "https://localhost:8080/"
        },
        "id": "vfQBxtCaLvgM",
        "outputId": "c25196d5-3aae-4050-cc75-93e0568ebc30"
      },
      "execution_count": 19,
      "outputs": [
        {
          "output_type": "stream",
          "name": "stdout",
          "text": [
            "jack  :  4098\n",
            "mat  :  1049\n",
            "guido  :  4127\n"
          ]
        }
      ]
    },
    {
      "cell_type": "code",
      "source": [
        ""
      ],
      "metadata": {
        "id": "KO1ajsnQL75o"
      },
      "execution_count": null,
      "outputs": []
    }
  ]
}