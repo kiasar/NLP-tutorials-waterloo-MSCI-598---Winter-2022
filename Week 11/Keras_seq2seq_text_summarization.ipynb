{
  "nbformat": 4,
  "nbformat_minor": 0,
  "metadata": {
    "colab": {
      "name": "Keras_seq2seq_text_summarization.ipynb",
      "provenance": []
    },
    "kernelspec": {
      "name": "python3",
      "display_name": "Python 3"
    },
    "language_info": {
      "name": "python"
    },
    "accelerator": "GPU"
  },
  "cells": [
    {
      "cell_type": "code",
      "execution_count": 83,
      "metadata": {
        "id": "moTpQZcbU6wQ",
        "colab": {
          "base_uri": "https://localhost:8080/"
        },
        "outputId": "b1f55218-360a-46dc-db64-a2fc22af51c6"
      },
      "outputs": [
        {
          "output_type": "stream",
          "name": "stdout",
          "text": [
            "[nltk_data] Downloading package punkt to /root/nltk_data...\n",
            "[nltk_data]   Package punkt is already up-to-date!\n"
          ]
        }
      ],
      "source": [
        "import keras\n",
        "import pandas as pd\n",
        "import numpy as np\n",
        "\n",
        "from sklearn.model_selection import train_test_split\n",
        "\n",
        "import nltk\n",
        "from nltk.tokenize import word_tokenize\n",
        "nltk.download('punkt')\n",
        "\n",
        "from tensorflow import keras\n",
        "from keras.preprocessing.text import text_to_word_sequence, Tokenizer\n",
        "from keras.preprocessing.sequence import pad_sequences\n",
        "from tensorflow.keras.utils import to_categorical\n",
        "from keras.optimizers import Optimizer\n",
        "from keras import callbacks\n",
        "\n",
        "import matplotlib as mpl\n",
        "%matplotlib inline\n",
        "from matplotlib import pyplot as plt\n",
        "from keras.utils.vis_utils import plot_model\n",
        "from IPython.display import Image\n",
        "\n",
        "np.random.seed(17)"
      ]
    },
    {
      "cell_type": "code",
      "source": [
        "keras.__version__"
      ],
      "metadata": {
        "colab": {
          "base_uri": "https://localhost:8080/",
          "height": 35
        },
        "id": "2uFUq1JBVFqX",
        "outputId": "19dfa92c-0323-4e6d-de13-96d03332b277"
      },
      "execution_count": 2,
      "outputs": [
        {
          "output_type": "execute_result",
          "data": {
            "text/plain": [
              "'2.8.0'"
            ],
            "application/vnd.google.colaboratory.intrinsic+json": {
              "type": "string"
            }
          },
          "metadata": {},
          "execution_count": 2
        }
      ]
    },
    {
      "cell_type": "code",
      "source": [
        "! ls drive/MyDrive/Tutorial/week\\ 11/"
      ],
      "metadata": {
        "colab": {
          "base_uri": "https://localhost:8080/"
        },
        "id": "HiAmj-O3W19x",
        "outputId": "fdff237c-6002-4855-d5b9-a8f985c7bba0"
      },
      "execution_count": 3,
      "outputs": [
        {
          "output_type": "stream",
          "name": "stdout",
          "text": [
            "amazon_reviews.csv  glove.6B.300d.txt\n"
          ]
        }
      ]
    },
    {
      "cell_type": "code",
      "source": [
        "DATA_FILE_PATH = 'drive/MyDrive/Tutorial/week 11/amazon_reviews.csv' \n",
        "# If you don't have glove 300d, download it from https://www.kaggle.com/thanakomsn/glove6b300dtxt\n",
        "EMB_DIR = 'drive/MyDrive/Tutorial/week 11/glove.6B.300d.txt'\n",
        "\n",
        "MAX_TEXT_VOCAB_SIZE = 30000\n",
        "MAX_SUMMARY_VOCAB_SIZE = 10000 \n",
        "MAX_TEXT_LEN = 100 # HOW WE GOT THIS? I WILL SHOW YOU LATER\n",
        "MAX_SUMMARY_LEN = 5 # HOW WE GOT THIS? I WILL SHOW YOU LATER\n",
        "\n",
        "LSTM_DIM = 300\n",
        "EMBEDDING_DIM = 300\n",
        "\n",
        "BATCH_SIZE = 128\n",
        "N_EPOCHS = 1"
      ],
      "metadata": {
        "id": "PQhq59XKVxk9"
      },
      "execution_count": 4,
      "outputs": []
    },
    {
      "cell_type": "code",
      "source": [
        "df = pd.read_csv(DATA_FILE_PATH)\n",
        "# Converting all columns to string\n",
        "df['Summary'] = df['Summary'].apply(lambda x: str(x))\n",
        "df['Text'] = df['Text'].apply(lambda x: str(x))\n",
        "\n",
        "print('Number of rows = ', df.shape[0])\n",
        "df"
      ],
      "metadata": {
        "id": "Y1S2axubWQKz",
        "colab": {
          "base_uri": "https://localhost:8080/",
          "height": 441
        },
        "outputId": "ddb277e6-93c1-4e9f-a0bd-5a504d86419b"
      },
      "execution_count": 6,
      "outputs": [
        {
          "output_type": "stream",
          "name": "stdout",
          "text": [
            "Number of rows =  100000\n"
          ]
        },
        {
          "output_type": "execute_result",
          "data": {
            "text/plain": [
              "                                                 Summary  \\\n",
              "0                                  Good Quality Dog Food   \n",
              "1                                      Not as Advertised   \n",
              "2                                  \"Delight\" says it all   \n",
              "3                                         Cough Medicine   \n",
              "4                                            Great taffy   \n",
              "...                                                  ...   \n",
              "99995                                             yummy!   \n",
              "99996                                  Tastes like More!   \n",
              "99997                                        Great ramen   \n",
              "99998                                            Spicy!!   \n",
              "99999  This spicy noodle cures my cold, upset stomach...   \n",
              "\n",
              "                                                    Text  \n",
              "0      I have bought several of the Vitality canned d...  \n",
              "1      Product arrived labeled as Jumbo Salted Peanut...  \n",
              "2      This is a confection that has been around a fe...  \n",
              "3      If you are looking for the secret ingredient i...  \n",
              "4      Great taffy at a great price.  There was a wid...  \n",
              "...                                                  ...  \n",
              "99995  I just love it and will buy another box when I...  \n",
              "99996  My late father in law used to have a rating sy...  \n",
              "99997  This is my favorite brand of Korean ramen. It ...  \n",
              "99998  I do like these noodles although, to say they ...  \n",
              "99999  I love this noodle and have it once or twice a...  \n",
              "\n",
              "[100000 rows x 2 columns]"
            ],
            "text/html": [
              "\n",
              "  <div id=\"df-d1b61326-1b73-4c04-8646-bd0e626247a3\">\n",
              "    <div class=\"colab-df-container\">\n",
              "      <div>\n",
              "<style scoped>\n",
              "    .dataframe tbody tr th:only-of-type {\n",
              "        vertical-align: middle;\n",
              "    }\n",
              "\n",
              "    .dataframe tbody tr th {\n",
              "        vertical-align: top;\n",
              "    }\n",
              "\n",
              "    .dataframe thead th {\n",
              "        text-align: right;\n",
              "    }\n",
              "</style>\n",
              "<table border=\"1\" class=\"dataframe\">\n",
              "  <thead>\n",
              "    <tr style=\"text-align: right;\">\n",
              "      <th></th>\n",
              "      <th>Summary</th>\n",
              "      <th>Text</th>\n",
              "    </tr>\n",
              "  </thead>\n",
              "  <tbody>\n",
              "    <tr>\n",
              "      <th>0</th>\n",
              "      <td>Good Quality Dog Food</td>\n",
              "      <td>I have bought several of the Vitality canned d...</td>\n",
              "    </tr>\n",
              "    <tr>\n",
              "      <th>1</th>\n",
              "      <td>Not as Advertised</td>\n",
              "      <td>Product arrived labeled as Jumbo Salted Peanut...</td>\n",
              "    </tr>\n",
              "    <tr>\n",
              "      <th>2</th>\n",
              "      <td>\"Delight\" says it all</td>\n",
              "      <td>This is a confection that has been around a fe...</td>\n",
              "    </tr>\n",
              "    <tr>\n",
              "      <th>3</th>\n",
              "      <td>Cough Medicine</td>\n",
              "      <td>If you are looking for the secret ingredient i...</td>\n",
              "    </tr>\n",
              "    <tr>\n",
              "      <th>4</th>\n",
              "      <td>Great taffy</td>\n",
              "      <td>Great taffy at a great price.  There was a wid...</td>\n",
              "    </tr>\n",
              "    <tr>\n",
              "      <th>...</th>\n",
              "      <td>...</td>\n",
              "      <td>...</td>\n",
              "    </tr>\n",
              "    <tr>\n",
              "      <th>99995</th>\n",
              "      <td>yummy!</td>\n",
              "      <td>I just love it and will buy another box when I...</td>\n",
              "    </tr>\n",
              "    <tr>\n",
              "      <th>99996</th>\n",
              "      <td>Tastes like More!</td>\n",
              "      <td>My late father in law used to have a rating sy...</td>\n",
              "    </tr>\n",
              "    <tr>\n",
              "      <th>99997</th>\n",
              "      <td>Great ramen</td>\n",
              "      <td>This is my favorite brand of Korean ramen. It ...</td>\n",
              "    </tr>\n",
              "    <tr>\n",
              "      <th>99998</th>\n",
              "      <td>Spicy!!</td>\n",
              "      <td>I do like these noodles although, to say they ...</td>\n",
              "    </tr>\n",
              "    <tr>\n",
              "      <th>99999</th>\n",
              "      <td>This spicy noodle cures my cold, upset stomach...</td>\n",
              "      <td>I love this noodle and have it once or twice a...</td>\n",
              "    </tr>\n",
              "  </tbody>\n",
              "</table>\n",
              "<p>100000 rows × 2 columns</p>\n",
              "</div>\n",
              "      <button class=\"colab-df-convert\" onclick=\"convertToInteractive('df-d1b61326-1b73-4c04-8646-bd0e626247a3')\"\n",
              "              title=\"Convert this dataframe to an interactive table.\"\n",
              "              style=\"display:none;\">\n",
              "        \n",
              "  <svg xmlns=\"http://www.w3.org/2000/svg\" height=\"24px\"viewBox=\"0 0 24 24\"\n",
              "       width=\"24px\">\n",
              "    <path d=\"M0 0h24v24H0V0z\" fill=\"none\"/>\n",
              "    <path d=\"M18.56 5.44l.94 2.06.94-2.06 2.06-.94-2.06-.94-.94-2.06-.94 2.06-2.06.94zm-11 1L8.5 8.5l.94-2.06 2.06-.94-2.06-.94L8.5 2.5l-.94 2.06-2.06.94zm10 10l.94 2.06.94-2.06 2.06-.94-2.06-.94-.94-2.06-.94 2.06-2.06.94z\"/><path d=\"M17.41 7.96l-1.37-1.37c-.4-.4-.92-.59-1.43-.59-.52 0-1.04.2-1.43.59L10.3 9.45l-7.72 7.72c-.78.78-.78 2.05 0 2.83L4 21.41c.39.39.9.59 1.41.59.51 0 1.02-.2 1.41-.59l7.78-7.78 2.81-2.81c.8-.78.8-2.07 0-2.86zM5.41 20L4 18.59l7.72-7.72 1.47 1.35L5.41 20z\"/>\n",
              "  </svg>\n",
              "      </button>\n",
              "      \n",
              "  <style>\n",
              "    .colab-df-container {\n",
              "      display:flex;\n",
              "      flex-wrap:wrap;\n",
              "      gap: 12px;\n",
              "    }\n",
              "\n",
              "    .colab-df-convert {\n",
              "      background-color: #E8F0FE;\n",
              "      border: none;\n",
              "      border-radius: 50%;\n",
              "      cursor: pointer;\n",
              "      display: none;\n",
              "      fill: #1967D2;\n",
              "      height: 32px;\n",
              "      padding: 0 0 0 0;\n",
              "      width: 32px;\n",
              "    }\n",
              "\n",
              "    .colab-df-convert:hover {\n",
              "      background-color: #E2EBFA;\n",
              "      box-shadow: 0px 1px 2px rgba(60, 64, 67, 0.3), 0px 1px 3px 1px rgba(60, 64, 67, 0.15);\n",
              "      fill: #174EA6;\n",
              "    }\n",
              "\n",
              "    [theme=dark] .colab-df-convert {\n",
              "      background-color: #3B4455;\n",
              "      fill: #D2E3FC;\n",
              "    }\n",
              "\n",
              "    [theme=dark] .colab-df-convert:hover {\n",
              "      background-color: #434B5C;\n",
              "      box-shadow: 0px 1px 3px 1px rgba(0, 0, 0, 0.15);\n",
              "      filter: drop-shadow(0px 1px 2px rgba(0, 0, 0, 0.3));\n",
              "      fill: #FFFFFF;\n",
              "    }\n",
              "  </style>\n",
              "\n",
              "      <script>\n",
              "        const buttonEl =\n",
              "          document.querySelector('#df-d1b61326-1b73-4c04-8646-bd0e626247a3 button.colab-df-convert');\n",
              "        buttonEl.style.display =\n",
              "          google.colab.kernel.accessAllowed ? 'block' : 'none';\n",
              "\n",
              "        async function convertToInteractive(key) {\n",
              "          const element = document.querySelector('#df-d1b61326-1b73-4c04-8646-bd0e626247a3');\n",
              "          const dataTable =\n",
              "            await google.colab.kernel.invokeFunction('convertToInteractive',\n",
              "                                                     [key], {});\n",
              "          if (!dataTable) return;\n",
              "\n",
              "          const docLinkHtml = 'Like what you see? Visit the ' +\n",
              "            '<a target=\"_blank\" href=https://colab.research.google.com/notebooks/data_table.ipynb>data table notebook</a>'\n",
              "            + ' to learn more about interactive tables.';\n",
              "          element.innerHTML = '';\n",
              "          dataTable['output_type'] = 'display_data';\n",
              "          await google.colab.output.renderOutput(dataTable, element);\n",
              "          const docLink = document.createElement('div');\n",
              "          docLink.innerHTML = docLinkHtml;\n",
              "          element.appendChild(docLink);\n",
              "        }\n",
              "      </script>\n",
              "    </div>\n",
              "  </div>\n",
              "  "
            ]
          },
          "metadata": {},
          "execution_count": 6
        }
      ]
    },
    {
      "cell_type": "code",
      "source": [
        "sent_len = lambda x:len(x)\n",
        "df['Summary_length'] = df.Summary.apply(sent_len)\n",
        "df[df['Summary_length']<5]['Summary']"
      ],
      "metadata": {
        "colab": {
          "base_uri": "https://localhost:8080/"
        },
        "id": "A6efGJnM4CJ6",
        "outputId": "8bb59fca-e702-47ed-af0e-d1061572d305"
      },
      "execution_count": 15,
      "outputs": [
        {
          "output_type": "execute_result",
          "data": {
            "text/plain": [
              "46       good\n",
              "76       Good\n",
              "99        Bad\n",
              "310       WOW\n",
              "316      Hot!\n",
              "         ... \n",
              "99697    WOW!\n",
              "99750    Whoa\n",
              "99797     yuk\n",
              "99880    Yum!\n",
              "99929     WOW\n",
              "Name: Summary, Length: 1509, dtype: object"
            ]
          },
          "metadata": {},
          "execution_count": 15
        }
      ]
    },
    {
      "cell_type": "code",
      "source": [
        "# Summaries having lesser than 5 characters can be discarded - noisy data\n",
        "indices = df[df['Summary_length']<5].index\n",
        "df.drop(indices, inplace=True)\n",
        "\n",
        "# Can drop the Summary_length columns - to save memory\n",
        "df.drop('Summary_length', inplace=True, axis=1)\n",
        "\n",
        "df.reset_index(inplace=True, drop=True)\n",
        "df.shape"
      ],
      "metadata": {
        "colab": {
          "base_uri": "https://localhost:8080/"
        },
        "id": "qeOUm37n456c",
        "outputId": "8293ede3-a0fd-4330-fd00-b37dbc4c4a59"
      },
      "execution_count": 16,
      "outputs": [
        {
          "output_type": "execute_result",
          "data": {
            "text/plain": [
              "(98491, 2)"
            ]
          },
          "metadata": {},
          "execution_count": 16
        }
      ]
    },
    {
      "cell_type": "code",
      "source": [
        "# THIS IS HOW WE GOT MAX_TEXT_LEN = 100\n",
        "# THIS IS HOW WE GOT MAX_SUMMARY_LEN = 5\n",
        "\n",
        "word_count = lambda x:len(x.split()) # Word count for each question\n",
        "df['s_wc'] = df.Summary.apply(word_count)\n",
        "df['t_wc'] = df.Text.apply(word_count)\n",
        "\n",
        "p = 75.0\n",
        "\n",
        "print(' Summary :{} % of the summaries have a length less than or equal to {}'.format(p, np.percentile(df['s_wc'], p)))\n",
        "print(' Text :{} % of the texts have a length less than or equal to {}'.format(p, np.percentile(df['t_wc'], p)))"
      ],
      "metadata": {
        "colab": {
          "base_uri": "https://localhost:8080/"
        },
        "id": "tpWLh7cT5RAn",
        "outputId": "6b7f3d0f-12d3-4cff-d109-eca106137204"
      },
      "execution_count": 18,
      "outputs": [
        {
          "output_type": "stream",
          "name": "stdout",
          "text": [
            " Summary :75.0 % of the summaries have a length less than or equal to 5.0\n",
            " Text :75.0 % of the texts have a length less than or equal to 100.0\n"
          ]
        }
      ]
    },
    {
      "cell_type": "code",
      "source": [
        "text_list = [' '.join(word_tokenize(x)[:MAX_TEXT_LEN]) for x in df['Text']]\n",
        "summary_list = [' '.join(word_tokenize(x)[:MAX_SUMMARY_LEN]) for x in df['Summary']]"
      ],
      "metadata": {
        "id": "BTKbfKLe5VW1"
      },
      "execution_count": 22,
      "outputs": []
    },
    {
      "cell_type": "markdown",
      "source": [
        "## Separate embedding matrices - one for encoder side (Texts), one for decoder side (Summary)\n",
        "\n",
        "\n",
        "* We could use a shared embedding matrix if the source and target have similar vocabularies (same size and same domain). Eg. for dialogue generation\n",
        "\n",
        "* If the vocabularies are different, e.g., machine translation, we definitely need to use different embedding matrices\n",
        "\n",
        "* In this case, the summaries (decoder side) will have a smaller vocabulary than the texts (source side). It is not efficient to use a shared vocabulary/shared embedding matrix. For example, on the decoder side if we have 30,000 words vs. 5,000 words -> it is more difficult for the decoder (the softmax) to select 1 word from 30,000 choices vs. 1 from 5,000.\n",
        "\n",
        "# Preparing the word-to-index mapping\n",
        "\n",
        "Special tokens\n",
        "\n",
        "* PAD [Padding]\n",
        "* SOS [Start of sentence] (only required for the decoder input, for the 1st timestep to inform the decoder that it can now start decoding)\n",
        "* EOS [End of sentence]\n",
        "* UNK [Unknown]"
      ],
      "metadata": {
        "id": "hBwwSlGZAjRd"
      }
    },
    {
      "cell_type": "code",
      "source": [
        "filter_list = '!\"\\'#$%&()*+,-./:;<=>?@[\\\\]^_`{|}~\\t\\n'\n",
        "\n",
        "text_tokenizer = Tokenizer(filters=filter_list)\n",
        "text_tokenizer.fit_on_texts(text_list)\n",
        "print(\"Number of words in TEXT vocabulary:\", len(text_tokenizer.word_index))\n",
        "\n",
        "summary_tokenizer = Tokenizer(filters=filter_list)  \n",
        "summary_tokenizer.fit_on_texts(summary_list)\n",
        "print(\"Number of words in SUMMARY vocabulary:\", len(summary_tokenizer.word_index))"
      ],
      "metadata": {
        "colab": {
          "base_uri": "https://localhost:8080/"
        },
        "id": "BSGzJJdqAinN",
        "outputId": "b029e8a2-ec86-4545-c8f8-47f70c393799"
      },
      "execution_count": 29,
      "outputs": [
        {
          "output_type": "stream",
          "name": "stdout",
          "text": [
            "Number of words in TEXT vocabulary: 45418\n",
            "Number of words in SUMMARY vocabulary: 13409\n"
          ]
        }
      ]
    },
    {
      "cell_type": "code",
      "source": [
        "text_word_index = {}\n",
        "text_word_index['PAD'] = 0\n",
        "text_word_index['UNK'] = 1\n",
        "text_word_index['EOS'] = 2\n",
        "\n",
        "for i, word in enumerate(dict(text_tokenizer.word_index).keys()):\n",
        "  if not word == \"PAD\" and not word == \"UNK\" and not word == \"EOS\":\n",
        "      text_word_index[word] = i+3 # Move existing indices up by 3 places\n",
        "    \n",
        "text_tokenizer.word_index = text_word_index\n",
        "X = text_tokenizer.texts_to_sequences(text_list)\n",
        "\n",
        "# Replace OOV words with UNK token\n",
        "# Append EOS to the end of all sentences\n",
        "for i, seq in enumerate(X):\n",
        "    if any(t>=MAX_TEXT_VOCAB_SIZE for t in seq):\n",
        "        seq = [t if t<MAX_TEXT_VOCAB_SIZE else text_word_index['UNK'] for t in seq ]\n",
        "    seq.append(text_word_index['EOS'])\n",
        "    X[i] = seq    \n",
        "    \n",
        "# Padding and truncating sequences\n",
        "X = pad_sequences(X, padding='post', truncating='post', maxlen=MAX_TEXT_LEN, value=text_word_index['PAD'])\n",
        "\n",
        "# Finalize the dictionaries\n",
        "text_word_index = {k: v for k, v in text_word_index.items() if v < MAX_TEXT_VOCAB_SIZE} \n",
        "text_idx_to_word = dict((i, word) for word, i in text_word_index.items())"
      ],
      "metadata": {
        "id": "8pAW63GO6Ewn"
      },
      "execution_count": 43,
      "outputs": []
    },
    {
      "cell_type": "code",
      "source": [
        "X"
      ],
      "metadata": {
        "colab": {
          "base_uri": "https://localhost:8080/"
        },
        "id": "0RWQ99x-E1uI",
        "outputId": "c64583f7-e315-4d14-bd25-88907c3ca87a"
      },
      "execution_count": 46,
      "outputs": [
        {
          "output_type": "execute_result",
          "data": {
            "text/plain": [
              "array([[   7,   21,  117, ...,    0,    0,    0],\n",
              "       [  45,  316, 2118, ...,    0,    0,    0],\n",
              "       [  14,   13,    9, ...,    0,    0,    0],\n",
              "       ...,\n",
              "       [  14,   13,   17, ...,    0,    0,    0],\n",
              "       [   7,   49,   33, ...,    0,    0,    0],\n",
              "       [   7,   52,   14, ...,    0,    0,    0]], dtype=int32)"
            ]
          },
          "metadata": {},
          "execution_count": 46
        }
      ]
    },
    {
      "cell_type": "code",
      "source": [
        "summary_word_index = {}\n",
        "summary_word_index['PAD'] = 0\n",
        "summary_word_index['UNK'] = 1\n",
        "summary_word_index['EOS'] = 2\n",
        "summary_word_index['SOS'] = 3\n",
        "\n",
        "for i, word in enumerate(dict(summary_tokenizer.word_index).keys()):\n",
        "  if not word == \"PAD\" and not word == \"UNK\" and not word == \"EOS\" and not word == \"SOS\":\n",
        "    summary_word_index[word] = i+4 # Move existing indices up by 4 places\n",
        "    \n",
        "summary_tokenizer.word_index = summary_word_index\n",
        "Y = summary_tokenizer.texts_to_sequences(summary_list)\n",
        "\n",
        "# Replace OOV words with UNK token\n",
        "# Append EOS to the end of all sentences\n",
        "for i, seq in enumerate(Y):\n",
        "    if any(t>=MAX_SUMMARY_VOCAB_SIZE for t in seq):\n",
        "        seq = [t if t<MAX_SUMMARY_VOCAB_SIZE else summary_word_index['UNK'] for t in seq ]\n",
        "    seq.append(summary_word_index['EOS'])\n",
        "    Y[i] = seq    \n",
        "    \n",
        "# Padding and truncating sequences\n",
        "Y = pad_sequences(Y, padding='post', truncating='post', maxlen=MAX_SUMMARY_LEN, value=summary_word_index['PAD'])\n",
        "\n",
        "# Finalize the dictionaries\n",
        "summary_word_index = {k: v for k, v in summary_word_index.items() if v < MAX_SUMMARY_VOCAB_SIZE} \n",
        "summary_idx_to_word = dict((i, word) for word, i in summary_word_index.items()) "
      ],
      "metadata": {
        "id": "ojLSIQDfHDtM"
      },
      "execution_count": 47,
      "outputs": []
    },
    {
      "cell_type": "code",
      "source": [
        "Y"
      ],
      "metadata": {
        "colab": {
          "base_uri": "https://localhost:8080/"
        },
        "id": "oBVnIG1yHLQb",
        "outputId": "f822550d-f5e9-45e3-c4a1-5d8bff1c7f94"
      },
      "execution_count": 48,
      "outputs": [
        {
          "output_type": "execute_result",
          "data": {
            "text/plain": [
              "array([[   5,   68,   28,   35,    2],\n",
              "       [   9,   44,  538,    2,    0],\n",
              "       [ 474,  452,   14,    2,    0],\n",
              "       ...,\n",
              "       [   4,  719,    2,    0,    0],\n",
              "       [ 145,    2,    0,    0,    0],\n",
              "       [  18,  145,  552, 7430,   12]], dtype=int32)"
            ]
          },
          "metadata": {},
          "execution_count": 48
        }
      ]
    },
    {
      "cell_type": "markdown",
      "source": [
        "## Train-Validation-Test Splits"
      ],
      "metadata": {
        "id": "XYcUGuCtJcDo"
      }
    },
    {
      "cell_type": "code",
      "source": [
        "X_train, X_val_test, Y_train, Y_val_test = train_test_split(X, Y, test_size=0.05)\n",
        "X_val, X_test, Y_val, Y_test = train_test_split(X_val_test, Y_val_test, test_size=0.5)"
      ],
      "metadata": {
        "id": "5LBDmfSbJY9_"
      },
      "execution_count": 49,
      "outputs": []
    },
    {
      "cell_type": "markdown",
      "source": [
        "# Embedding Matrix\n"
      ],
      "metadata": {
        "id": "fme-4EQGJxPz"
      }
    },
    {
      "cell_type": "code",
      "source": [
        "# Load GloVe word embeddings \n",
        "# Download Link: https://nlp.stanford.edu/projects/glove/\n",
        "print(\"[INFO]: Reading Word Embeddings ...\")\n",
        "# Data path\n",
        "embeddings = {}\n",
        "f = open(EMB_DIR)\n",
        "for line in f:\n",
        "    values = line.split()\n",
        "    word = values[0]\n",
        "    vector = np.asarray(values[1:], dtype='float32')\n",
        "    embeddings[word] = vector\n",
        "f.close()"
      ],
      "metadata": {
        "colab": {
          "base_uri": "https://localhost:8080/"
        },
        "id": "k9881zYZJvBI",
        "outputId": "ac590feb-7d4a-4783-ad6b-a6fed19ffc28"
      },
      "execution_count": 62,
      "outputs": [
        {
          "output_type": "stream",
          "name": "stdout",
          "text": [
            "[INFO]: Reading Word Embeddings ...\n"
          ]
        }
      ]
    },
    {
      "cell_type": "code",
      "source": [
        "encoder_embeddings_matrix = np.random.uniform(-0.05, 0.05, size=(len(text_word_index) + 3, EMBEDDING_DIM)) \n",
        "\n",
        "for word, i in text_word_index.items(): # i=0 is the embedding for the zero padding\n",
        "    try:\n",
        "        embeddings_vector = embeddings[word]\n",
        "    except KeyError:\n",
        "        embeddings_vector = None\n",
        "    if embeddings_vector is not None:\n",
        "        encoder_embeddings_matrix[i] = embeddings_vector"
      ],
      "metadata": {
        "id": "dn132g_dLgm6"
      },
      "execution_count": 57,
      "outputs": []
    },
    {
      "cell_type": "code",
      "source": [
        "print(encoder_embeddings_matrix.shape)"
      ],
      "metadata": {
        "colab": {
          "base_uri": "https://localhost:8080/"
        },
        "id": "AzHgZRVKMtMl",
        "outputId": "52e4292a-a3d6-4d13-ccd1-b2d0ae52ad9c"
      },
      "execution_count": 58,
      "outputs": [
        {
          "output_type": "stream",
          "name": "stdout",
          "text": [
            "(30000, 300)\n"
          ]
        }
      ]
    },
    {
      "cell_type": "code",
      "source": [
        "decoder_embeddings_matrix = np.random.uniform(-0.05, 0.05, size=(len(summary_word_index), EMBEDDING_DIM)) \n",
        "\n",
        "for word, i in summary_word_index.items(): # i=0 is the embedding for the zero padding\n",
        "    try:\n",
        "        embeddings_vector = embeddings[word]\n",
        "    except KeyError:\n",
        "        embeddings_vector = None\n",
        "    if embeddings_vector is not None:\n",
        "        decoder_embeddings_matrix[i] = embeddings_vector"
      ],
      "metadata": {
        "id": "A6klYhS2M-Ao"
      },
      "execution_count": 63,
      "outputs": []
    },
    {
      "cell_type": "code",
      "source": [
        "print(decoder_embeddings_matrix.shape)"
      ],
      "metadata": {
        "colab": {
          "base_uri": "https://localhost:8080/"
        },
        "id": "c1Glxns0NFJG",
        "outputId": "b57c29a0-4675-45e0-bff2-37da564be216"
      },
      "execution_count": 64,
      "outputs": [
        {
          "output_type": "stream",
          "name": "stdout",
          "text": [
            "(10000, 300)\n"
          ]
        }
      ]
    },
    {
      "cell_type": "markdown",
      "source": [
        "# Model during training\n",
        "\n",
        "Input: [where, do, you, live, ?, EOS]\n",
        "\n",
        "Output: [I, reside, in, waterloo, EOS]\n",
        "\n",
        "When the model predicts wrongly, we need to correct it so that errors are not accumulated. TEACHER FORCING\n",
        "\n",
        "![image.png](data:image/png;base64,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)\n",
        "\n",
        "# Keras Model Building\n",
        "Adapted from Keras blog post: https://blog.keras.io/a-ten-minute-introduction-to-sequence-to-sequence-learning-in-keras.html"
      ],
      "metadata": {
        "id": "IfNfAzoUNfOj"
      }
    },
    {
      "cell_type": "code",
      "source": [
        "from keras.models import Model\n",
        "from keras.layers import Input, LSTM, Dense, Embedding\n",
        "from keras import backend as K"
      ],
      "metadata": {
        "id": "h6cpn4DcNG-o"
      },
      "execution_count": 65,
      "outputs": []
    },
    {
      "cell_type": "markdown",
      "source": [
        "\n",
        "\n",
        "When the datasets are huge, it is a good idea to make use of the keras fit_generator.\n",
        "Basically, we need to generator function that feeds inputs and corresponding outputs in a batch_wise fashion.\n",
        "\n",
        "In our case, we have\n",
        "\n",
        "* encoder inputs\n",
        "* decoder inputs (which is the ground truth delayed by 1 timestep)\n",
        "* decoder outputs\n",
        "\n",
        "For decoder outputs for each token, we need to predict a softmax of the vocabulary |V|. If we have m tokens and a training data size of n, we need to store a huge tensor of size n x m x |V|. In our case, 100000 x 5 x 10000.\n",
        "\n",
        "This may not fit in memory. Even if it fits, it is not a good practice to keep such large variables, hence use the fit generator\n"
      ],
      "metadata": {
        "id": "eNXhCbXGOvYp"
      }
    },
    {
      "cell_type": "code",
      "source": [
        "def prepare_data(X, Y, batch_start, batch_end):\n",
        "    \n",
        "    # Encoder input\n",
        "    X_enc = X[batch_start:batch_end] \n",
        "\n",
        "    # Decoder input\n",
        "    # Concatenate a column of 3s (i.e., SOS token) to the Y and remove the last element\n",
        "    X_dec = np.c_[3 * np.ones([len(Y[batch_start:batch_end])]), Y[batch_start:batch_end, :-1]]\n",
        "\n",
        "    # Decoder output - one hot encoded for softmax layer - 1 in |V|\n",
        "    Y_dec = np.array([to_categorical(y, num_classes=len(summary_word_index)) for y in Y[batch_start:batch_end]])\n",
        "\n",
        "    return [X_enc, X_dec], Y_dec"
      ],
      "metadata": {
        "id": "oCgiFzpEQLXF"
      },
      "execution_count": 70,
      "outputs": []
    },
    {
      "cell_type": "code",
      "source": [
        "def batch_generator(X, Y, BATCH_SIZE):\n",
        "\n",
        "    # this line is just to make the generator infinite, keras needs that    \n",
        "    while True:\n",
        "        \n",
        "        batch_start = 0\n",
        "        batch_end = BATCH_SIZE\n",
        "\n",
        "        while batch_start < len(X):\n",
        "            \n",
        "            [X_enc, X_dec], Y_dec = prepare_data(X, Y, batch_start, batch_end)\n",
        "            \n",
        "            yield ([X_enc, X_dec], Y_dec) \n",
        "\n",
        "            batch_start += BATCH_SIZE   \n",
        "            batch_end += BATCH_SIZE"
      ],
      "metadata": {
        "id": "nnLYoxhuOuaz"
      },
      "execution_count": 71,
      "outputs": []
    },
    {
      "cell_type": "markdown",
      "source": [
        "### Sequence-to-sequence model for training:"
      ],
      "metadata": {
        "id": "2dEMaM1nSC-_"
      }
    },
    {
      "cell_type": "code",
      "source": [
        "K.set_learning_phase(1) # 1 for training, 0 for inference time"
      ],
      "metadata": {
        "colab": {
          "base_uri": "https://localhost:8080/"
        },
        "id": "Z5BBdaT5Oo6i",
        "outputId": "f794e805-0a2d-4cc6-f70d-bb7cb88bc0b2"
      },
      "execution_count": 72,
      "outputs": [
        {
          "output_type": "stream",
          "name": "stderr",
          "text": [
            "/usr/local/lib/python3.7/dist-packages/keras/backend.py:450: UserWarning: `tf.keras.backend.set_learning_phase` is deprecated and will be removed after 2020-10-11. To update it, simply pass a True/False value to the `training` argument of the `__call__` method of your layer or model.\n",
            "  warnings.warn('`tf.keras.backend.set_learning_phase` is deprecated and '\n"
          ]
        }
      ]
    },
    {
      "cell_type": "code",
      "source": [
        "# Encoder Setup\n",
        "enc_input = Input(shape=(MAX_TEXT_LEN, ), name='encoder_input')\n",
        "enc_emb_look_up = Embedding(input_dim=MAX_TEXT_VOCAB_SIZE,\n",
        "                             output_dim=EMBEDDING_DIM,\n",
        "                             weights = [encoder_embeddings_matrix], \n",
        "                             trainable=False, \n",
        "                             mask_zero=True,\n",
        "                             name='encoder_embedding_lookup')\n",
        "\n",
        "enc_emb_text = enc_emb_look_up(enc_input)\n",
        "\n",
        "encoder_lstm = LSTM(LSTM_DIM, return_state=True, name='encoder_lstm', dropout=0.2) # To return the final state of the encoder\n",
        "encoder_outputs, state_h, state_c = encoder_lstm(enc_emb_text)\n",
        "encoder_states = [state_h, state_c] # Discard encoder_outputs (at each time step) and only keep the final states."
      ],
      "metadata": {
        "id": "6ztARIWzSHp5"
      },
      "execution_count": 73,
      "outputs": []
    },
    {
      "cell_type": "code",
      "source": [
        "# Decoder Setup\n",
        "dec_input = Input(shape=(None, ), name='decoder_input') # Specify None instead of MAX_SUMMARY_LEN\n",
        "# So that we can use the decoder with one-token prediction at a time\n",
        "# By specifying MAX_SUMMARY_LEN, we limit this capability of the decoder\n",
        "# That is, if MAX_SUMMARY_LEN is specified, we always have to provide MAX_SUMMARY_LEN tokens as input to the decoder\n",
        "# By not specifying, we can dynamically adjust it, i.e., MAX_SUMMARY_LEN during training and 1 during inference\n",
        "\n",
        "dec_emb_look_up = Embedding(input_dim=MAX_SUMMARY_VOCAB_SIZE,\n",
        "                             output_dim=EMBEDDING_DIM,\n",
        "                             weights = [decoder_embeddings_matrix], \n",
        "                             trainable=False, \n",
        "                             mask_zero=True,\n",
        "                             name='decoder_embedding_lookup')\n",
        "\n",
        "dec_emb_text = dec_emb_look_up(dec_input)\n",
        "\n",
        "# We set up our decoder to return full output sequences,\n",
        "# and to return internal LSTM states (h, c) as well. We don't use the \n",
        "# return states in the training model, but we will use them during inference.\n",
        "decoder_lstm = LSTM(LSTM_DIM, return_sequences=True, return_state=True, name='decoder_lstm', dropout=0.2)\n",
        "# Dropout needs to be set back to 0.0 for the inference time\n",
        "\n",
        "# Hidden state initialization using `encoder_states` as initial state.\n",
        "decoder_outputs, _, _ = decoder_lstm(dec_emb_text,\n",
        "                                     initial_state=encoder_states)\n",
        "\n",
        "decoder_dense = Dense(MAX_SUMMARY_VOCAB_SIZE, activation='softmax', name='output_layer')\n",
        "decoder_outputs = decoder_dense(decoder_outputs)\n",
        "\n",
        "# Define the model that will turn\n",
        "# `encoder_input_data` & `decoder_input_data` into `decoder_target_data`\n",
        "model = Model([enc_input, dec_input], decoder_outputs)"
      ],
      "metadata": {
        "id": "f54xuk-gSOCO"
      },
      "execution_count": 74,
      "outputs": []
    },
    {
      "cell_type": "code",
      "source": [
        "model.summary()"
      ],
      "metadata": {
        "colab": {
          "base_uri": "https://localhost:8080/"
        },
        "id": "5_SM-GGeSQyh",
        "outputId": "454b98b9-a36f-4716-a053-d24f6b86bb37"
      },
      "execution_count": 75,
      "outputs": [
        {
          "output_type": "stream",
          "name": "stdout",
          "text": [
            "Model: \"model\"\n",
            "__________________________________________________________________________________________________\n",
            " Layer (type)                   Output Shape         Param #     Connected to                     \n",
            "==================================================================================================\n",
            " encoder_input (InputLayer)     [(None, 100)]        0           []                               \n",
            "                                                                                                  \n",
            " decoder_input (InputLayer)     [(None, None)]       0           []                               \n",
            "                                                                                                  \n",
            " encoder_embedding_lookup (Embe  (None, 100, 300)    9000000     ['encoder_input[0][0]']          \n",
            " dding)                                                                                           \n",
            "                                                                                                  \n",
            " decoder_embedding_lookup (Embe  (None, None, 300)   3000000     ['decoder_input[0][0]']          \n",
            " dding)                                                                                           \n",
            "                                                                                                  \n",
            " encoder_lstm (LSTM)            [(None, 300),        721200      ['encoder_embedding_lookup[0][0]'\n",
            "                                 (None, 300),                    ]                                \n",
            "                                 (None, 300)]                                                     \n",
            "                                                                                                  \n",
            " decoder_lstm (LSTM)            [(None, None, 300),  721200      ['decoder_embedding_lookup[0][0]'\n",
            "                                 (None, 300),                    , 'encoder_lstm[0][1]',          \n",
            "                                 (None, 300)]                     'encoder_lstm[0][2]']           \n",
            "                                                                                                  \n",
            " output_layer (Dense)           (None, None, 10000)  3010000     ['decoder_lstm[0][0]']           \n",
            "                                                                                                  \n",
            "==================================================================================================\n",
            "Total params: 16,452,400\n",
            "Trainable params: 4,452,400\n",
            "Non-trainable params: 12,000,000\n",
            "__________________________________________________________________________________________________\n"
          ]
        }
      ]
    },
    {
      "cell_type": "code",
      "source": [
        "plot_model(model, to_file='full_model.png', show_layer_names=True)\n",
        "Image('full_model.png')"
      ],
      "metadata": {
        "colab": {
          "base_uri": "https://localhost:8080/",
          "height": 466
        },
        "id": "FXh98A6eSUnj",
        "outputId": "eb9ce5de-e1bc-4b33-c26f-9b6d9b690a4f"
      },
      "execution_count": 81,
      "outputs": [
        {
          "output_type": "execute_result",
          "data": {
            "text/plain": [
              "<IPython.core.display.Image object>"
            ],
            "image/png": "[encoded data removed]"
          },
          "metadata": {},
          "execution_count": 81
        }
      ]
    },
    {
      "cell_type": "markdown",
      "source": [
        "# Model Training\n"
      ],
      "metadata": {
        "id": "wOTaU1M2S0TP"
      }
    },
    {
      "cell_type": "code",
      "source": [
        "# Set optimizer and loss function \n",
        "optimizer = keras.optimizers.Adam(lr=0.001) # Try a different learning rate\n",
        "\n",
        "loss = 'categorical_crossentropy'\n",
        "\n",
        "filepath=\"saved_models/seq2seq_textsummarization_{epoch:02d}_{val_loss:.4f}.h5\"\n",
        "checkpoint = callbacks.ModelCheckpoint(filepath, \n",
        "                                       monitor='val_loss', \n",
        "                                       verbose=0, \n",
        "                                       save_best_only=False)\n",
        "callbacks_list = [checkpoint]\n",
        "\n",
        "model.compile(optimizer=optimizer, loss=loss)"
      ],
      "metadata": {
        "colab": {
          "base_uri": "https://localhost:8080/"
        },
        "id": "8qDT66knSYHJ",
        "outputId": "df931e30-102f-49c9-feca-54a636a6bf17"
      },
      "execution_count": 84,
      "outputs": [
        {
          "output_type": "stream",
          "name": "stderr",
          "text": [
            "/usr/local/lib/python3.7/dist-packages/keras/optimizer_v2/adam.py:105: UserWarning: The `lr` argument is deprecated, use `learning_rate` instead.\n",
            "  super(Adam, self).__init__(name, **kwargs)\n"
          ]
        }
      ]
    },
    {
      "cell_type": "markdown",
      "source": [
        "\n",
        "\n",
        "Note: It is possible to write your own callback functions by instructing what needs to be done at the end of each epoch.\n",
        "\n",
        "Homework - write a callback function to calculate BLEU scores on validation set and print generated samples at the end of each epoch\n",
        "Check out https://keunwoochoi.wordpress.com/2016/07/16/keras-callbacks/\n"
      ],
      "metadata": {
        "id": "SIJ5ibnbTJro"
      }
    },
    {
      "cell_type": "code",
      "source": [
        "STEPS_PER_EPOCH = len(X_train)//BATCH_SIZE\n",
        "VAL_STEPS = len(X_val)//BATCH_SIZE"
      ],
      "metadata": {
        "id": "JdJxRGEPS7C8"
      },
      "execution_count": 85,
      "outputs": []
    },
    {
      "cell_type": "code",
      "source": [
        "for epoch in range(3):\n",
        "  model.fit_generator(batch_generator(X_train, Y_train, BATCH_SIZE), \n",
        "                      steps_per_epoch = STEPS_PER_EPOCH, \n",
        "                      epochs = N_EPOCHS,\n",
        "                      validation_data = batch_generator(X_val, Y_val, BATCH_SIZE), \n",
        "                      validation_steps = VAL_STEPS, \n",
        "                      callbacks = callbacks_list,\n",
        "                    )"
      ],
      "metadata": {
        "colab": {
          "base_uri": "https://localhost:8080/"
        },
        "id": "c_nDhKScTOfu",
        "outputId": "97f3f0c3-39c7-4e29-f69f-39ec083641c7"
      },
      "execution_count": 103,
      "outputs": [
        {
          "output_type": "stream",
          "name": "stderr",
          "text": [
            "/usr/local/lib/python3.7/dist-packages/ipykernel_launcher.py:7: UserWarning: `Model.fit_generator` is deprecated and will be removed in a future version. Please use `Model.fit`, which supports generators.\n",
            "  import sys\n"
          ]
        },
        {
          "output_type": "stream",
          "name": "stdout",
          "text": [
            "730/730 [==============================] - 68s 94ms/step - loss: 3.7100 - val_loss: 3.5981\n",
            "730/730 [==============================] - 69s 95ms/step - loss: 3.4949 - val_loss: 3.4593\n",
            "730/730 [==============================] - 68s 93ms/step - loss: 3.3225 - val_loss: 3.3633\n"
          ]
        }
      ]
    },
    {
      "cell_type": "markdown",
      "source": [
        "Note: It is best to write the above code onto a .py file and execute it directly on the command line.\n",
        "\n",
        "We may need to train the model for over 100 epcohs to get good sentence generations.\n",
        "\n",
        "In this case, the model was trained for 100 epochs, about 300 seconds (~5mins) per epoch on a single GPU.\n"
      ],
      "metadata": {
        "id": "-87-hS-2TbA0"
      }
    },
    {
      "cell_type": "markdown",
      "source": [
        "# Load Saved Model\n"
      ],
      "metadata": {
        "id": "qAUNIKMDTldU"
      }
    },
    {
      "cell_type": "code",
      "source": [
        "from keras import models"
      ],
      "metadata": {
        "id": "YA8cuFCpTRNP"
      },
      "execution_count": 87,
      "outputs": []
    },
    {
      "cell_type": "code",
      "source": [
        "model_file_path = '/content/saved_models/seq2seq_textsummarization_01_4.0358.h5'\n",
        "model = models.load_model(model_file_path)"
      ],
      "metadata": {
        "id": "f7h7i3HTTsHS"
      },
      "execution_count": 91,
      "outputs": []
    },
    {
      "cell_type": "code",
      "source": [
        "TEST_STEPS = len(X_test)//BATCH_SIZE\n",
        "\n",
        "# Obtain the last layer output, i.e., the softmax probabilities\n",
        "preds = model.predict_generator(batch_generator(X_test, Y_test, BATCH_SIZE), steps = TEST_STEPS) "
      ],
      "metadata": {
        "colab": {
          "base_uri": "https://localhost:8080/"
        },
        "id": "CZRk8SM0Tt-d",
        "outputId": "31cbe73c-2b8f-41ff-8c97-5e4e07ea8302"
      },
      "execution_count": 106,
      "outputs": [
        {
          "output_type": "stream",
          "name": "stderr",
          "text": [
            "/usr/local/lib/python3.7/dist-packages/ipykernel_launcher.py:4: UserWarning: `Model.predict_generator` is deprecated and will be removed in a future version. Please use `Model.predict`, which supports generators.\n",
            "  after removing the cwd from sys.path.\n"
          ]
        }
      ]
    },
    {
      "cell_type": "code",
      "source": [
        "preds.shape"
      ],
      "metadata": {
        "colab": {
          "base_uri": "https://localhost:8080/"
        },
        "id": "SmLJVBwaVrIp",
        "outputId": "419df423-eb67-44d1-8290-26b511788566"
      },
      "execution_count": 107,
      "outputs": [
        {
          "output_type": "execute_result",
          "data": {
            "text/plain": [
              "(2432, 5, 10000)"
            ]
          },
          "metadata": {},
          "execution_count": 107
        }
      ]
    },
    {
      "cell_type": "code",
      "source": [
        "# Greedy Decoding\n",
        "outputs = [np.argmax(p, axis = -1) for p in preds]\n",
        "outputs[:10]"
      ],
      "metadata": {
        "colab": {
          "base_uri": "https://localhost:8080/"
        },
        "id": "G6660ixDVwRf",
        "outputId": "1e014bad-2d4f-4e69-ca09-607908b6461f"
      },
      "execution_count": 108,
      "outputs": [
        {
          "output_type": "execute_result",
          "data": {
            "text/plain": [
              "[array([ 4, 44,  2,  2,  2]),\n",
              " array([  9, 163,   2,   2,   2]),\n",
              " array([   4, 2027,    2,   72,   46]),\n",
              " array([4, 2, 2, 0, 1]),\n",
              " array([12,  7,  7,  2, 28]),\n",
              " array([  9,  10,  63, 149,  49]),\n",
              " array([  4,   4, 127,   2,   2]),\n",
              " array([ 4, 44,  5, 44, 16]),\n",
              " array([ 10,  10, 287, 931,   2]),\n",
              " array([  9,   8, 358, 183,   2])]"
            ]
          },
          "metadata": {},
          "execution_count": 108
        }
      ]
    },
    {
      "cell_type": "code",
      "source": [
        "def show_summary_sentence(gen_ids):\n",
        "    pad = summary_word_index['PAD']\n",
        "    eos = summary_word_index['EOS']\n",
        "    print(' '.join([summary_idx_to_word[w] for w in gen_ids if w not in [pad, eos]]))"
      ],
      "metadata": {
        "id": "xPEp0mT1Y_Ep"
      },
      "execution_count": 109,
      "outputs": []
    },
    {
      "cell_type": "code",
      "source": [
        "def show_input_text(inp_ids):\n",
        "    pad = text_word_index['PAD']\n",
        "    eos = text_word_index['EOS']\n",
        "    print(' '.join([text_idx_to_word[w] for w in inp_ids if w not in [pad, eos]]))"
      ],
      "metadata": {
        "id": "kEEXF3WXZG3s"
      },
      "execution_count": 110,
      "outputs": []
    },
    {
      "cell_type": "code",
      "source": [
        "for i in range(26, 30):\n",
        "    show_input_text(X_test[i])\n",
        "    print()\n",
        "    print('Summary - ', end='')\n",
        "    show_summary_sentence(outputs[i])\n",
        "    print('\\n----------------------------')"
      ],
      "metadata": {
        "colab": {
          "base_uri": "https://localhost:8080/"
        },
        "id": "fPM_XI0DZKAm",
        "outputId": "bd23a2c9-aca8-40e3-de98-0fe39fdf6983"
      },
      "execution_count": 111,
      "outputs": [
        {
          "output_type": "stream",
          "name": "stdout",
          "text": [
            "we buy our cats a high quality food for everyday eating and they do get cat treats which can add up when you have 4 cats i saw these on special and ordered for a great price i took the extra bags and sealed them up in food saver bags and put them in the freezer and kept one out to put in the treat jar br they love it its got all the UNK dazzle the healthy food does n t so when i give them each a little of this they think they\n",
            "\n",
            "Summary - great for dogs\n",
            "\n",
            "----------------------------\n",
            "this product describes itself as 100 natural arabic this is pretty much what it is coffee and a some sugar i assume that most people will be buying this for a hit of caffeine so i ll compare it to some popular alternatives br br healthy let s face it most of the other energy drinks and caffeinated sodas on the market are chemicals and water some of them throw in a couple of vitamins to give the impression that they\n",
            "\n",
            "Summary - good me price\n",
            "\n",
            "----------------------------\n",
            "as always a pleasure to work with products are great and price is just right br thank you\n",
            "\n",
            "Summary - great great UNK\n",
            "\n",
            "----------------------------\n",
            "i was able to find this at my on base commissary for three dollars and eighty nine cents much cheaper than amazon is asking br br we all love it has a very natural roasted peanut taste to it and my kids love mixing it\n",
            "\n",
            "Summary - great product great\n",
            "\n",
            "----------------------------\n"
          ]
        }
      ]
    },
    {
      "cell_type": "markdown",
      "source": [
        "# Inference\n",
        "\n",
        "## Is this the right way to test?\n",
        "No! There is no decoder input/output (Y_test) available at inference or test time!\n",
        "\n",
        "\n",
        "### Sequence-to-sequence model for inference:\n",
        "\n",
        "At timestep t, we predict a target token, then use the embedding of the predicted token as input to timestep (t+1)\n",
        "\n",
        "Look at the picture\n",
        "\n",
        "![image.png](data:image/png;base64,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)\n"
      ],
      "metadata": {
        "id": "MPnXpLNoaJKn"
      }
    },
    {
      "cell_type": "markdown",
      "source": [
        "# Encoder"
      ],
      "metadata": {
        "id": "uK1nWxREbYGj"
      }
    },
    {
      "cell_type": "code",
      "source": [
        "encoder_model = Model(enc_input, encoder_states)\n",
        "encoder_model.summary()"
      ],
      "metadata": {
        "colab": {
          "base_uri": "https://localhost:8080/"
        },
        "id": "MYn52XseZM0-",
        "outputId": "3bafa720-5799-4063-925e-25760b0b7c2e"
      },
      "execution_count": 104,
      "outputs": [
        {
          "output_type": "stream",
          "name": "stdout",
          "text": [
            "Model: \"model_1\"\n",
            "_________________________________________________________________\n",
            " Layer (type)                Output Shape              Param #   \n",
            "=================================================================\n",
            " encoder_input (InputLayer)  [(None, 100)]             0         \n",
            "                                                                 \n",
            " encoder_embedding_lookup (E  (None, 100, 300)         9000000   \n",
            " mbedding)                                                       \n",
            "                                                                 \n",
            " encoder_lstm (LSTM)         [(None, 300),             721200    \n",
            "                              (None, 300),                       \n",
            "                              (None, 300)]                       \n",
            "                                                                 \n",
            "=================================================================\n",
            "Total params: 9,721,200\n",
            "Trainable params: 721,200\n",
            "Non-trainable params: 9,000,000\n",
            "_________________________________________________________________\n"
          ]
        }
      ]
    },
    {
      "cell_type": "code",
      "source": [
        "plot_model(encoder_model, to_file='encoder_model.png', show_layer_names=True, show_shapes=True)\n",
        "Image('encoder_model.png')"
      ],
      "metadata": {
        "colab": {
          "base_uri": "https://localhost:8080/",
          "height": 312
        },
        "id": "p6L7LE7obCjO",
        "outputId": "d47290fa-818c-468e-9739-2dbd8d9d0b03"
      },
      "execution_count": 105,
      "outputs": [
        {
          "output_type": "execute_result",
          "data": {
            "text/plain": [
              "<IPython.core.display.Image object>"
            ],
            "image/png": "[encoded data removed]"
          },
          "metadata": {},
          "execution_count": 105
        }
      ]
    },
    {
      "cell_type": "markdown",
      "source": [
        "# Decoder\n",
        "At inference time, we predict ONE TOKEN AT A TIME\n",
        "\n",
        "* Input: previous cell/hidden states and the embedding of the token from the previous time step\n",
        "* Output: current cell/hidden states and the output token's embedding"
      ],
      "metadata": {
        "id": "Wg59ITQSba1e"
      }
    },
    {
      "cell_type": "code",
      "source": [
        "decoder_state_input_h = Input(shape=(LSTM_DIM,), name='decoder_state_input_h')\n",
        "decoder_state_input_c = Input(shape=(LSTM_DIM,), name='decoder_state_input_c')\n",
        "decoder_states_inputs = [decoder_state_input_h, decoder_state_input_c]\n",
        "\n",
        "decoder_outputs, state_h, state_c = decoder_lstm(inputs=dec_emb_text, initial_state=decoder_states_inputs)\n",
        "\n",
        "decoder_states = [state_h, state_c]\n",
        "decoder_outputs = decoder_dense(decoder_outputs)\n",
        "\n",
        "decoder_model = Model(inputs = [dec_input] + decoder_states_inputs,\n",
        "                      outputs = [decoder_outputs] + decoder_states\n",
        "                     )"
      ],
      "metadata": {
        "id": "gcJ2k3tPbJ1J"
      },
      "execution_count": 112,
      "outputs": []
    },
    {
      "cell_type": "code",
      "source": [
        "decoder_model.summary()"
      ],
      "metadata": {
        "colab": {
          "base_uri": "https://localhost:8080/"
        },
        "id": "NqMlSMlbbmiF",
        "outputId": "e26ad6fc-b17d-4c50-807b-290be0f3be38"
      },
      "execution_count": 113,
      "outputs": [
        {
          "output_type": "stream",
          "name": "stdout",
          "text": [
            "Model: \"model_2\"\n",
            "__________________________________________________________________________________________________\n",
            " Layer (type)                   Output Shape         Param #     Connected to                     \n",
            "==================================================================================================\n",
            " decoder_input (InputLayer)     [(None, None)]       0           []                               \n",
            "                                                                                                  \n",
            " decoder_embedding_lookup (Embe  (None, None, 300)   3000000     ['decoder_input[0][0]']          \n",
            " dding)                                                                                           \n",
            "                                                                                                  \n",
            " decoder_state_input_h (InputLa  [(None, 300)]       0           []                               \n",
            " yer)                                                                                             \n",
            "                                                                                                  \n",
            " decoder_state_input_c (InputLa  [(None, 300)]       0           []                               \n",
            " yer)                                                                                             \n",
            "                                                                                                  \n",
            " decoder_lstm (LSTM)            [(None, None, 300),  721200      ['decoder_embedding_lookup[0][0]'\n",
            "                                 (None, 300),                    , 'decoder_state_input_h[0][0]', \n",
            "                                 (None, 300)]                     'decoder_state_input_c[0][0]']  \n",
            "                                                                                                  \n",
            " output_layer (Dense)           (None, None, 10000)  3010000     ['decoder_lstm[1][0]']           \n",
            "                                                                                                  \n",
            "==================================================================================================\n",
            "Total params: 6,731,200\n",
            "Trainable params: 3,731,200\n",
            "Non-trainable params: 3,000,000\n",
            "__________________________________________________________________________________________________\n"
          ]
        }
      ]
    },
    {
      "cell_type": "code",
      "source": [
        "plot_model(decoder_model, to_file='decoder_model.png', show_layer_names=True, show_shapes=True)\n",
        "Image('decoder_model.png')"
      ],
      "metadata": {
        "colab": {
          "base_uri": "https://localhost:8080/",
          "height": 265
        },
        "id": "4dxFA35Pbp-6",
        "outputId": "7f270168-a612-43d0-feec-41d7e454d27b"
      },
      "execution_count": 114,
      "outputs": [
        {
          "output_type": "execute_result",
          "data": {
            "text/plain": [
              "<IPython.core.display.Image object>"
            ],
            "image/png": "[encoded data removed]"
          },
          "metadata": {},
          "execution_count": 114
        }
      ]
    },
    {
      "cell_type": "markdown",
      "source": [
        "## Weight Transfer\n",
        "\n",
        "The above encoder and decoder models that we setup for inference have been initialized with random weights.\n",
        "\n",
        "Take the weights of the trained model (that is loaded into memory) and assign the encoder and decoder models with these weights.\n",
        "\n",
        "For weight transfer, the important thing to keep in mind is that we do not mis-align any weight matrices.\n",
        "\n",
        "Use\n",
        "`model.get_weights()`\n",
        "and\n",
        "`model.set_weights()`"
      ],
      "metadata": {
        "id": "nBkz5sGmb6w8"
      }
    },
    {
      "cell_type": "code",
      "source": [
        "model.weights"
      ],
      "metadata": {
        "colab": {
          "base_uri": "https://localhost:8080/"
        },
        "id": "2-Rnk5E6c4rZ",
        "outputId": "bcccde86-7250-4f76-e4c5-adc1c41f2de5"
      },
      "execution_count": 122,
      "outputs": [
        {
          "output_type": "execute_result",
          "data": {
            "text/plain": [
              "[<tf.Variable 'encoder_embedding_lookup/embeddings:0' shape=(30000, 300) dtype=float32, numpy=\n",
              " array([[ 0.01463626,  0.04556191,  0.01699129, ...,  0.03854867,\n",
              "         -0.00460922, -0.03501487],\n",
              "        [-0.0366037 ,  0.04242148, -0.01017895, ...,  0.03732036,\n",
              "         -0.04898562, -0.01981451],\n",
              "        [ 0.03199953,  0.01376403, -0.00860155, ...,  0.03666693,\n",
              "         -0.00149499,  0.04094407],\n",
              "        ...,\n",
              "        [ 0.17555   , -0.046708  ,  0.34473   , ...,  0.37441   ,\n",
              "          0.27424   , -0.55546   ],\n",
              "        [ 0.087736  , -0.011145  ,  0.22451   , ...,  0.35637   ,\n",
              "         -0.088682  , -0.28568   ],\n",
              "        [-0.15761   , -0.40502   , -0.095593  , ...,  0.21501   ,\n",
              "          0.42468   , -0.1357    ]], dtype=float32)>,\n",
              " <tf.Variable 'decoder_embedding_lookup/embeddings:0' shape=(10000, 300) dtype=float32, numpy=\n",
              " array([[-0.02979364, -0.02231477, -0.00263474, ...,  0.01081035,\n",
              "          0.04173709,  0.00431845],\n",
              "        [-0.04458035,  0.0256318 , -0.02063676, ..., -0.02106135,\n",
              "          0.01447317, -0.01524317],\n",
              "        [ 0.0307163 ,  0.00419904,  0.00745951, ..., -0.02445684,\n",
              "          0.04918166, -0.02794368],\n",
              "        ...,\n",
              "        [-0.22366   , -0.30888   , -0.43737   , ..., -0.092406  ,\n",
              "          0.40659   ,  0.52023   ],\n",
              "        [ 0.04977498,  0.03761343, -0.04058722, ...,  0.00918446,\n",
              "         -0.02256953,  0.00377064],\n",
              "        [ 0.0070537 , -0.23135   , -0.27923   , ...,  0.3444    ,\n",
              "         -0.32572   ,  0.71283   ]], dtype=float32)>,\n",
              " <tf.Variable 'encoder_lstm/lstm_cell_2/kernel:0' shape=(300, 1200) dtype=float32, numpy=\n",
              " array([[ 0.02381439,  0.15464455,  0.01373054, ...,  0.05858777,\n",
              "         -0.07549183, -0.05285216],\n",
              "        [-0.13085252, -0.15658848, -0.06928388, ..., -0.07925729,\n",
              "         -0.0237901 ,  0.06542656],\n",
              "        [-0.01220791,  0.1481798 ,  0.15239078, ...,  0.11251113,\n",
              "         -0.13117613,  0.02959136],\n",
              "        ...,\n",
              "        [ 0.03134388,  0.17586668,  0.01548439, ...,  0.03823838,\n",
              "          0.04809833, -0.0992934 ],\n",
              "        [ 0.08745307,  0.06192223, -0.04205371, ..., -0.10148147,\n",
              "          0.12594242,  0.00710586],\n",
              "        [-0.06177315, -0.03950787,  0.14290172, ...,  0.06138742,\n",
              "         -0.01453403, -0.09332801]], dtype=float32)>,\n",
              " <tf.Variable 'encoder_lstm/lstm_cell_2/recurrent_kernel:0' shape=(300, 1200) dtype=float32, numpy=\n",
              " array([[ 0.05671906,  0.03883505,  0.03942833, ..., -0.04881916,\n",
              "          0.00736091, -0.0454217 ],\n",
              "        [-0.06156693, -0.04825911,  0.01462307, ..., -0.04025217,\n",
              "          0.07887011,  0.00959524],\n",
              "        [-0.00458071,  0.07293451, -0.00084506, ..., -0.06686176,\n",
              "         -0.10368942, -0.02362273],\n",
              "        ...,\n",
              "        [-0.0144351 ,  0.02356822, -0.03519191, ..., -0.13579355,\n",
              "         -0.00729392, -0.03400101],\n",
              "        [-0.05513157,  0.0633734 , -0.06396242, ..., -0.11036897,\n",
              "         -0.03087091, -0.20318098],\n",
              "        [ 0.03898357, -0.02527668, -0.04648824, ..., -0.1256671 ,\n",
              "          0.42287257,  0.04830753]], dtype=float32)>,\n",
              " <tf.Variable 'encoder_lstm/lstm_cell_2/bias:0' shape=(1200,) dtype=float32, numpy=\n",
              " array([ 0.00619674, -0.02559999,  0.01222961, ...,  0.04809396,\n",
              "        -0.04681565, -0.00958742], dtype=float32)>,\n",
              " <tf.Variable 'decoder_lstm/lstm_cell_3/kernel:0' shape=(300, 1200) dtype=float32, numpy=\n",
              " array([[-0.03020745, -0.06211146, -0.00666185, ..., -0.1319961 ,\n",
              "         -0.00088494,  0.0619494 ],\n",
              "        [-0.04588373,  0.03031069,  0.00455319, ...,  0.28640702,\n",
              "         -0.10452878,  0.07848086],\n",
              "        [-0.00052058,  0.05390922,  0.02088031, ...,  0.19961233,\n",
              "          0.30327868,  0.21525557],\n",
              "        ...,\n",
              "        [-0.04822234, -0.03507492,  0.14661276, ...,  0.08966639,\n",
              "          0.07996076, -0.0901262 ],\n",
              "        [-0.0331733 , -0.01967795, -0.00291591, ...,  0.30444834,\n",
              "         -0.24397218, -0.04544279],\n",
              "        [ 0.0016409 ,  0.04001075, -0.06469694, ..., -0.01057145,\n",
              "          0.15727878,  0.0992495 ]], dtype=float32)>,\n",
              " <tf.Variable 'decoder_lstm/lstm_cell_3/recurrent_kernel:0' shape=(300, 1200) dtype=float32, numpy=\n",
              " array([[-0.02729033, -0.08862874, -0.06519103, ...,  0.07302827,\n",
              "          0.01357553, -0.11535765],\n",
              "        [-0.02246593, -0.02661454, -0.00539559, ..., -0.01549168,\n",
              "         -0.00755595, -0.13331455],\n",
              "        [ 0.01991585, -0.07479948, -0.03965864, ..., -0.0571068 ,\n",
              "         -0.07420909, -0.0406722 ],\n",
              "        ...,\n",
              "        [-0.06112624, -0.06666793,  0.03120084, ..., -0.11450262,\n",
              "          0.00853782, -0.17505018],\n",
              "        [-0.02843122, -0.05652136,  0.05637746, ...,  0.16250493,\n",
              "         -0.07056477, -0.17542242],\n",
              "        [-0.01035357, -0.04243758,  0.07010915, ...,  0.16949083,\n",
              "          0.412414  , -0.02936645]], dtype=float32)>,\n",
              " <tf.Variable 'decoder_lstm/lstm_cell_3/bias:0' shape=(1200,) dtype=float32, numpy=\n",
              " array([ 0.01935306,  0.08336886, -0.02633903, ..., -0.00745215,\n",
              "        -0.04180166,  0.21171825], dtype=float32)>,\n",
              " <tf.Variable 'output_layer/kernel:0' shape=(300, 10000) dtype=float32, numpy=\n",
              " array([[ 0.15776807, -0.01767271,  0.00452283, ..., -0.00142209,\n",
              "          0.06125281,  0.03451444],\n",
              "        [-0.16591343, -0.05946727,  0.03943967, ...,  0.24657391,\n",
              "          0.09868658,  0.25777224],\n",
              "        [ 0.01861666,  0.00140978, -0.09056249, ...,  0.059189  ,\n",
              "          0.02900729,  0.06551649],\n",
              "        ...,\n",
              "        [ 0.24966677,  0.01916704, -0.03689035, ...,  0.10166607,\n",
              "          0.04256315,  0.08017831],\n",
              "        [-0.07903565,  0.04148693, -0.0826881 , ...,  0.03417196,\n",
              "          0.06428991,  0.05427084],\n",
              "        [ 0.22467275, -0.12546156,  0.22438046, ...,  0.3342832 ,\n",
              "          0.04142425,  0.08929968]], dtype=float32)>,\n",
              " <tf.Variable 'output_layer/bias:0' shape=(10000,) dtype=float32, numpy=\n",
              " array([-0.16197538,  0.16917807, -0.01714733, ..., -0.06337892,\n",
              "        -0.07477598, -0.05116893], dtype=float32)>]"
            ]
          },
          "metadata": {},
          "execution_count": 122
        }
      ]
    },
    {
      "cell_type": "code",
      "source": [
        "model_weight_list = model.get_weights()\n",
        "\n",
        "encoder_indices = [0, 2, 3, 4] # Index 1 is the decoder-side embedding matrix weights\n",
        "encoder_weights = [model_weight_list[idx] for idx in encoder_indices]\n",
        "encoder_model.set_weights(encoder_weights)\n",
        "\n",
        "decoder_indices = list(set(range(len(model_weight_list))) - set(encoder_indices))\n",
        "decoder_weights = [model_weight_list[idx] for idx in decoder_indices]\n",
        "decoder_model.set_weights(decoder_weights)"
      ],
      "metadata": {
        "id": "ndKEnQ7xbvYO"
      },
      "execution_count": 117,
      "outputs": []
    },
    {
      "cell_type": "code",
      "source": [
        "# Specify that we are now at the inference stage, i.e., NOT learning\n",
        "K.set_learning_phase(0)"
      ],
      "metadata": {
        "colab": {
          "base_uri": "https://localhost:8080/"
        },
        "id": "tz4qX2tgcJ-P",
        "outputId": "cd92714b-719a-46c4-b02f-8d4aeb8f790f"
      },
      "execution_count": 123,
      "outputs": [
        {
          "output_type": "stream",
          "name": "stderr",
          "text": [
            "/usr/local/lib/python3.7/dist-packages/keras/backend.py:450: UserWarning: `tf.keras.backend.set_learning_phase` is deprecated and will be removed after 2020-10-11. To update it, simply pass a True/False value to the `training` argument of the `__call__` method of your layer or model.\n",
            "  warnings.warn('`tf.keras.backend.set_learning_phase` is deprecated and '\n"
          ]
        }
      ]
    },
    {
      "cell_type": "code",
      "source": [
        "def decode_test_sequence(test_seq_input):\n",
        "    \n",
        "    # Retrieve the encoder output states, h and c\n",
        "    states_value = encoder_model.predict(test_seq_input)\n",
        "\n",
        "    # Initialize the decoding process\n",
        "    time_step = 0\n",
        "    stop_condition = False\n",
        "    input_seq_decoder = [summary_word_index['SOS']] # Start with SOS token\n",
        "    output_seq = [] \n",
        "\n",
        "    print('Timestep | Input ----> Output')\n",
        "\n",
        "    while not stop_condition:\n",
        "\n",
        "        output_probs, h, c = decoder_model.predict([np.array([input_seq_decoder]), \n",
        "                                                 states_value[0], \n",
        "                                                 states_value[1]] )\n",
        "\n",
        "        predicted_token = np.argmax(output_probs, axis=-1)[0][time_step]\n",
        "        output_seq.append(predicted_token)\n",
        "\n",
        "        print(time_step + 1, '|', input_seq_decoder, '---->', output_seq)\n",
        "\n",
        "        time_step += 1\n",
        "\n",
        "        # Stop iteration either when EOS is reached or when we reach the last timestep\n",
        "        # Timestep is from 0 to 4. Max allowed is 4\n",
        "        if (predicted_token == summary_word_index['EOS'] or time_step > MAX_SUMMARY_LEN - 1): \n",
        "                stop_condition = True\n",
        "        else:\n",
        "            # Create the inputs for the next iteration\n",
        "            input_seq_decoder.append(predicted_token)\n",
        "\n",
        "            states_value[0] = h\n",
        "            states_value[1] = c\n",
        "                \n",
        "    print('\\n----------------------------')\n",
        "    print('Text - ', end='')\n",
        "    show_input_text(test_seq_input[0])\n",
        "    print()\n",
        "    print('Summary - ', end='')\n",
        "    show_summary_sentence(output_seq)\n",
        "    \n",
        "    return output_seq"
      ],
      "metadata": {
        "id": "Lu_iYvsddRUA"
      },
      "execution_count": 124,
      "outputs": []
    },
    {
      "cell_type": "code",
      "source": [
        "test_seq_inp = X_test[15:16]\n",
        "test_output_gen = decode_test_sequence(test_seq_inp)"
      ],
      "metadata": {
        "colab": {
          "base_uri": "https://localhost:8080/"
        },
        "id": "3LH4EF8bdUVH",
        "outputId": "2f9cd3cd-57c9-4e31-af74-4dd68ffa852e"
      },
      "execution_count": 125,
      "outputs": [
        {
          "output_type": "stream",
          "name": "stdout",
          "text": [
            "Timestep | Input ----> Output\n",
            "1 | [3] ----> [12]\n",
            "2 | [3, 12] ----> [12, 28]\n",
            "WARNING:tensorflow:5 out of the last 42 calls to <function Model.make_predict_function.<locals>.predict_function at 0x7f2db49b4200> triggered tf.function retracing. Tracing is expensive and the excessive number of tracings could be due to (1) creating @tf.function repeatedly in a loop, (2) passing tensors with different shapes, (3) passing Python objects instead of tensors. For (1), please define your @tf.function outside of the loop. For (2), @tf.function has experimental_relax_shapes=True option that relaxes argument shapes that can avoid unnecessary retracing. For (3), please refer to https://www.tensorflow.org/guide/function#controlling_retracing and https://www.tensorflow.org/api_docs/python/tf/function for  more details.\n",
            "3 | [3, 12, 28] ----> [12, 28, 42]\n",
            "4 | [3, 12, 28, 42] ----> [12, 28, 42, 70]\n",
            "5 | [3, 12, 28, 42, 70] ----> [12, 28, 42, 70, 2]\n",
            "\n",
            "----------------------------\n",
            "Text - my dog loves them i have cut them into smaller pieces and she will chew for quite a while to finish one off i still do n t know if it helps her digestion but she sure loves them\n",
            "\n",
            "Summary - my dog loves them\n"
          ]
        }
      ]
    },
    {
      "cell_type": "markdown",
      "source": [
        "\n",
        "Next Steps\n",
        "\n",
        "* Monitor loss, BLEU scores and generated sentences.\n",
        "* Beam Search Decoder\n",
        "\n",
        "* Attention Mechanism: are very helful in seq2seq models\n",
        "  * Links:\n",
        "    * https://machinelearningmastery.com/encoder-decoder-attention-sequence-to-sequence-prediction-keras/\n",
        "    * https://wanasit.github.io/attention-based-sequence-to-sequence-in-keras.html\n",
        "\n",
        "* Visualize attention using the greyscale matrices\n",
        "\n",
        "Code by HareeshBahuleyan"
      ],
      "metadata": {
        "id": "aPOJaYU5dcr8"
      }
    }
  ]
}