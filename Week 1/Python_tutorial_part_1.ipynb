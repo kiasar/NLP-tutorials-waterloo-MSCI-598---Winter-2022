{
  "nbformat": 4,
  "nbformat_minor": 0,
  "metadata": {
    "colab": {
      "name": "Python tutorial part 1.ipynb",
      "provenance": [],
      "collapsed_sections": []
    },
    "kernelspec": {
      "name": "python3",
      "display_name": "Python 3"
    },
    "language_info": {
      "name": "python"
    }
  },
  "cells": [
    {
      "cell_type": "markdown",
      "metadata": {
        "id": "QvSjsWU4Xe8A"
      },
      "source": [
        "# Python tutorial part 1\n",
        "\n",
        "This is the first session of teaching Python to beginners.\n",
        "\n",
        "Here is google Colab. Here you can write and run python code in jupyter notebook, but what is a Jupyter notebook?\n",
        "\n",
        "Jupyter notebook is a project that you can run the Python code, cell by cell. Each block that you are seeing is a cell.\n",
        "Jupyter notebook is widely used for machine learning and data analytics because it makes coding easier.\n",
        "\n",
        "\n",
        "---\n",
        "\n",
        "\n",
        "If you want to run python on your computer you can download python from https://www.python.org/downloads/ and install it. You'll need a good IDE too, I recommend [PyCharm](https://www.jetbrains.com/pycharm/)."
      ]
    },
    {
      "cell_type": "code",
      "metadata": {
        "colab": {
          "base_uri": "https://localhost:8080/"
        },
        "id": "7c9MiP4JZJwF",
        "outputId": "f3c2acc3-6e86-498b-95d4-d52d03722d15"
      },
      "source": [
        "# To respect the traditions\n",
        "\n",
        "print(\"Hello, World!\")"
      ],
      "execution_count": 1,
      "outputs": [
        {
          "output_type": "stream",
          "name": "stdout",
          "text": [
            "Hello, World!\n"
          ]
        }
      ]
    },
    {
      "cell_type": "markdown",
      "metadata": {
        "id": "S06hN7__YZ-S"
      },
      "source": [
        "## section 1: variables"
      ]
    },
    {
      "cell_type": "code",
      "metadata": {
        "colab": {
          "base_uri": "https://localhost:8080/"
        },
        "id": "ac7_kdPhVP9-",
        "outputId": "5deb1d19-9501-405c-95da-785ac32eebb4"
      },
      "source": [
        "# You can define variables as easy as this. You can store numbers and strings in it.\n",
        "\n",
        "a = 11     # a is of type int\n",
        "b = 3  # b is of type int\n",
        "print(\"a * b =\", a * b)\n",
        "print(\"a + b =\", a + b)\n",
        "print(\"a - b =\", a - b)\n",
        "print(\"a / b =\", a / b)\n",
        "print(\"a // b =\", a // b)\n",
        "print(\"a % b =\", a % b)\n",
        "\n",
        "\n",
        "a2 = 3.5 # a2 is of type float\n",
        "\n",
        "c = \"This is C\" # c is of type str\n",
        "print(\"c =\", c)"
      ],
      "execution_count": 2,
      "outputs": [
        {
          "output_type": "stream",
          "name": "stdout",
          "text": [
            "a * b = 33\n",
            "a + b = 14\n",
            "a - b = 8\n",
            "a / b = 3.6666666666666665\n",
            "a // b = 3\n",
            "a % b = 2\n",
            "c = This is C\n"
          ]
        }
      ]
    },
    {
      "cell_type": "code",
      "metadata": {
        "colab": {
          "base_uri": "https://localhost:8080/"
        },
        "id": "JTO39_4zaTfN",
        "outputId": "86022385-82e6-45fb-cb5d-03f00e5ecbfc"
      },
      "source": [
        "# You can get input from the user like this:\n",
        "\n",
        "inp = input(\"give me a number: \")\n",
        "\n",
        "print(\"Your number is:\", inp)\n",
        "\n",
        "# You can print it like this too\n",
        "print(\"Your number is: {}\".format(inp))"
      ],
      "execution_count": 3,
      "outputs": [
        {
          "output_type": "stream",
          "name": "stdout",
          "text": [
            "give me a number: 52\n",
            "Your number is: 52\n",
            "Your number is: 52\n"
          ]
        }
      ]
    },
    {
      "cell_type": "code",
      "metadata": {
        "colab": {
          "base_uri": "https://localhost:8080/"
        },
        "id": "73ZWfBO_d4Pk",
        "outputId": "d03430e0-69cb-44ec-cd33-81bb2d5558ba"
      },
      "source": [
        "# To see the vatiable types you can use the function \"type()\"\n",
        "\n",
        "print(\"Type a is {}, and type a2 is {}, and type c is {}\".format(type(a), type(a2), type(inp)))"
      ],
      "execution_count": 4,
      "outputs": [
        {
          "output_type": "stream",
          "name": "stdout",
          "text": [
            "Type a is <class 'int'>, and type a2 is <class 'float'>, and type c is <class 'str'>\n"
          ]
        }
      ]
    },
    {
      "cell_type": "markdown",
      "metadata": {
        "id": "5jF6Now9bHxy"
      },
      "source": [
        "#### *PRACTICE TIME: FOR SECTION 1*\n",
        "\n",
        "\n",
        "\n",
        "1.   Get the user's name and get a number from the user. Them print \"Hey {user name} your number was {user's number}\"\n",
        "2.   Get two numbers from the user and print the sum of those two.[link text](https://)\n",
        "\n",
        "\n"
      ]
    },
    {
      "cell_type": "code",
      "metadata": {
        "id": "u9A9N0FVbANW",
        "colab": {
          "base_uri": "https://localhost:8080/"
        },
        "outputId": "5f48659e-4fdf-4375-c780-47c674caf127"
      },
      "source": [
        "# Your fitst code here\n",
        "\n",
        "\n",
        "#answer:\n",
        "name=input(\"name:\")\n",
        "number=int(input(\"number:\"))\n",
        "print(\"Hey {} your number was {}\".format(name,number))"
      ],
      "execution_count": 5,
      "outputs": [
        {
          "output_type": "stream",
          "name": "stdout",
          "text": [
            "name:peyman\n",
            "number:22\n",
            "Hey peyman your number was 22\n"
          ]
        }
      ]
    },
    {
      "cell_type": "code",
      "metadata": {
        "id": "FeActRPIdPmv",
        "colab": {
          "base_uri": "https://localhost:8080/"
        },
        "outputId": "24c304d0-dbb7-4a80-913a-eec1272a48d6"
      },
      "source": [
        "# Your second code here.\n",
        "\n",
        "\n",
        "#answer:\n",
        "first=int(input('first:'))\n",
        "second=int(input(\"second:\"))\n",
        "print(first+second)"
      ],
      "execution_count": null,
      "outputs": [
        {
          "output_type": "stream",
          "text": [
            "first:2\n",
            "second:4\n",
            "6\n"
          ],
          "name": "stdout"
        }
      ]
    },
    {
      "cell_type": "markdown",
      "metadata": {
        "id": "3fI_X7_mdS9o"
      },
      "source": [
        "### Section 2: If"
      ]
    },
    {
      "cell_type": "code",
      "metadata": {
        "colab": {
          "base_uri": "https://localhost:8080/"
        },
        "id": "arupX2KnjhUF",
        "outputId": "5cca0f50-3382-4ed7-8017-0a5c96b5e8c6"
      },
      "source": [
        "# if, You can use \"==\", \"<\", \">\", \"<=\". \">=\", and \"!=\".\n",
        "\n",
        "if 5 > 2: # this is true\n",
        "  print(\"Five is greater than two!\")\n",
        "\n",
        "if 5 < 2: # this is false\n",
        "  print(\"Five is less than two!\")  # You can see nothing will happen here\n",
        "\n",
        "if 5 > 2 and 3 < 8: # this is true, becuse both of them are true.\n",
        "  print(\"Five is greater than two! and three is less than eight.\")\n",
        "\n",
        "if 5 > 2 and 3 == 8: # this is false, becuse the second term is false.\n",
        "  print(\"Five is greater than two! and three is equal to eight.\") # You can see nothing will happen here\n",
        "\n",
        "if 5 > 2 or 3 == 8: # this is ture, becuse the first term is true.\n",
        "  print(\"Five is greater than two! or three is equal to eight.\") # You can see nothing will happen here"
      ],
      "execution_count": 6,
      "outputs": [
        {
          "output_type": "stream",
          "name": "stdout",
          "text": [
            "Five is greater than two!\n",
            "Five is greater than two! and three is less than eight.\n",
            "Five is greater than two! or three is equal to eight.\n"
          ]
        }
      ]
    },
    {
      "cell_type": "code",
      "metadata": {
        "colab": {
          "base_uri": "https://localhost:8080/"
        },
        "id": "rzorC3Yjjzdc",
        "outputId": "282f0946-ff5d-412b-cd8e-52125a943c95"
      },
      "source": [
        "# if, elif, and else. You can use as many elifs as you want. But you can only have one else\n",
        "\n",
        "a = 200\n",
        "b = 33\n",
        "if b > a:\n",
        "  print(\"b is greater than a\")\n",
        "elif a == b:\n",
        "  print(\"a and b are equal\")\n",
        "else:\n",
        "  print(\"a is greater than b\")"
      ],
      "execution_count": null,
      "outputs": [
        {
          "output_type": "stream",
          "text": [
            "a is greater than b\n"
          ],
          "name": "stdout"
        }
      ]
    },
    {
      "cell_type": "markdown",
      "metadata": {
        "id": "8Of68hOYobEk"
      },
      "source": [
        "#### *PRACTICE TIME: FOR SECTION 2*\n",
        "\n",
        "\n",
        "\n",
        "1.   Get two numbers from the user and if they are not equal print \"Number {?} is bigger that number {?}\" and if those two number are equal print \"The numbers are equal\".\n",
        "2.   Get a number from the user. If the number is grater that 10, check if the number is odd and then print \"the number is grater than 10 and it is odd\". and if it is less than 10 print \"your number is {?} wich is less than 10.*italicized text*\n",
        "\n",
        "\n"
      ]
    },
    {
      "cell_type": "code",
      "metadata": {
        "id": "t-nP4vbGnODB",
        "colab": {
          "base_uri": "https://localhost:8080/"
        },
        "outputId": "17a35d95-409b-47be-fcb5-8754182a2a6c"
      },
      "source": [
        "# Your first code here\n",
        "\n",
        "#answer:\n",
        "first=int(input(\"first:\"))\n",
        "second=int(input(\"second:\"))\n",
        "if first!=second:\n",
        "  if first>second:\n",
        "    print( \"Number {} is bigger that number {}\".format(first,second) )\n",
        "  else:\n",
        "    print( \"Number {} is bigger that number {}\".format(second,first))\n",
        "else:\n",
        "  print( \"equal\")"
      ],
      "execution_count": null,
      "outputs": [
        {
          "output_type": "stream",
          "text": [
            "first:5\n",
            "second:5\n",
            "equal\n"
          ],
          "name": "stdout"
        }
      ]
    },
    {
      "cell_type": "code",
      "metadata": {
        "colab": {
          "base_uri": "https://localhost:8080/"
        },
        "id": "Jte2MI-APonR",
        "outputId": "187c3574-def2-4a82-94c1-7bb795a5a60a"
      },
      "source": [
        "first=int(input(\"first:\"))\n",
        "second=int(input(\"second:\"))\n",
        "if first==second:\n",
        "  print(\"number{} is equal to number{}\".format(first,second))\n",
        "elif first>second:\n",
        "  print(\"number{} is bigger than number{}\".format(first,second))\n",
        "else:\n",
        "  print(\"numbe{} is smaller than number{}\".format(first,second))\n"
      ],
      "execution_count": null,
      "outputs": [
        {
          "output_type": "stream",
          "text": [
            "first:6\n",
            "second:5\n",
            "number6 is bigger than number5\n"
          ],
          "name": "stdout"
        }
      ]
    },
    {
      "cell_type": "code",
      "metadata": {
        "id": "5f6Qzy5wpdMw",
        "colab": {
          "base_uri": "https://localhost:8080/"
        },
        "outputId": "fb98660f-49c8-4965-bb71-683650e68fb1"
      },
      "source": [
        "# Your second code here\n",
        "number=int(input(\"number:\"))\n",
        "if number>10:\n",
        "  if number%2!=0:\n",
        "    print(\"number {} is  odd\".format(number))\n",
        "else:\n",
        "  print(\"number {} is less than 10\".format(number))"
      ],
      "execution_count": null,
      "outputs": [
        {
          "output_type": "stream",
          "text": [
            "number:5\n",
            "number 5 is less than 10\n"
          ],
          "name": "stdout"
        }
      ]
    },
    {
      "cell_type": "markdown",
      "metadata": {
        "id": "ZS-6lgiVphUL"
      },
      "source": [
        "### Section 3: Loops"
      ]
    },
    {
      "cell_type": "code",
      "metadata": {
        "colab": {
          "base_uri": "https://localhost:8080/"
        },
        "id": "SQritBXGp8EP",
        "outputId": "1e73d66c-b667-4583-ddcc-de74a41889e3"
      },
      "source": [
        "# for loop\n",
        "\n",
        "for i in range(3, 7):\n",
        "  print(\"Now we are at\", i)"
      ],
      "execution_count": 7,
      "outputs": [
        {
          "output_type": "stream",
          "name": "stdout",
          "text": [
            "Now we are at 3\n",
            "Now we are at 4\n",
            "Now we are at 5\n",
            "Now we are at 6\n"
          ]
        }
      ]
    },
    {
      "cell_type": "code",
      "metadata": {
        "colab": {
          "base_uri": "https://localhost:8080/"
        },
        "id": "Q56_4KOWqYVx",
        "outputId": "c3011630-341b-415f-a66d-2001941d4d46"
      },
      "source": [
        "for i in range(1, 8, 2):\n",
        "  print(i)"
      ],
      "execution_count": 9,
      "outputs": [
        {
          "output_type": "stream",
          "name": "stdout",
          "text": [
            "1\n",
            "3\n",
            "5\n",
            "7\n"
          ]
        }
      ]
    },
    {
      "cell_type": "code",
      "metadata": {
        "colab": {
          "base_uri": "https://localhost:8080/"
        },
        "id": "rbNqbFBQrWrz",
        "outputId": "deedb227-0c97-4b58-fdaa-1e7f7ef97878"
      },
      "source": [
        "# while loop (This loop is exactly like the first for loop)\n",
        "\n",
        "i = 3\n",
        "while i < 7:\n",
        "  print(\"Now we are at\", i)\n",
        "  i += 1"
      ],
      "execution_count": 10,
      "outputs": [
        {
          "output_type": "stream",
          "name": "stdout",
          "text": [
            "Now we are at 3\n",
            "Now we are at 4\n",
            "Now we are at 5\n",
            "Now we are at 6\n"
          ]
        }
      ]
    },
    {
      "cell_type": "code",
      "metadata": {
        "colab": {
          "base_uri": "https://localhost:8080/"
        },
        "id": "lT2X5YPzrhhK",
        "outputId": "24a35d24-6033-469d-e04b-97f2b640ad20"
      },
      "source": [
        "# Break can be used in both for loop and while loop\n",
        "\n",
        "i = 1\n",
        "while i < 6:\n",
        "  print(\"Now we are at\", i)\n",
        "  if i == 3:\n",
        "    break\n",
        "  i += 1"
      ],
      "execution_count": null,
      "outputs": [
        {
          "output_type": "stream",
          "text": [
            "Now we are at 1\n",
            "Now we are at 2\n",
            "Now we are at 3\n"
          ],
          "name": "stdout"
        }
      ]
    },
    {
      "cell_type": "markdown",
      "metadata": {
        "id": "62Z55ngPsj2G"
      },
      "source": [
        "#### *PRACTICE TIME: FOR SECTION 3*\n",
        "\n",
        "\n",
        "\n",
        "1.   Get the posetive integer N from the user and print the N first odd numbers.\n",
        "2.   Get the posetive integer N from the user and print if the N is prime.\n",
        "3.   Get the posetive integer N from the user and print a diamond of that size with stars. For example if N is 5 you should print this:\n",
        "\n",
        "```\n",
        "    *                                                                  \n",
        "   ***                                                                 \n",
        "  *****                                                                \n",
        " *******                                                               \n",
        "*********                                                              \n",
        " *******                                                               \n",
        "  *****                                                                \n",
        "   ***                                                                 \n",
        "    *  \n",
        "```\n",
        "\n",
        "\n",
        "\n",
        "\n"
      ]
    },
    {
      "cell_type": "code",
      "metadata": {
        "id": "8u7MvSoFrzIe",
        "colab": {
          "base_uri": "https://localhost:8080/"
        },
        "outputId": "ea08f1ad-01d5-457b-8ebd-7a63eb382abf"
      },
      "source": [
        "# Your first code here\n",
        "number=int(input(\"number:\"))\n",
        "for i in range(1,number):\n",
        "  if i%2!=0:\n",
        "    print(\"number{} is odd\".format(i))"
      ],
      "execution_count": null,
      "outputs": [
        {
          "output_type": "stream",
          "text": [
            "number:13\n",
            "number1 is odd\n",
            "number3 is odd\n",
            "number5 is odd\n",
            "number7 is odd\n",
            "number9 is odd\n",
            "number11 is odd\n"
          ],
          "name": "stdout"
        }
      ]
    },
    {
      "cell_type": "code",
      "metadata": {
        "id": "-AU1599duVUA",
        "colab": {
          "base_uri": "https://localhost:8080/"
        },
        "outputId": "53e61aa8-97fd-4678-ddf4-7c2ce63709f2"
      },
      "source": [
        "# Your second code here\n",
        "number=int(input(\"number\"))\n",
        "for i in range(2,number+1):\n",
        "   if i==number:\n",
        "    print(\"prime\")\n",
        "   elif number%i==0:\n",
        "    print(\"not prime\")\n",
        "    break\n",
        " \n",
        "\n",
        "    \n",
        "  \n",
        "  "
      ],
      "execution_count": null,
      "outputs": [
        {
          "output_type": "stream",
          "text": [
            "number4\n",
            "not prime\n"
          ],
          "name": "stdout"
        }
      ]
    },
    {
      "cell_type": "code",
      "metadata": {
        "id": "pZUKdTwzuVn0"
      },
      "source": [
        "# Your third code here\n"
      ],
      "execution_count": null,
      "outputs": []
    }
  ]
}